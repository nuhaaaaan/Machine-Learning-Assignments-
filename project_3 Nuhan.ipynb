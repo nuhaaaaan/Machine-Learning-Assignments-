{
  "cells": [
    {
      "cell_type": "markdown",
      "metadata": {
        "id": "YgFXKWl_g6Ar"
      },
      "source": [
        "Project 3: (10 points)\n",
        "your total (50 points) will divided by 5 to get 10 points for this project."
      ]
    },
    {
      "cell_type": "markdown",
      "metadata": {
        "id": "ejBaMIsShJNl"
      },
      "source": [
        "\n",
        "In this project, we will focus on the preprocessing step before building the model.\n",
        "\n",
        "We will prepare data before making a Market basket analysis, which is an algorithm originally designed to help retailers understand and improve their businesses.\n",
        "\n",
        "Also, we will do some important preprocessing step before building an unsupervised model for Customer Segments."
      ]
    },
    {
      "cell_type": "markdown",
      "metadata": {
        "id": "wGlwVCth3YX-"
      },
      "source": []
    },
    {
      "cell_type": "markdown",
      "metadata": {
        "id": "da1OV543hvGv"
      },
      "source": [
        "### Market Basket Analysis\n",
        "---\n",
        "Imagine you work for a retailer that sells dozens of products and your boss comes to you and asks the following questions:\n",
        "\n",
        "* What products are purchased together most frequently?\n",
        "* How should the products be organized and positioned in the store?\n",
        "* How do we identify the best products to discount via coupons?\n",
        "---\n",
        "##### You might reasonably respond with complete bewilderment, as those questions are very diverse and do not immediately seem answerable using a single algorithm and dataset. However, the answer to all those questions and many more is market basket analysis.\n",
        "--\n",
        "### Dataset:\n",
        "you can find the dataset on Canvas under Dataset section: \"Online Retail.xlsx\""
      ]
    },
    {
      "cell_type": "markdown",
      "metadata": {
        "id": "wwcIjv_FkKq8"
      },
      "source": [
        "### Steps to do:\n",
        "\n",
        "1- Open a Jupyter notebook.\n",
        "\n",
        "2- Install the following libraries, if not installed, and then import them:\n",
        "* matplotlib.pyplot, which is used to plot the results of the models.\n",
        "* mlxtend.frequent_patterns, which is used to run the models;\n",
        "* mlxtend.preprocessing, which is used to encode and prep the data for the models;\n",
        "* numpy, which is used to work with arrays;\n",
        "* pandas, which is used to work with DataFrames."
      ]
    },
    {
      "cell_type": "code",
      "execution_count": null,
      "metadata": {
        "id": "dCLgo8JqkQMK"
      },
      "outputs": [],
      "source": [
        "import matplotlib.pyplot as plt\n",
        "import mlxtend.frequent_patterns\n",
        "import mlxtend.preprocessing\n",
        "import numpy as np\n",
        "import pandas as pd"
      ]
    },
    {
      "cell_type": "markdown",
      "metadata": {
        "id": "cWG1Fz66kW7q"
      },
      "source": [
        "3- Loading Data ( 1 point)\n",
        "\n",
        "Load and view online retail dataset.Once you have downloaded the dataset, save it and note the path."
      ]
    },
    {
      "cell_type": "code",
      "execution_count": null,
      "metadata": {
        "id": "8mie-OzSkeNd",
        "colab": {
          "base_uri": "https://localhost:8080/"
        },
        "outputId": "3219448e-94af-4a5b-9888-0430dd482f22"
      },
      "outputs": [
        {
          "output_type": "stream",
          "name": "stderr",
          "text": [
            "/usr/local/lib/python3.10/dist-packages/ipykernel/ipkernel.py:283: DeprecationWarning: `should_run_async` will not call `transform_cell` automatically in the future. Please pass the result to `transformed_cell` argument and any exception that happen during thetransform in `preprocessing_exc_tuple` in IPython 7.17 and above.\n",
            "  and should_run_async(code)\n"
          ]
        }
      ],
      "source": [
        "# write your code here\n",
        "df = pd.read_excel('Online Retail.xlsx')"
      ]
    },
    {
      "cell_type": "markdown",
      "metadata": {
        "id": "KMTXKPNMkksH"
      },
      "source": [
        "4- Print out the first 10 rows of the DataFrame. ( 1 point)\n",
        "\n",
        "Notice that the data contains some columns that will not be relevant to market basket analysis:"
      ]
    },
    {
      "cell_type": "code",
      "execution_count": null,
      "metadata": {
        "id": "JzDdJ6Zlknig",
        "colab": {
          "base_uri": "https://localhost:8080/",
          "height": 418
        },
        "outputId": "df58bc48-608a-4622-9774-43cba23fa029"
      },
      "outputs": [
        {
          "output_type": "stream",
          "name": "stderr",
          "text": [
            "/usr/local/lib/python3.10/dist-packages/ipykernel/ipkernel.py:283: DeprecationWarning: `should_run_async` will not call `transform_cell` automatically in the future. Please pass the result to `transformed_cell` argument and any exception that happen during thetransform in `preprocessing_exc_tuple` in IPython 7.17 and above.\n",
            "  and should_run_async(code)\n"
          ]
        },
        {
          "output_type": "execute_result",
          "data": {
            "text/plain": [
              "  InvoiceNo StockCode                          Description  Quantity  \\\n",
              "0    536365    85123A   WHITE HANGING HEART T-LIGHT HOLDER         6   \n",
              "1    536365     71053                  WHITE METAL LANTERN         6   \n",
              "2    536365    84406B       CREAM CUPID HEARTS COAT HANGER         8   \n",
              "3    536365    84029G  KNITTED UNION FLAG HOT WATER BOTTLE         6   \n",
              "4    536365    84029E       RED WOOLLY HOTTIE WHITE HEART.         6   \n",
              "5    536365     22752         SET 7 BABUSHKA NESTING BOXES         2   \n",
              "6    536365     21730    GLASS STAR FROSTED T-LIGHT HOLDER         6   \n",
              "7    536366     22633               HAND WARMER UNION JACK         6   \n",
              "8    536366     22632            HAND WARMER RED POLKA DOT         6   \n",
              "9    536367     84879        ASSORTED COLOUR BIRD ORNAMENT        32   \n",
              "\n",
              "          InvoiceDate  UnitPrice  CustomerID         Country  \n",
              "0 2010-12-01 08:26:00       2.55     17850.0  United Kingdom  \n",
              "1 2010-12-01 08:26:00       3.39     17850.0  United Kingdom  \n",
              "2 2010-12-01 08:26:00       2.75     17850.0  United Kingdom  \n",
              "3 2010-12-01 08:26:00       3.39     17850.0  United Kingdom  \n",
              "4 2010-12-01 08:26:00       3.39     17850.0  United Kingdom  \n",
              "5 2010-12-01 08:26:00       7.65     17850.0  United Kingdom  \n",
              "6 2010-12-01 08:26:00       4.25     17850.0  United Kingdom  \n",
              "7 2010-12-01 08:28:00       1.85     17850.0  United Kingdom  \n",
              "8 2010-12-01 08:28:00       1.85     17850.0  United Kingdom  \n",
              "9 2010-12-01 08:34:00       1.69     13047.0  United Kingdom  "
            ],
            "text/html": [
              "\n",
              "  <div id=\"df-928e7f7b-56df-4e60-8936-976436e1cfe2\" class=\"colab-df-container\">\n",
              "    <div>\n",
              "<style scoped>\n",
              "    .dataframe tbody tr th:only-of-type {\n",
              "        vertical-align: middle;\n",
              "    }\n",
              "\n",
              "    .dataframe tbody tr th {\n",
              "        vertical-align: top;\n",
              "    }\n",
              "\n",
              "    .dataframe thead th {\n",
              "        text-align: right;\n",
              "    }\n",
              "</style>\n",
              "<table border=\"1\" class=\"dataframe\">\n",
              "  <thead>\n",
              "    <tr style=\"text-align: right;\">\n",
              "      <th></th>\n",
              "      <th>InvoiceNo</th>\n",
              "      <th>StockCode</th>\n",
              "      <th>Description</th>\n",
              "      <th>Quantity</th>\n",
              "      <th>InvoiceDate</th>\n",
              "      <th>UnitPrice</th>\n",
              "      <th>CustomerID</th>\n",
              "      <th>Country</th>\n",
              "    </tr>\n",
              "  </thead>\n",
              "  <tbody>\n",
              "    <tr>\n",
              "      <th>0</th>\n",
              "      <td>536365</td>\n",
              "      <td>85123A</td>\n",
              "      <td>WHITE HANGING HEART T-LIGHT HOLDER</td>\n",
              "      <td>6</td>\n",
              "      <td>2010-12-01 08:26:00</td>\n",
              "      <td>2.55</td>\n",
              "      <td>17850.0</td>\n",
              "      <td>United Kingdom</td>\n",
              "    </tr>\n",
              "    <tr>\n",
              "      <th>1</th>\n",
              "      <td>536365</td>\n",
              "      <td>71053</td>\n",
              "      <td>WHITE METAL LANTERN</td>\n",
              "      <td>6</td>\n",
              "      <td>2010-12-01 08:26:00</td>\n",
              "      <td>3.39</td>\n",
              "      <td>17850.0</td>\n",
              "      <td>United Kingdom</td>\n",
              "    </tr>\n",
              "    <tr>\n",
              "      <th>2</th>\n",
              "      <td>536365</td>\n",
              "      <td>84406B</td>\n",
              "      <td>CREAM CUPID HEARTS COAT HANGER</td>\n",
              "      <td>8</td>\n",
              "      <td>2010-12-01 08:26:00</td>\n",
              "      <td>2.75</td>\n",
              "      <td>17850.0</td>\n",
              "      <td>United Kingdom</td>\n",
              "    </tr>\n",
              "    <tr>\n",
              "      <th>3</th>\n",
              "      <td>536365</td>\n",
              "      <td>84029G</td>\n",
              "      <td>KNITTED UNION FLAG HOT WATER BOTTLE</td>\n",
              "      <td>6</td>\n",
              "      <td>2010-12-01 08:26:00</td>\n",
              "      <td>3.39</td>\n",
              "      <td>17850.0</td>\n",
              "      <td>United Kingdom</td>\n",
              "    </tr>\n",
              "    <tr>\n",
              "      <th>4</th>\n",
              "      <td>536365</td>\n",
              "      <td>84029E</td>\n",
              "      <td>RED WOOLLY HOTTIE WHITE HEART.</td>\n",
              "      <td>6</td>\n",
              "      <td>2010-12-01 08:26:00</td>\n",
              "      <td>3.39</td>\n",
              "      <td>17850.0</td>\n",
              "      <td>United Kingdom</td>\n",
              "    </tr>\n",
              "    <tr>\n",
              "      <th>5</th>\n",
              "      <td>536365</td>\n",
              "      <td>22752</td>\n",
              "      <td>SET 7 BABUSHKA NESTING BOXES</td>\n",
              "      <td>2</td>\n",
              "      <td>2010-12-01 08:26:00</td>\n",
              "      <td>7.65</td>\n",
              "      <td>17850.0</td>\n",
              "      <td>United Kingdom</td>\n",
              "    </tr>\n",
              "    <tr>\n",
              "      <th>6</th>\n",
              "      <td>536365</td>\n",
              "      <td>21730</td>\n",
              "      <td>GLASS STAR FROSTED T-LIGHT HOLDER</td>\n",
              "      <td>6</td>\n",
              "      <td>2010-12-01 08:26:00</td>\n",
              "      <td>4.25</td>\n",
              "      <td>17850.0</td>\n",
              "      <td>United Kingdom</td>\n",
              "    </tr>\n",
              "    <tr>\n",
              "      <th>7</th>\n",
              "      <td>536366</td>\n",
              "      <td>22633</td>\n",
              "      <td>HAND WARMER UNION JACK</td>\n",
              "      <td>6</td>\n",
              "      <td>2010-12-01 08:28:00</td>\n",
              "      <td>1.85</td>\n",
              "      <td>17850.0</td>\n",
              "      <td>United Kingdom</td>\n",
              "    </tr>\n",
              "    <tr>\n",
              "      <th>8</th>\n",
              "      <td>536366</td>\n",
              "      <td>22632</td>\n",
              "      <td>HAND WARMER RED POLKA DOT</td>\n",
              "      <td>6</td>\n",
              "      <td>2010-12-01 08:28:00</td>\n",
              "      <td>1.85</td>\n",
              "      <td>17850.0</td>\n",
              "      <td>United Kingdom</td>\n",
              "    </tr>\n",
              "    <tr>\n",
              "      <th>9</th>\n",
              "      <td>536367</td>\n",
              "      <td>84879</td>\n",
              "      <td>ASSORTED COLOUR BIRD ORNAMENT</td>\n",
              "      <td>32</td>\n",
              "      <td>2010-12-01 08:34:00</td>\n",
              "      <td>1.69</td>\n",
              "      <td>13047.0</td>\n",
              "      <td>United Kingdom</td>\n",
              "    </tr>\n",
              "  </tbody>\n",
              "</table>\n",
              "</div>\n",
              "    <div class=\"colab-df-buttons\">\n",
              "\n",
              "  <div class=\"colab-df-container\">\n",
              "    <button class=\"colab-df-convert\" onclick=\"convertToInteractive('df-928e7f7b-56df-4e60-8936-976436e1cfe2')\"\n",
              "            title=\"Convert this dataframe to an interactive table.\"\n",
              "            style=\"display:none;\">\n",
              "\n",
              "  <svg xmlns=\"http://www.w3.org/2000/svg\" height=\"24px\" viewBox=\"0 -960 960 960\">\n",
              "    <path d=\"M120-120v-720h720v720H120Zm60-500h600v-160H180v160Zm220 220h160v-160H400v160Zm0 220h160v-160H400v160ZM180-400h160v-160H180v160Zm440 0h160v-160H620v160ZM180-180h160v-160H180v160Zm440 0h160v-160H620v160Z\"/>\n",
              "  </svg>\n",
              "    </button>\n",
              "\n",
              "  <style>\n",
              "    .colab-df-container {\n",
              "      display:flex;\n",
              "      gap: 12px;\n",
              "    }\n",
              "\n",
              "    .colab-df-convert {\n",
              "      background-color: #E8F0FE;\n",
              "      border: none;\n",
              "      border-radius: 50%;\n",
              "      cursor: pointer;\n",
              "      display: none;\n",
              "      fill: #1967D2;\n",
              "      height: 32px;\n",
              "      padding: 0 0 0 0;\n",
              "      width: 32px;\n",
              "    }\n",
              "\n",
              "    .colab-df-convert:hover {\n",
              "      background-color: #E2EBFA;\n",
              "      box-shadow: 0px 1px 2px rgba(60, 64, 67, 0.3), 0px 1px 3px 1px rgba(60, 64, 67, 0.15);\n",
              "      fill: #174EA6;\n",
              "    }\n",
              "\n",
              "    .colab-df-buttons div {\n",
              "      margin-bottom: 4px;\n",
              "    }\n",
              "\n",
              "    [theme=dark] .colab-df-convert {\n",
              "      background-color: #3B4455;\n",
              "      fill: #D2E3FC;\n",
              "    }\n",
              "\n",
              "    [theme=dark] .colab-df-convert:hover {\n",
              "      background-color: #434B5C;\n",
              "      box-shadow: 0px 1px 3px 1px rgba(0, 0, 0, 0.15);\n",
              "      filter: drop-shadow(0px 1px 2px rgba(0, 0, 0, 0.3));\n",
              "      fill: #FFFFFF;\n",
              "    }\n",
              "  </style>\n",
              "\n",
              "    <script>\n",
              "      const buttonEl =\n",
              "        document.querySelector('#df-928e7f7b-56df-4e60-8936-976436e1cfe2 button.colab-df-convert');\n",
              "      buttonEl.style.display =\n",
              "        google.colab.kernel.accessAllowed ? 'block' : 'none';\n",
              "\n",
              "      async function convertToInteractive(key) {\n",
              "        const element = document.querySelector('#df-928e7f7b-56df-4e60-8936-976436e1cfe2');\n",
              "        const dataTable =\n",
              "          await google.colab.kernel.invokeFunction('convertToInteractive',\n",
              "                                                    [key], {});\n",
              "        if (!dataTable) return;\n",
              "\n",
              "        const docLinkHtml = 'Like what you see? Visit the ' +\n",
              "          '<a target=\"_blank\" href=https://colab.research.google.com/notebooks/data_table.ipynb>data table notebook</a>'\n",
              "          + ' to learn more about interactive tables.';\n",
              "        element.innerHTML = '';\n",
              "        dataTable['output_type'] = 'display_data';\n",
              "        await google.colab.output.renderOutput(dataTable, element);\n",
              "        const docLink = document.createElement('div');\n",
              "        docLink.innerHTML = docLinkHtml;\n",
              "        element.appendChild(docLink);\n",
              "      }\n",
              "    </script>\n",
              "  </div>\n",
              "\n",
              "\n",
              "<div id=\"df-0d1811a9-7482-4d0b-8bf7-17d12be23e63\">\n",
              "  <button class=\"colab-df-quickchart\" onclick=\"quickchart('df-0d1811a9-7482-4d0b-8bf7-17d12be23e63')\"\n",
              "            title=\"Suggest charts\"\n",
              "            style=\"display:none;\">\n",
              "\n",
              "<svg xmlns=\"http://www.w3.org/2000/svg\" height=\"24px\"viewBox=\"0 0 24 24\"\n",
              "     width=\"24px\">\n",
              "    <g>\n",
              "        <path d=\"M19 3H5c-1.1 0-2 .9-2 2v14c0 1.1.9 2 2 2h14c1.1 0 2-.9 2-2V5c0-1.1-.9-2-2-2zM9 17H7v-7h2v7zm4 0h-2V7h2v10zm4 0h-2v-4h2v4z\"/>\n",
              "    </g>\n",
              "</svg>\n",
              "  </button>\n",
              "\n",
              "<style>\n",
              "  .colab-df-quickchart {\n",
              "      --bg-color: #E8F0FE;\n",
              "      --fill-color: #1967D2;\n",
              "      --hover-bg-color: #E2EBFA;\n",
              "      --hover-fill-color: #174EA6;\n",
              "      --disabled-fill-color: #AAA;\n",
              "      --disabled-bg-color: #DDD;\n",
              "  }\n",
              "\n",
              "  [theme=dark] .colab-df-quickchart {\n",
              "      --bg-color: #3B4455;\n",
              "      --fill-color: #D2E3FC;\n",
              "      --hover-bg-color: #434B5C;\n",
              "      --hover-fill-color: #FFFFFF;\n",
              "      --disabled-bg-color: #3B4455;\n",
              "      --disabled-fill-color: #666;\n",
              "  }\n",
              "\n",
              "  .colab-df-quickchart {\n",
              "    background-color: var(--bg-color);\n",
              "    border: none;\n",
              "    border-radius: 50%;\n",
              "    cursor: pointer;\n",
              "    display: none;\n",
              "    fill: var(--fill-color);\n",
              "    height: 32px;\n",
              "    padding: 0;\n",
              "    width: 32px;\n",
              "  }\n",
              "\n",
              "  .colab-df-quickchart:hover {\n",
              "    background-color: var(--hover-bg-color);\n",
              "    box-shadow: 0 1px 2px rgba(60, 64, 67, 0.3), 0 1px 3px 1px rgba(60, 64, 67, 0.15);\n",
              "    fill: var(--button-hover-fill-color);\n",
              "  }\n",
              "\n",
              "  .colab-df-quickchart-complete:disabled,\n",
              "  .colab-df-quickchart-complete:disabled:hover {\n",
              "    background-color: var(--disabled-bg-color);\n",
              "    fill: var(--disabled-fill-color);\n",
              "    box-shadow: none;\n",
              "  }\n",
              "\n",
              "  .colab-df-spinner {\n",
              "    border: 2px solid var(--fill-color);\n",
              "    border-color: transparent;\n",
              "    border-bottom-color: var(--fill-color);\n",
              "    animation:\n",
              "      spin 1s steps(1) infinite;\n",
              "  }\n",
              "\n",
              "  @keyframes spin {\n",
              "    0% {\n",
              "      border-color: transparent;\n",
              "      border-bottom-color: var(--fill-color);\n",
              "      border-left-color: var(--fill-color);\n",
              "    }\n",
              "    20% {\n",
              "      border-color: transparent;\n",
              "      border-left-color: var(--fill-color);\n",
              "      border-top-color: var(--fill-color);\n",
              "    }\n",
              "    30% {\n",
              "      border-color: transparent;\n",
              "      border-left-color: var(--fill-color);\n",
              "      border-top-color: var(--fill-color);\n",
              "      border-right-color: var(--fill-color);\n",
              "    }\n",
              "    40% {\n",
              "      border-color: transparent;\n",
              "      border-right-color: var(--fill-color);\n",
              "      border-top-color: var(--fill-color);\n",
              "    }\n",
              "    60% {\n",
              "      border-color: transparent;\n",
              "      border-right-color: var(--fill-color);\n",
              "    }\n",
              "    80% {\n",
              "      border-color: transparent;\n",
              "      border-right-color: var(--fill-color);\n",
              "      border-bottom-color: var(--fill-color);\n",
              "    }\n",
              "    90% {\n",
              "      border-color: transparent;\n",
              "      border-bottom-color: var(--fill-color);\n",
              "    }\n",
              "  }\n",
              "</style>\n",
              "\n",
              "  <script>\n",
              "    async function quickchart(key) {\n",
              "      const quickchartButtonEl =\n",
              "        document.querySelector('#' + key + ' button');\n",
              "      quickchartButtonEl.disabled = true;  // To prevent multiple clicks.\n",
              "      quickchartButtonEl.classList.add('colab-df-spinner');\n",
              "      try {\n",
              "        const charts = await google.colab.kernel.invokeFunction(\n",
              "            'suggestCharts', [key], {});\n",
              "      } catch (error) {\n",
              "        console.error('Error during call to suggestCharts:', error);\n",
              "      }\n",
              "      quickchartButtonEl.classList.remove('colab-df-spinner');\n",
              "      quickchartButtonEl.classList.add('colab-df-quickchart-complete');\n",
              "    }\n",
              "    (() => {\n",
              "      let quickchartButtonEl =\n",
              "        document.querySelector('#df-0d1811a9-7482-4d0b-8bf7-17d12be23e63 button');\n",
              "      quickchartButtonEl.style.display =\n",
              "        google.colab.kernel.accessAllowed ? 'block' : 'none';\n",
              "    })();\n",
              "  </script>\n",
              "</div>\n",
              "\n",
              "    </div>\n",
              "  </div>\n"
            ],
            "application/vnd.google.colaboratory.intrinsic+json": {
              "type": "dataframe",
              "variable_name": "df"
            }
          },
          "metadata": {},
          "execution_count": 4
        }
      ],
      "source": [
        "# write your code here\n",
        "df.head(10)"
      ]
    },
    {
      "cell_type": "markdown",
      "metadata": {
        "id": "XjzSRKYQkqny"
      },
      "source": [
        "5- Print out the data type for each column in the DataFrame. (1 point)\n",
        "\n",
        "This information will come in handy when trying to perform specific cleaning tasks. Columns need to be of the correct type in order for filtering and computing to execute as expected:"
      ]
    },
    {
      "cell_type": "code",
      "execution_count": null,
      "metadata": {
        "id": "xQumi7oWksza",
        "colab": {
          "base_uri": "https://localhost:8080/",
          "height": 390
        },
        "outputId": "e383fa60-bfec-4328-8b8e-0698199a133a"
      },
      "outputs": [
        {
          "output_type": "stream",
          "name": "stderr",
          "text": [
            "/usr/local/lib/python3.10/dist-packages/ipykernel/ipkernel.py:283: DeprecationWarning: `should_run_async` will not call `transform_cell` automatically in the future. Please pass the result to `transformed_cell` argument and any exception that happen during thetransform in `preprocessing_exc_tuple` in IPython 7.17 and above.\n",
            "  and should_run_async(code)\n"
          ]
        },
        {
          "output_type": "execute_result",
          "data": {
            "text/plain": [
              "InvoiceNo              object\n",
              "StockCode              object\n",
              "Description            object\n",
              "Quantity                int64\n",
              "InvoiceDate    datetime64[ns]\n",
              "UnitPrice             float64\n",
              "CustomerID            float64\n",
              "Country                object\n",
              "dtype: object"
            ],
            "text/html": [
              "<div>\n",
              "<style scoped>\n",
              "    .dataframe tbody tr th:only-of-type {\n",
              "        vertical-align: middle;\n",
              "    }\n",
              "\n",
              "    .dataframe tbody tr th {\n",
              "        vertical-align: top;\n",
              "    }\n",
              "\n",
              "    .dataframe thead th {\n",
              "        text-align: right;\n",
              "    }\n",
              "</style>\n",
              "<table border=\"1\" class=\"dataframe\">\n",
              "  <thead>\n",
              "    <tr style=\"text-align: right;\">\n",
              "      <th></th>\n",
              "      <th>0</th>\n",
              "    </tr>\n",
              "  </thead>\n",
              "  <tbody>\n",
              "    <tr>\n",
              "      <th>InvoiceNo</th>\n",
              "      <td>object</td>\n",
              "    </tr>\n",
              "    <tr>\n",
              "      <th>StockCode</th>\n",
              "      <td>object</td>\n",
              "    </tr>\n",
              "    <tr>\n",
              "      <th>Description</th>\n",
              "      <td>object</td>\n",
              "    </tr>\n",
              "    <tr>\n",
              "      <th>Quantity</th>\n",
              "      <td>int64</td>\n",
              "    </tr>\n",
              "    <tr>\n",
              "      <th>InvoiceDate</th>\n",
              "      <td>datetime64[ns]</td>\n",
              "    </tr>\n",
              "    <tr>\n",
              "      <th>UnitPrice</th>\n",
              "      <td>float64</td>\n",
              "    </tr>\n",
              "    <tr>\n",
              "      <th>CustomerID</th>\n",
              "      <td>float64</td>\n",
              "    </tr>\n",
              "    <tr>\n",
              "      <th>Country</th>\n",
              "      <td>object</td>\n",
              "    </tr>\n",
              "  </tbody>\n",
              "</table>\n",
              "</div><br><label><b>dtype:</b> object</label>"
            ]
          },
          "metadata": {},
          "execution_count": 5
        }
      ],
      "source": [
        "# write your code here\n",
        "df.dtypes"
      ]
    },
    {
      "cell_type": "markdown",
      "metadata": {
        "id": "IwxWJbQskwAM"
      },
      "source": [
        "6- Get and print the dimensions of the DataFrame, as well as the number of unique invoice numbers and customer identifications (2 points)"
      ]
    },
    {
      "cell_type": "code",
      "execution_count": null,
      "metadata": {
        "id": "9fecqG66kyUM",
        "colab": {
          "base_uri": "https://localhost:8080/"
        },
        "outputId": "11b4f6ed-a3ca-48a6-ceba-32485a631e86"
      },
      "outputs": [
        {
          "output_type": "stream",
          "name": "stdout",
          "text": [
            "Dimensions of the DataFrame: (541909, 8)\n",
            "Number of unique invoice numbers: 25900\n",
            "Number of unique customer identifications: 4372\n",
            "Dimension of the dataframe:  (541909, 8)\n",
            "Number of unique invoice numbers:  25900\n",
            "Number of unique Customer Identifications:  4373\n"
          ]
        },
        {
          "output_type": "stream",
          "name": "stderr",
          "text": [
            "/usr/local/lib/python3.10/dist-packages/ipykernel/ipkernel.py:283: DeprecationWarning: `should_run_async` will not call `transform_cell` automatically in the future. Please pass the result to `transformed_cell` argument and any exception that happen during thetransform in `preprocessing_exc_tuple` in IPython 7.17 and above.\n",
            "  and should_run_async(code)\n"
          ]
        }
      ],
      "source": [
        "# write your code here\n",
        "# Assuming the DataFrame is named 'df'\n",
        "# Print dimensions of the DataFrame\n",
        "dimensions = df.shape\n",
        "print(f\"Dimensions of the DataFrame: {dimensions}\")\n",
        "\n",
        "# Count the number of unique invoice numbers\n",
        "unique_invoices = df['InvoiceNo'].nunique()\n",
        "print(f\"Number of unique invoice numbers: {unique_invoices}\")\n",
        "\n",
        "# Count the number of unique customer IDs\n",
        "unique_customers = df['CustomerID'].nunique()\n",
        "print(f\"Number of unique customer identifications: {unique_customers}\")\n",
        "\n",
        "print('Dimension of the dataframe: ',df.shape)\n",
        "print('Number of unique invoice numbers: ',len(df['InvoiceNo'].unique()))\n",
        "print('Number of unique Customer Identifications: ',len(df['CustomerID'].unique()))"
      ]
    },
    {
      "cell_type": "markdown",
      "metadata": {
        "id": "4W8ph75ck1lu"
      },
      "source": [
        "7- Data Cleaning and Formatting:\n",
        "\n",
        "a. Create an indicator column stipulating whether the invoice number begins with \"C\". Called the column \"IsCPresent\" ( 1 points)"
      ]
    },
    {
      "cell_type": "code",
      "execution_count": null,
      "metadata": {
        "id": "h66BgH-gk4o7",
        "colab": {
          "base_uri": "https://localhost:8080/"
        },
        "outputId": "dc7aa5e8-450f-4d73-e2a6-cca733074476"
      },
      "outputs": [
        {
          "output_type": "stream",
          "name": "stderr",
          "text": [
            "/usr/local/lib/python3.10/dist-packages/ipykernel/ipkernel.py:283: DeprecationWarning: `should_run_async` will not call `transform_cell` automatically in the future. Please pass the result to `transformed_cell` argument and any exception that happen during thetransform in `preprocessing_exc_tuple` in IPython 7.17 and above.\n",
            "  and should_run_async(code)\n"
          ]
        },
        {
          "output_type": "stream",
          "name": "stdout",
          "text": [
            "  InvoiceNo  IsCPresent\n",
            "0    536365           0\n",
            "1    536365           0\n",
            "2    536365           0\n",
            "3    536365           0\n",
            "4    536365           0\n"
          ]
        }
      ],
      "source": [
        "# Create the indicator column\n",
        "df['IsCPresent'] = df['InvoiceNo'].astype(str).str.startswith('C').astype(int)\n",
        "\n",
        "# Display the first few rows to verify\n",
        "print(df[['InvoiceNo', 'IsCPresent']].head())"
      ]
    },
    {
      "cell_type": "markdown",
      "metadata": {
        "id": "29SGnBKUk5vx"
      },
      "source": [
        "b. (3 points)\n",
        "- Filter out all transactions having either zero or a negative number of items (in other words, items were returned),\n",
        "- Remove all invoice numbers starting with \"C\" using the column created in previous step\n",
        "- Subset the DataFrame down to InvoiceNo and Description\n",
        "- Drop all rows with at least one missing value.\n",
        "- Rename the DataFrame online1 and print out the first 10 rows of the filtered DataFrame, online1."
      ]
    },
    {
      "cell_type": "code",
      "execution_count": null,
      "metadata": {
        "id": "pjoR-GvqolGm",
        "colab": {
          "base_uri": "https://localhost:8080/"
        },
        "outputId": "7c639f04-eeca-40ad-e626-02ec14fc0be8"
      },
      "outputs": [
        {
          "output_type": "stream",
          "name": "stderr",
          "text": [
            "/usr/local/lib/python3.10/dist-packages/ipykernel/ipkernel.py:283: DeprecationWarning: `should_run_async` will not call `transform_cell` automatically in the future. Please pass the result to `transformed_cell` argument and any exception that happen during thetransform in `preprocessing_exc_tuple` in IPython 7.17 and above.\n",
            "  and should_run_async(code)\n"
          ]
        },
        {
          "output_type": "stream",
          "name": "stdout",
          "text": [
            "  InvoiceNo                          Description\n",
            "0    536365   WHITE HANGING HEART T-LIGHT HOLDER\n",
            "1    536365                  WHITE METAL LANTERN\n",
            "2    536365       CREAM CUPID HEARTS COAT HANGER\n",
            "3    536365  KNITTED UNION FLAG HOT WATER BOTTLE\n",
            "4    536365       RED WOOLLY HOTTIE WHITE HEART.\n",
            "5    536365         SET 7 BABUSHKA NESTING BOXES\n",
            "6    536365    GLASS STAR FROSTED T-LIGHT HOLDER\n",
            "7    536366               HAND WARMER UNION JACK\n",
            "8    536366            HAND WARMER RED POLKA DOT\n",
            "9    536367        ASSORTED COLOUR BIRD ORNAMENT\n"
          ]
        }
      ],
      "source": [
        "# Step 1: Filter out transactions where the number of items is zero or negative\n",
        "df_filtered = df[df['Quantity'] > 0]\n",
        "\n",
        "# Step 2: Remove invoice numbers starting with 'C' using the 'IsCPresent' column\n",
        "df_filtered = df_filtered[df_filtered['IsCPresent'] == 0]\n",
        "\n",
        "# Step 3: Subset the DataFrame to include only 'InvoiceNo' and 'Description'\n",
        "df_filtered = df_filtered[['InvoiceNo', 'Description']]\n",
        "\n",
        "# Step 4: Drop rows with any missing values\n",
        "df_filtered = df_filtered.dropna()\n",
        "\n",
        "# Step 5: Rename the DataFrame as 'online1'\n",
        "online1 = df_filtered\n",
        "\n",
        "# Step 6: Print the first 10 rows of 'online1'\n",
        "print(online1.head(10))"
      ]
    },
    {
      "cell_type": "markdown",
      "metadata": {
        "id": "nKviaPYklDWn"
      },
      "source": [
        "c. Approximately, how many rows and invoice numbers have already removed? ( 2 points)\n",
        "\n",
        "--\n",
        "Explanation:\n",
        "len(df) gives the number of rows before filtering.\n",
        "len(online1) gives the number of rows after filtering.\n",
        "df['InvoiceNo'].nunique() counts the unique invoice numbers before filtering.\n",
        "online1['InvoiceNo'].nunique() counts the unique invoice numbers after filtering."
      ]
    },
    {
      "cell_type": "code",
      "execution_count": null,
      "metadata": {
        "id": "DDD6mTJRlFus"
      },
      "outputs": [],
      "source": [
        "#write your code here to prove your answer:\n",
        "# Number of rows before any filtering\n",
        "initial_row_count = len(df)\n",
        "\n",
        "# Number of rows after all filtering steps\n",
        "final_row_count = len(online1)\n",
        "\n",
        "# Calculate the number of rows removed\n",
        "rows_removed = initial_row_count - final_row_count\n",
        "\n",
        "# Number of unique invoice numbers before and after filtering\n",
        "initial_invoice_count = df['InvoiceNo'].nunique()\n",
        "final_invoice_count = online1['InvoiceNo'].nunique()\n",
        "\n",
        "# Calculate the number of invoice numbers removed\n",
        "invoice_numbers_removed = initial_invoice_count - final_invoice_count\n",
        "\n",
        "# Print the results\n",
        "print(f\"Approximately {rows_removed} rows and {invoice_numbers_removed} invoice numbers have been removed.\")\n"
      ]
    },
    {
      "cell_type": "markdown",
      "metadata": {
        "id": "lUjagck4lXNV"
      },
      "source": [
        "d. (2 points)\n",
        "- Extract the invoice numbers from the DataFrame as a list.\n",
        "- Remove duplicate elements to create a list of unique invoice numbers.\n",
        "- Confirm that the process was successful by printing the length of the list of unique invoice numbers."
      ]
    },
    {
      "cell_type": "code",
      "execution_count": null,
      "metadata": {
        "id": "2zBLgtfKla5p",
        "colab": {
          "base_uri": "https://localhost:8080/"
        },
        "outputId": "12da78cf-cead-4fe4-b770-de1e84af4e5a"
      },
      "outputs": [
        {
          "output_type": "stream",
          "name": "stdout",
          "text": [
            "Length of the unique invoice numbers list: 20136\n"
          ]
        },
        {
          "output_type": "stream",
          "name": "stderr",
          "text": [
            "/usr/local/lib/python3.10/dist-packages/ipykernel/ipkernel.py:283: DeprecationWarning: `should_run_async` will not call `transform_cell` automatically in the future. Please pass the result to `transformed_cell` argument and any exception that happen during thetransform in `preprocessing_exc_tuple` in IPython 7.17 and above.\n",
            "  and should_run_async(code)\n"
          ]
        }
      ],
      "source": [
        "# write your code here\n",
        "# Extract invoice numbers as a list\n",
        "invoice_list = online1['InvoiceNo'].tolist()\n",
        "\n",
        "# Remove duplicate elements to create a list of unique invoice numbers\n",
        "unique_invoice_list = list(set(invoice_list))\n",
        "\n",
        "# Print the length of the list of unique invoice numbers\n",
        "print(f\"Length of the unique invoice numbers list: {len(unique_invoice_list)}\")\n",
        "\n",
        "\n"
      ]
    },
    {
      "cell_type": "markdown",
      "metadata": {
        "id": "Bgt43yxElen8"
      },
      "source": [
        "e. Take the list from step d and cut it to only include the first 5,000 elements. Print out the length of the new list to confirm that it is, in fact, the expected length of 5,000( 1 point)"
      ]
    },
    {
      "cell_type": "code",
      "execution_count": null,
      "metadata": {
        "id": "CZAyLfinliQx",
        "colab": {
          "base_uri": "https://localhost:8080/"
        },
        "outputId": "60d49b96-1cf1-4a0e-8dec-717e0caf6b15"
      },
      "outputs": [
        {
          "output_type": "stream",
          "name": "stdout",
          "text": [
            "Length of the limited invoice numbers list: 5000\n"
          ]
        },
        {
          "output_type": "stream",
          "name": "stderr",
          "text": [
            "/usr/local/lib/python3.10/dist-packages/ipykernel/ipkernel.py:283: DeprecationWarning: `should_run_async` will not call `transform_cell` automatically in the future. Please pass the result to `transformed_cell` argument and any exception that happen during thetransform in `preprocessing_exc_tuple` in IPython 7.17 and above.\n",
            "  and should_run_async(code)\n"
          ]
        }
      ],
      "source": [
        "# write your code here\n",
        "# Cut the unique invoice list to include only the first 5,000 elements\n",
        "limited_invoice_list = unique_invoice_list[:5000]\n",
        "\n",
        "# Print the length of the new list to confirm it is 5,000\n",
        "print(f\"Length of the limited invoice numbers list: {len(limited_invoice_list)}\")\n"
      ]
    },
    {
      "cell_type": "markdown",
      "metadata": {
        "id": "pVgjErInlmQH"
      },
      "source": [
        "f. Filter the online1 DataFrame down by only keeping the invoice numbers in the list from step e and print out the first 10 rows of online1( 1 point)"
      ]
    },
    {
      "cell_type": "code",
      "execution_count": null,
      "metadata": {
        "id": "1OVhCiwglpsD",
        "colab": {
          "base_uri": "https://localhost:8080/"
        },
        "outputId": "414e12a0-bcea-4e95-d463-257913bc2131"
      },
      "outputs": [
        {
          "output_type": "stream",
          "name": "stdout",
          "text": [
            "  InvoiceNo                          Description\n",
            "0    536365   WHITE HANGING HEART T-LIGHT HOLDER\n",
            "1    536365                  WHITE METAL LANTERN\n",
            "2    536365       CREAM CUPID HEARTS COAT HANGER\n",
            "3    536365  KNITTED UNION FLAG HOT WATER BOTTLE\n",
            "4    536365       RED WOOLLY HOTTIE WHITE HEART.\n",
            "5    536365         SET 7 BABUSHKA NESTING BOXES\n",
            "6    536365    GLASS STAR FROSTED T-LIGHT HOLDER\n",
            "7    536366               HAND WARMER UNION JACK\n",
            "8    536366            HAND WARMER RED POLKA DOT\n",
            "9    536367        ASSORTED COLOUR BIRD ORNAMENT\n"
          ]
        },
        {
          "output_type": "stream",
          "name": "stderr",
          "text": [
            "/usr/local/lib/python3.10/dist-packages/ipykernel/ipkernel.py:283: DeprecationWarning: `should_run_async` will not call `transform_cell` automatically in the future. Please pass the result to `transformed_cell` argument and any exception that happen during thetransform in `preprocessing_exc_tuple` in IPython 7.17 and above.\n",
            "  and should_run_async(code)\n"
          ]
        }
      ],
      "source": [
        "# write your code here\n",
        "# Filter the online1 DataFrame to keep only rows with invoice numbers in the limited_invoice_list\n",
        "online1_filtered = online1[online1['InvoiceNo'].isin(limited_invoice_list)]\n",
        "\n",
        "# Print the first 10 rows of the filtered DataFrame\n",
        "print(online1_filtered.head(10))"
      ]
    },
    {
      "cell_type": "markdown",
      "metadata": {
        "id": "a0qukXPhlrGY"
      },
      "source": [
        "g. Print out the dimensions of the DataFrame (online1) and the number of unique invoice numbers to confirm that the filtering and cleaning process was successful (1 point)"
      ]
    },
    {
      "cell_type": "code",
      "execution_count": null,
      "metadata": {
        "id": "jGEjdeV_lwdy",
        "colab": {
          "base_uri": "https://localhost:8080/"
        },
        "outputId": "62f671f9-b28a-4137-e2d6-049b4688e9ff"
      },
      "outputs": [
        {
          "output_type": "stream",
          "name": "stdout",
          "text": [
            "Dimensions of the DataFrame: (530693, 2)\n",
            "Number of unique invoice numbers: 20136\n"
          ]
        },
        {
          "output_type": "stream",
          "name": "stderr",
          "text": [
            "/usr/local/lib/python3.10/dist-packages/ipykernel/ipkernel.py:283: DeprecationWarning: `should_run_async` will not call `transform_cell` automatically in the future. Please pass the result to `transformed_cell` argument and any exception that happen during thetransform in `preprocessing_exc_tuple` in IPython 7.17 and above.\n",
            "  and should_run_async(code)\n"
          ]
        }
      ],
      "source": [
        "# write your code here\n",
        "# Print the dimensions of the online1 DataFrame\n",
        "print(f\"Dimensions of the DataFrame: {online1.shape}\")\n",
        "\n",
        "# Print the number of unique invoice numbers\n",
        "unique_invoice_count = online1['InvoiceNo'].nunique()\n",
        "print(f\"Number of unique invoice numbers: {unique_invoice_count}\")"
      ]
    },
    {
      "cell_type": "markdown",
      "metadata": {
        "id": "ELrV7XgAl1or"
      },
      "source": [
        "h. Transform the data in online1 into the aforementioned list of lists called invoice_item_list. The process for doing this is to iterate over the unique invoice numbers and, at each iteration, extract the item descriptions as a list and append that list to the larger invoice_item_list list. Print out elements one through four of the list (2 points)"
      ]
    },
    {
      "cell_type": "code",
      "execution_count": null,
      "metadata": {
        "id": "A3TjwnQ1ouSB",
        "colab": {
          "base_uri": "https://localhost:8080/"
        },
        "outputId": "680202e4-40af-4ec0-af4c-24248e1575b0"
      },
      "outputs": [
        {
          "output_type": "stream",
          "name": "stderr",
          "text": [
            "/usr/local/lib/python3.10/dist-packages/ipykernel/ipkernel.py:283: DeprecationWarning: `should_run_async` will not call `transform_cell` automatically in the future. Please pass the result to `transformed_cell` argument and any exception that happen during thetransform in `preprocessing_exc_tuple` in IPython 7.17 and above.\n",
            "  and should_run_async(code)\n"
          ]
        }
      ],
      "source": [
        "# write your code here\n",
        "# Initialize an empty list to store the lists of item descriptions\n",
        "invoice_item_list = []\n",
        "\n",
        "# Iterate over each unique invoice number in the DataFrame\n",
        "for invoice_no in online1['InvoiceNo'].unique():\n",
        "    # Extract item descriptions for the current invoice number\n",
        "    item_descriptions = online1[online1['InvoiceNo'] == invoice_no]['Description'].tolist()\n",
        "\n",
        "    # Append the list of item descriptions to the larger invoice_item_list\n",
        "    invoice_item_list.append(item_descriptions)\n",
        "\n",
        "# Print elements one through four of the invoice_item_list\n",
        "print(invoice_item_list[:4])"
      ]
    },
    {
      "cell_type": "markdown",
      "metadata": {
        "id": "LGDI2Nt9l8yK"
      },
      "source": [
        "8- Data Encoding\n",
        "\n",
        "While cleaning the data is crucial, the most important part of the data preparation process is molding the data into the correct form. Before running the models, the data, currently in the list of lists form, needs to be encoded and recast as a DataFrame.\n",
        "\n",
        "To do this, we will leverage TransactionEncoder from the preprocessing module of mlxtend. The output from the encoder is a multidimensional array, where each row is the length of the total number of unique items in the transaction dataset and the elements are Boolean variables, indicating whether that particular item is linked to the invoice number that row represents. With the data encoded, we can recast it as a DataFrame where the rows are the invoice numbers and the columns are the unique items in the transaction dataset.\n",
        "\n",
        "The data encoding will be done using mlxtend, but if you wish to encode the data without using a package, you are free.\n",
        "\n",
        "More info about mlxtend in the link: https://rasbt.github.io/mlxtend/\n",
        "\n",
        "a. Initialize and fit the transaction encoder. Print out an example of the resulting data. (2 points)"
      ]
    },
    {
      "cell_type": "code",
      "execution_count": null,
      "metadata": {
        "id": "c8JKo9ecmC5o"
      },
      "outputs": [],
      "source": [
        "# write your code here\n",
        "from mlxtend.preprocessing import TransactionEncoder\n",
        "import pandas as pd\n",
        "\n",
        "# Initialize the TransactionEncoder\n",
        "te = TransactionEncoder()\n",
        "\n",
        "# Fit the encoder to the invoice_item_list\n",
        "te.fit(invoice_item_list)\n",
        "\n",
        "# Transform the data into a boolean matrix\n",
        "encoded_data = te.transform(invoice_item_list)\n",
        "\n",
        "# Convert the encoded data to a DataFrame\n",
        "encoded_df = pd.DataFrame(encoded_data, columns=te.columns_)\n",
        "\n",
        "# Print an example of the resulting data (first 5 rows)\n",
        "print(encoded_df.head())\n"
      ]
    },
    {
      "cell_type": "markdown",
      "metadata": {
        "id": "E3ElUp84mF_4"
      },
      "source": [
        "b. Recast the encoded array as a DataFrame named online_encoder_df. Print the predefined subset of the DataFrame that features both True and False values (2 points)"
      ]
    },
    {
      "cell_type": "code",
      "execution_count": null,
      "metadata": {
        "id": "oX9c8MZ4l5BM"
      },
      "outputs": [],
      "source": [
        "# write your code here\n",
        "# Recast the encoded array as a DataFrame named online_encoder_df\n",
        "online_encoder_df = pd.DataFrame(encoded_data, columns=te.columns_)\n",
        "\n",
        "# Print a subset of the DataFrame to show both True and False values\n",
        "# For this example, we'll print the first 10 rows and 5 columns to show a mix of True and False\n",
        "print(online_encoder_df.iloc[:10, :5])\n"
      ]
    },
    {
      "cell_type": "markdown",
      "metadata": {
        "id": "FDG6mHIao4Es"
      },
      "source": [
        "c. Print out the dimensions of the encoded DataFrame. It should have 5,000 rows because the data used to generate it was previously filtered down to 5,000 unique invoice numbers. (1 point)"
      ]
    },
    {
      "cell_type": "code",
      "execution_count": null,
      "metadata": {
        "id": "qbneZjbKk__P"
      },
      "outputs": [],
      "source": [
        "# write your code here\n",
        "# Print the dimensions of the encoded DataFrame\n",
        "print(f\"Dimensions of the encoded DataFrame: {online_encoder_df.shape}\")"
      ]
    },
    {
      "cell_type": "markdown",
      "metadata": {
        "id": "MDepnejUpB7u"
      },
      "source": [
        "#### The data is now prepared for modeling.\n",
        "---"
      ]
    },
    {
      "cell_type": "markdown",
      "metadata": {
        "id": "Q7gpFsB0pbvv"
      },
      "source": [
        "### Wholesale Data\n",
        "\n",
        "we will analyze a dataset containing data on various customers' annual spending amounts (reported in monetary units) of diverse product categories for internal structure. One goal of this project is to best describe the variation in the different types of customers that a wholesale distributor interacts with. Doing so would equip the distributor with insight into how to best structure their delivery service to meet the needs of each customer.\n",
        "\n",
        "--\n",
        "### Dataset:\n",
        "you can find the dataset on Canvas under Dataset section: \"wholesale_customers_data.csv\""
      ]
    },
    {
      "cell_type": "code",
      "execution_count": null,
      "metadata": {
        "ExecuteTime": {
          "end_time": "2018-01-09T00:25:36.756020Z",
          "start_time": "2018-01-09T00:25:34.246895Z"
        },
        "id": "7cLIlYcgY9Rm"
      },
      "outputs": [],
      "source": [
        "import pandas as pd\n",
        "import numpy as np\n",
        "from numpy.linalg import inv\n",
        "from numpy.random import uniform, multivariate_normal, rand, randn, seed\n",
        "from itertools import repeat\n",
        "from time import time\n",
        "import matplotlib.pyplot as plt\n",
        "from mpl_toolkits.mplot3d import Axes3D\n",
        "from matplotlib import gridspec\n",
        "from matplotlib.colors import to_rgba\n",
        "import seaborn as sns\n",
        "from sklearn.decomposition import PCA\n",
        "from sklearn.neighbors import LocalOutlierFactor\n",
        "from scipy.stats import jarque_bera, normaltest\n",
        "import matplotlib.pyplot as plt\n",
        "import scipy.stats as stats"
      ]
    },
    {
      "cell_type": "markdown",
      "metadata": {
        "id": "IzbwQeO4aKVm"
      },
      "source": [
        "1. Load the wholesale customers dataset (1 point)"
      ]
    },
    {
      "cell_type": "code",
      "execution_count": null,
      "metadata": {
        "id": "AajRmspuZRC9",
        "outputId": "b5e63655-a074-4fbf-85a7-c0e62f8e6ae7"
      },
      "outputs": [
        {
          "data": {
            "text/html": [
              "<div>\n",
              "<style scoped>\n",
              "    .dataframe tbody tr th:only-of-type {\n",
              "        vertical-align: middle;\n",
              "    }\n",
              "\n",
              "    .dataframe tbody tr th {\n",
              "        vertical-align: top;\n",
              "    }\n",
              "\n",
              "    .dataframe thead th {\n",
              "        text-align: right;\n",
              "    }\n",
              "</style>\n",
              "<table border=\"1\" class=\"dataframe\">\n",
              "  <thead>\n",
              "    <tr style=\"text-align: right;\">\n",
              "      <th></th>\n",
              "      <th>Channel</th>\n",
              "      <th>Region</th>\n",
              "      <th>Fresh</th>\n",
              "      <th>Milk</th>\n",
              "      <th>Grocery</th>\n",
              "      <th>Frozen</th>\n",
              "      <th>Detergents_Paper</th>\n",
              "      <th>Delicatessen</th>\n",
              "    </tr>\n",
              "  </thead>\n",
              "  <tbody>\n",
              "    <tr>\n",
              "      <th>0</th>\n",
              "      <td>2</td>\n",
              "      <td>3</td>\n",
              "      <td>12669</td>\n",
              "      <td>9656</td>\n",
              "      <td>7561</td>\n",
              "      <td>214</td>\n",
              "      <td>2674</td>\n",
              "      <td>1338</td>\n",
              "    </tr>\n",
              "    <tr>\n",
              "      <th>1</th>\n",
              "      <td>2</td>\n",
              "      <td>3</td>\n",
              "      <td>7057</td>\n",
              "      <td>9810</td>\n",
              "      <td>9568</td>\n",
              "      <td>1762</td>\n",
              "      <td>3293</td>\n",
              "      <td>1776</td>\n",
              "    </tr>\n",
              "    <tr>\n",
              "      <th>2</th>\n",
              "      <td>2</td>\n",
              "      <td>3</td>\n",
              "      <td>6353</td>\n",
              "      <td>8808</td>\n",
              "      <td>7684</td>\n",
              "      <td>2405</td>\n",
              "      <td>3516</td>\n",
              "      <td>7844</td>\n",
              "    </tr>\n",
              "    <tr>\n",
              "      <th>3</th>\n",
              "      <td>1</td>\n",
              "      <td>3</td>\n",
              "      <td>13265</td>\n",
              "      <td>1196</td>\n",
              "      <td>4221</td>\n",
              "      <td>6404</td>\n",
              "      <td>507</td>\n",
              "      <td>1788</td>\n",
              "    </tr>\n",
              "    <tr>\n",
              "      <th>4</th>\n",
              "      <td>2</td>\n",
              "      <td>3</td>\n",
              "      <td>22615</td>\n",
              "      <td>5410</td>\n",
              "      <td>7198</td>\n",
              "      <td>3915</td>\n",
              "      <td>1777</td>\n",
              "      <td>5185</td>\n",
              "    </tr>\n",
              "  </tbody>\n",
              "</table>\n",
              "</div>"
            ],
            "text/plain": [
              "   Channel  Region  Fresh  Milk  Grocery  Frozen  Detergents_Paper  \\\n",
              "0        2       3  12669  9656     7561     214              2674   \n",
              "1        2       3   7057  9810     9568    1762              3293   \n",
              "2        2       3   6353  8808     7684    2405              3516   \n",
              "3        1       3  13265  1196     4221    6404               507   \n",
              "4        2       3  22615  5410     7198    3915              1777   \n",
              "\n",
              "   Delicatessen  \n",
              "0          1338  \n",
              "1          1776  \n",
              "2          7844  \n",
              "3          1788  \n",
              "4          5185  "
            ]
          },
          "execution_count": 34,
          "metadata": {},
          "output_type": "execute_result"
        }
      ],
      "source": [
        "# write your code here\n",
        "df1 = pd.read_csv('wholesale_customers_data.csv')\n",
        "\n",
        "df1.head()"
      ]
    },
    {
      "cell_type": "markdown",
      "metadata": {
        "id": "7eQ2Jd7EY9Rr"
      },
      "source": [
        "2. Drop Channel & Region and print the current columns ( 1 point)"
      ]
    },
    {
      "cell_type": "code",
      "execution_count": null,
      "metadata": {
        "id": "h_evyZTkY9Rr"
      },
      "outputs": [],
      "source": [
        "# write your code here\n",
        "df.drop"
      ]
    },
    {
      "cell_type": "markdown",
      "metadata": {
        "id": "QvnWgHF9asOQ"
      },
      "source": [
        "### Data Exploration:\n",
        "\n",
        "You will begin exploring the data through visualizations and code to understand how each feature is related to the others.\n",
        "\n"
      ]
    },
    {
      "cell_type": "markdown",
      "metadata": {
        "id": "uTctTSJ6a8hK"
      },
      "source": [
        "3. Show a statistical summary for each of the above product categories. (1 point)"
      ]
    },
    {
      "cell_type": "code",
      "execution_count": null,
      "metadata": {
        "id": "11D_uRrca-Yw"
      },
      "outputs": [],
      "source": [
        "# write your code here\n"
      ]
    },
    {
      "cell_type": "markdown",
      "metadata": {
        "id": "KIqPMCGbetH_"
      },
      "source": [
        "4. Show a visual representation of the distribution of each feature in the data.using histogram and normal probability plot. (2 points)"
      ]
    },
    {
      "cell_type": "code",
      "execution_count": null,
      "metadata": {
        "id": "Cp5YvpMeeVWs"
      },
      "outputs": [],
      "source": [
        "# write your code here\n",
        "\n",
        "# Loop through columns and create plots\n"
      ]
    },
    {
      "cell_type": "markdown",
      "metadata": {
        "id": "-VuXd_rFgPrO"
      },
      "source": [
        "5. What do you observe about distribution? (2 points)\n"
      ]
    },
    {
      "cell_type": "markdown",
      "metadata": {
        "id": "ov4OTKllgxMm"
      },
      "source": [
        "6. Scale the sample data using the natural logarithm ( 1 point)"
      ]
    },
    {
      "cell_type": "code",
      "execution_count": null,
      "metadata": {
        "ExecuteTime": {
          "end_time": "2018-01-03T17:10:28.892773Z",
          "start_time": "2018-01-03T17:10:28.868660Z"
        },
        "id": "4qwfGhObY9Rs"
      },
      "outputs": [],
      "source": [
        "# Scale the data using the natural logarithm\n"
      ]
    },
    {
      "cell_type": "markdown",
      "metadata": {
        "id": "UgXuDjy6Y9Rs"
      },
      "source": [
        "7. Check for Outliers using boxplot ( 2 points)"
      ]
    },
    {
      "cell_type": "code",
      "execution_count": null,
      "metadata": {
        "ExecuteTime": {
          "end_time": "2018-01-03T17:23:35.742049Z",
          "start_time": "2018-01-03T17:23:35.387142Z"
        },
        "id": "4EzHxzioY9Rs"
      },
      "outputs": [],
      "source": [
        "# write your code here\n"
      ]
    },
    {
      "cell_type": "markdown",
      "metadata": {
        "id": "RsfUPldMY9Rt"
      },
      "source": [
        "8. Apply natural log to transform long tails and plot the Log Sales Distribution using violinplot (2 points)"
      ]
    },
    {
      "cell_type": "code",
      "execution_count": null,
      "metadata": {
        "ExecuteTime": {
          "end_time": "2018-01-09T00:25:46.809372Z",
          "start_time": "2018-01-09T00:25:46.801858Z"
        },
        "id": "HFGfqobgY9Rt"
      },
      "outputs": [],
      "source": [
        "# write your code here\n"
      ]
    },
    {
      "cell_type": "code",
      "execution_count": null,
      "metadata": {
        "ExecuteTime": {
          "end_time": "2018-01-09T00:25:48.120698Z",
          "start_time": "2018-01-09T00:25:47.688194Z"
        },
        "id": "QbP-SwVjY9Ru"
      },
      "outputs": [],
      "source": [
        "# write your code here\n"
      ]
    },
    {
      "cell_type": "markdown",
      "metadata": {
        "id": "NTTUDaYiY9Ru"
      },
      "source": [
        "9. Remove Outliers using LocalOutlierFactor and plot the Log Sales Distribution using violinplot after removing the outliers. (2 points)"
      ]
    },
    {
      "cell_type": "code",
      "execution_count": null,
      "metadata": {
        "ExecuteTime": {
          "end_time": "2018-01-09T00:25:53.467056Z",
          "start_time": "2018-01-09T00:25:53.009368Z"
        },
        "id": "4EjMvELnY9Ru"
      },
      "outputs": [],
      "source": [
        "# write your code here\n"
      ]
    },
    {
      "cell_type": "markdown",
      "metadata": {
        "id": "DTQfRuqnnlqP"
      },
      "source": [
        "10. use sns.pairplot to visualize Feature Distributions in your cleaned data (2 points)"
      ]
    },
    {
      "cell_type": "code",
      "execution_count": null,
      "metadata": {
        "ExecuteTime": {
          "end_time": "2018-01-09T00:26:09.478209Z",
          "start_time": "2018-01-09T00:26:03.113570Z"
        },
        "id": "TsvNguxrY9Rv"
      },
      "outputs": [],
      "source": [
        "# write your code here\n"
      ]
    },
    {
      "cell_type": "markdown",
      "metadata": {
        "id": "Xtlvfcy0oJP2"
      },
      "source": [
        "11. Check for Correlations using sns.clustermap (2 points)"
      ]
    },
    {
      "cell_type": "code",
      "execution_count": null,
      "metadata": {
        "ExecuteTime": {
          "end_time": "2018-01-03T17:51:17.695669Z",
          "start_time": "2018-01-03T17:51:17.115826Z"
        },
        "id": "WVeUwRwOY9Rv"
      },
      "outputs": [],
      "source": [
        "# write your code here\n"
      ]
    },
    {
      "cell_type": "markdown",
      "metadata": {
        "id": "SaDQtJENonfo"
      },
      "source": [
        "12. What do you observe? (2 points)\n"
      ]
    },
    {
      "cell_type": "markdown",
      "metadata": {
        "id": "3qvdRmo3o94w"
      },
      "source": [
        "### PCA\n",
        "Now that the data has been scaled to a more normal distribution and has had any necessary outliers removed, we can now apply PCA to the cleaned data to discover which dimensions about the data best maximize the variance of features involved."
      ]
    },
    {
      "cell_type": "markdown",
      "metadata": {
        "id": "Aow-OTm8Y9Rv"
      },
      "source": [
        "13. Biplot: Visualizing Product Relationships in 2D (2 points)"
      ]
    },
    {
      "cell_type": "code",
      "execution_count": null,
      "metadata": {
        "id": "Yd0sVx_xY9Rv"
      },
      "outputs": [],
      "source": [
        "# write your code here\n"
      ]
    },
    {
      "cell_type": "markdown",
      "metadata": {
        "id": "bpS5TE22rep3"
      },
      "source": [
        "14. Use sns.jointplot to plot x and y in the above code (2 points)"
      ]
    },
    {
      "cell_type": "code",
      "execution_count": null,
      "metadata": {
        "id": "cjVBuPnPY9Rw"
      },
      "outputs": [],
      "source": [
        "# write your code here\n"
      ]
    },
    {
      "cell_type": "markdown",
      "metadata": {
        "id": "djAr92bOY9Rw"
      },
      "source": [
        "15. Exploring the new Descriptors of the cleand Data using plot.bar (2 points)"
      ]
    },
    {
      "cell_type": "code",
      "execution_count": null,
      "metadata": {
        "ExecuteTime": {
          "end_time": "2018-01-03T17:54:14.727601Z",
          "start_time": "2018-01-03T17:54:14.195007Z"
        },
        "id": "hkJ86sB8Y9Rw"
      },
      "outputs": [],
      "source": [
        "# write your code here\n"
      ]
    },
    {
      "cell_type": "markdown",
      "metadata": {
        "id": "PXkjQDNos9Ds"
      },
      "source": [
        "16. How much approximately the first and second features of explain of variance in total? (1 point)\n",
        "\n"
      ]
    },
    {
      "cell_type": "markdown",
      "metadata": {
        "id": "c-iskuujgGlC"
      },
      "source": [
        "---\n",
        "## All set\n",
        "\n",
        "Please make sure you execute each cell before you submit your file; this is important because if your code didn't work on our machine for an unknown reason, it would be better to see the result rather than losing some points or wasting time to contact you to fix this issue.\n",
        "\n",
        "What to submit:\n",
        "\n",
        "* Your Jupyter Notebook file.\n",
        "* Name your file as firstname_lastname_pj_3 .\n",
        "---"
      ]
    }
  ],
  "metadata": {
    "celltoolbar": "Slideshow",
    "colab": {
      "provenance": []
    },
    "hide_input": false,
    "kernelspec": {
      "display_name": "Python 3 (ipykernel)",
      "language": "python",
      "name": "python3"
    },
    "language_info": {
      "codemirror_mode": {
        "name": "ipython",
        "version": 3
      },
      "file_extension": ".py",
      "mimetype": "text/x-python",
      "name": "python",
      "nbconvert_exporter": "python",
      "pygments_lexer": "ipython3",
      "version": "3.11.5"
    }
  },
  "nbformat": 4,
  "nbformat_minor": 0
}