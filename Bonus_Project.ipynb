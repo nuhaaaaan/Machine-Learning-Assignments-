{
  "nbformat": 4,
  "nbformat_minor": 0,
  "metadata": {
    "colab": {
      "provenance": []
    },
    "kernelspec": {
      "name": "python3",
      "display_name": "Python 3"
    },
    "language_info": {
      "name": "python"
    }
  },
  "cells": [
    {
      "cell_type": "markdown",
      "source": [
        "This project is graded out of 100 as the Midterm and will be used as a bonus task to improve your Midterm grade. No AI tools are allowed in this project. Using The Olivetti faces dataset (The AT&T faces dataset). First, import the dataset and the required Python: libraries."
      ],
      "metadata": {
        "id": "VhDYDztA6imy"
      }
    },
    {
      "cell_type": "code",
      "source": [
        "from sklearn.datasets import fetch_olivetti_faces\n",
        "olivetti_faces = fetch_olivetti_faces()\n",
        "print(olivetti_faces.data.shape)\n",
        "print(olivetti_faces.target.shape)\n",
        "print(olivetti_faces.images.shape)"
      ],
      "metadata": {
        "colab": {
          "base_uri": "https://localhost:8080/"
        },
        "id": "feGaJrSR6-pe",
        "outputId": "df5149e4-c142-4a47-9066-d17e6b9e10e2"
      },
      "execution_count": 6,
      "outputs": [
        {
          "output_type": "stream",
          "name": "stdout",
          "text": [
            "(400, 4096)\n",
            "(400,)\n",
            "(400, 64, 64)\n"
          ]
        }
      ]
    },
    {
      "cell_type": "markdown",
      "source": [
        "Below is a sample images from the utilized dataset."
      ],
      "metadata": {
        "id": "mUGQFyM97KYi"
      }
    },
    {
      "cell_type": "code",
      "source": [
        "from matplotlib import pyplot as plt\n",
        "plt.imshow(olivetti_faces.images[0], cmap=plt.cm.gray)\n"
      ],
      "metadata": {
        "colab": {
          "base_uri": "https://localhost:8080/",
          "height": 450
        },
        "id": "tojY1rMG7SBR",
        "outputId": "7e4ab570-a842-4e5b-ff2c-d71d1058d55e"
      },
      "execution_count": 7,
      "outputs": [
        {
          "output_type": "execute_result",
          "data": {
            "text/plain": [
              "<matplotlib.image.AxesImage at 0x7fd242144100>"
            ]
          },
          "metadata": {},
          "execution_count": 7
        },
        {
          "output_type": "display_data",
          "data": {
            "text/plain": [
              "<Figure size 640x480 with 1 Axes>"
            ],
            "image/png": "[encoded data removed]"
          },
          "metadata": {}
        }
      ]
    },
    {
      "cell_type": "markdown",
      "source": [
        "The dataset consists of 400 faces, each of size 64x64. The value of each pixel in the given image changes from 0 to 255 (0 means black color, 255 means white color). Your first task is to convert the provided images to a table format of the size of 400 rows and 4096 columns."
      ],
      "metadata": {
        "id": "dW1sjfEh9BlN"
      }
    },
    {
      "cell_type": "code",
      "source": [],
      "metadata": {
        "id": "xxv0S6Qy91h2"
      },
      "execution_count": null,
      "outputs": []
    },
    {
      "cell_type": "markdown",
      "source": [
        "Your next step will be calculating the top 100 principal components for this given data. This means converting the given 4096 features to only 100 features."
      ],
      "metadata": {
        "id": "csUFnDRU93q5"
      }
    },
    {
      "cell_type": "code",
      "source": [],
      "metadata": {
        "id": "8Tk9hKGs-kfr"
      },
      "execution_count": null,
      "outputs": []
    },
    {
      "cell_type": "markdown",
      "source": [
        "Convert the first 10 principal components back to the image format (64x64) and show them."
      ],
      "metadata": {
        "id": "rPcqx1Pa-_mh"
      }
    },
    {
      "cell_type": "code",
      "source": [],
      "metadata": {
        "id": "b-CjTUeG_O1X"
      },
      "execution_count": null,
      "outputs": []
    },
    {
      "cell_type": "markdown",
      "source": [
        "Print the number of distinguished target classes from the given datasets."
      ],
      "metadata": {
        "id": "neJua9sV-y4D"
      }
    },
    {
      "cell_type": "code",
      "source": [],
      "metadata": {
        "id": "lZSBqbjA-8AB"
      },
      "execution_count": null,
      "outputs": []
    },
    {
      "cell_type": "markdown",
      "source": [
        "Use the Scikit Learn library to build a simple 3-layer MLP neural network classifier (1 input layer, 1 hidden layer, 1 output layer). The input layer must be 100 nodes. The output layer should include nodes equal to the number of target classes. You should choose the number of nodes in the hidden layer of your selection."
      ],
      "metadata": {
        "id": "Pgdjjpov-8bI"
      }
    },
    {
      "cell_type": "code",
      "source": [],
      "metadata": {
        "id": "5RJVJAT6AnOu"
      },
      "execution_count": null,
      "outputs": []
    },
    {
      "cell_type": "markdown",
      "source": [
        "Train your designed network for 500 Epochs.\n",
        "\n",
        "---\n",
        "\n"
      ],
      "metadata": {
        "id": "e5SxnZcuAn-k"
      }
    },
    {
      "cell_type": "code",
      "source": [],
      "metadata": {
        "id": "Nd3TpbNZAyWP"
      },
      "execution_count": null,
      "outputs": []
    },
    {
      "cell_type": "markdown",
      "source": [
        "Calculate the accuracy of the designed neural classifier.\n"
      ],
      "metadata": {
        "id": "roDZvp3GAy3T"
      }
    },
    {
      "cell_type": "code",
      "source": [],
      "metadata": {
        "id": "fXEWClSvBH9-"
      },
      "execution_count": null,
      "outputs": []
    },
    {
      "cell_type": "markdown",
      "source": [
        "Repeat the same process for 300 principal components instead of 100."
      ],
      "metadata": {
        "id": "fkXGtJCABZ5E"
      }
    },
    {
      "cell_type": "code",
      "source": [],
      "metadata": {
        "id": "U-htTtjfBnIl"
      },
      "execution_count": null,
      "outputs": []
    },
    {
      "cell_type": "markdown",
      "source": [
        "Change the design of your MLP neural classifier to have 300 input nodes. Change the number of nodes in the hidden layer of your choice to adjust the architecture."
      ],
      "metadata": {
        "id": "y_akPSUxBIbr"
      }
    },
    {
      "cell_type": "code",
      "source": [],
      "metadata": {
        "id": "dcHn-5FuByge"
      },
      "execution_count": null,
      "outputs": []
    },
    {
      "cell_type": "markdown",
      "source": [
        "Train the new modified network for 500 Epochs and calculate the classification accuracy.\n"
      ],
      "metadata": {
        "id": "ImAJJuOxBzGI"
      }
    },
    {
      "cell_type": "code",
      "source": [],
      "metadata": {
        "id": "iyML03aEB6LP"
      },
      "execution_count": null,
      "outputs": []
    },
    {
      "cell_type": "markdown",
      "source": [
        "Design another MLP neural classifier with an input layer of 4096 nodes (no PCA should be applied to your dataset). Change the number of nodes in the hidden layer of your choice to adjust the architecture."
      ],
      "metadata": {
        "id": "ZC9w6_XRB7As"
      }
    },
    {
      "cell_type": "code",
      "source": [],
      "metadata": {
        "id": "A-j0ofwrCaRB"
      },
      "execution_count": null,
      "outputs": []
    },
    {
      "cell_type": "markdown",
      "source": [
        "Train your new network for 500 Epochs, and calculate the classification accuracy of the new classifier."
      ],
      "metadata": {
        "id": "v6dbzewhCa0f"
      }
    },
    {
      "cell_type": "code",
      "source": [],
      "metadata": {
        "id": "5ONSX36mCk1i"
      },
      "execution_count": null,
      "outputs": []
    },
    {
      "cell_type": "markdown",
      "source": [
        "Compare the performance of the three desgined neural classifier and write your comments below."
      ],
      "metadata": {
        "id": "zGfeBmt6ClWN"
      }
    }
  ]
}