{
  "nbformat": 4,
  "nbformat_minor": 0,
  "metadata": {
    "colab": {
      "provenance": [],
      "include_colab_link": true
    },
    "kernelspec": {
      "name": "python3",
      "display_name": "Python 3"
    },
    "language_info": {
      "name": "python"
    }
  },
  "cells": [
    {
      "cell_type": "markdown",
      "metadata": {
        "id": "view-in-github",
        "colab_type": "text"
      },
      "source": [
        "<a href=\"https://colab.research.google.com/github/nuhaaaaan/Machine-Learning-Assignments-/blob/main/Face%20Data%20set%20/%20Project.ipynb\" target=\"_parent\"><img src=\"https://colab.research.google.com/assets/colab-badge.svg\" alt=\"Open In Colab\"/></a>"
      ]
    },
    {
      "cell_type": "markdown",
      "source": [
        "This project is graded out of 100 as the Midterm and will be used as a bonus task to improve your Midterm grade. No AI tools are allowed in this project. Using The Olivetti faces dataset (The AT&T faces dataset). First, import the dataset and the required Python: libraries."
      ],
      "metadata": {
        "id": "VhDYDztA6imy"
      }
    },
    {
      "cell_type": "code",
      "source": [
        "from sklearn.datasets import fetch_olivetti_faces\n",
        "olivetti_faces = fetch_olivetti_faces()\n",
        "print(olivetti_faces.data.shape)\n",
        "print(olivetti_faces.target.shape)\n",
        "print(olivetti_faces.images.shape)"
      ],
      "metadata": {
        "colab": {
          "base_uri": "https://localhost:8080/"
        },
        "id": "feGaJrSR6-pe",
        "outputId": "0e329258-6ec4-405a-892c-ce37aa7b1336"
      },
      "execution_count": 1,
      "outputs": [
        {
          "output_type": "stream",
          "name": "stdout",
          "text": [
            "downloading Olivetti faces from https://ndownloader.figshare.com/files/5976027 to /root/scikit_learn_data\n",
            "(400, 4096)\n",
            "(400,)\n",
            "(400, 64, 64)\n"
          ]
        }
      ]
    },
    {
      "cell_type": "markdown",
      "source": [
        "Below is a sample images from the utilized dataset."
      ],
      "metadata": {
        "id": "mUGQFyM97KYi"
      }
    },
    {
      "cell_type": "code",
      "source": [
        "from matplotlib import pyplot as plt\n",
        "plt.imshow(olivetti_faces.images[0], cmap=plt.cm.gray)\n"
      ],
      "metadata": {
        "colab": {
          "base_uri": "https://localhost:8080/",
          "height": 450
        },
        "id": "tojY1rMG7SBR",
        "outputId": "7e4ab570-a842-4e5b-ff2c-d71d1058d55e"
      },
      "execution_count": null,
      "outputs": [
        {
          "output_type": "execute_result",
          "data": {
            "text/plain": [
              "<matplotlib.image.AxesImage at 0x7fd242144100>"
            ]
          },
          "metadata": {},
          "execution_count": 7
        },
        {
          "output_type": "display_data",
          "data": {
            "text/plain": [
              "<Figure size 640x480 with 1 Axes>"
            ],
            "image/png": "[encoded data removed]"
          },
          "metadata": {}
        }
      ]
    },
    {
      "cell_type": "markdown",
      "source": [
        "The dataset consists of 400 faces, each of size 64x64. The value of each pixel in the given image changes from 0 to 255 (0 means black color, 255 means white color). Your first task is to convert the provided images to a table format of the size of 400 rows and 4096 columns."
      ],
      "metadata": {
        "id": "dW1sjfEh9BlN"
      }
    },
    {
      "cell_type": "code",
      "source": [
        "from sklearn.datasets import fetch_olivetti_faces\n",
        "import pandas as pd\n",
        "\n",
        "# Fetch the dataset\n",
        "olivetti_faces = fetch_olivetti_faces()\n",
        "\n",
        "# Convert images to a table format (400 x 4096)\n",
        "data_table = pd.DataFrame(olivetti_faces.data)\n",
        "\n",
        "# Display the first few rows of the table\n",
        "print(data_table.head())\n",
        "\n",
        "# Verify the shape\n",
        "print(\"Table shape:\", data_table.shape)  # Should be (400, 4096)"
      ],
      "metadata": {
        "id": "xxv0S6Qy91h2",
        "colab": {
          "base_uri": "https://localhost:8080/"
        },
        "outputId": "28a19ad7-e99d-4787-af7b-8add2eb56e9b"
      },
      "execution_count": 5,
      "outputs": [
        {
          "output_type": "stream",
          "name": "stdout",
          "text": [
            "       0         1         2         3         4         5         6     \\\n",
            "0  0.309917  0.367769  0.417355  0.442149  0.528926  0.607438  0.657025   \n",
            "1  0.454545  0.471074  0.512397  0.557851  0.595041  0.640496  0.681818   \n",
            "2  0.318182  0.400826  0.491736  0.528926  0.586777  0.657025  0.681818   \n",
            "3  0.198347  0.194215  0.194215  0.194215  0.190083  0.190083  0.243802   \n",
            "4  0.500000  0.545455  0.582645  0.623967  0.648760  0.690083  0.694215   \n",
            "\n",
            "       7         8         9     ...      4086      4087      4088      4089  \\\n",
            "0  0.677686  0.690083  0.685950  ...  0.665289  0.669421  0.652893  0.661157   \n",
            "1  0.702479  0.710744  0.702479  ...  0.136364  0.157025  0.136364  0.148760   \n",
            "2  0.685950  0.702479  0.698347  ...  0.074380  0.132231  0.181818  0.136364   \n",
            "3  0.404959  0.483471  0.516529  ...  0.652893  0.636364  0.657025  0.685950   \n",
            "4  0.714876  0.723140  0.731405  ...  0.190083  0.161157  0.177686  0.173554   \n",
            "\n",
            "       4090      4091      4092      4093      4094      4095  \n",
            "0  0.475207  0.132231  0.148760  0.152893  0.161157  0.157025  \n",
            "1  0.152893  0.152893  0.152893  0.152893  0.152893  0.152893  \n",
            "2  0.128099  0.148760  0.144628  0.140496  0.148760  0.152893  \n",
            "3  0.727273  0.743802  0.764463  0.752066  0.752066  0.739669  \n",
            "4  0.177686  0.177686  0.177686  0.177686  0.173554  0.173554  \n",
            "\n",
            "[5 rows x 4096 columns]\n",
            "Table shape: (400, 4096)\n"
          ]
        }
      ]
    },
    {
      "cell_type": "markdown",
      "source": [
        "Your next step will be calculating the top 100 principal components for this given data. This means converting the given 4096 features to only 100 features."
      ],
      "metadata": {
        "id": "csUFnDRU93q5"
      }
    },
    {
      "cell_type": "code",
      "source": [
        "from sklearn.decomposition import PCA\n",
        "\n",
        "# Apply PCA to reduce dimensions to 100 features\n",
        "pca = PCA(n_components=100)\n",
        "pca_data = pca.fit_transform(olivetti_faces.data)\n",
        "\n",
        "# Verify the shape of the reduced data\n",
        "print(\"Reduced data shape:\", pca_data.shape)  # Should be (400, 100)"
      ],
      "metadata": {
        "id": "8Tk9hKGs-kfr",
        "colab": {
          "base_uri": "https://localhost:8080/"
        },
        "outputId": "f4a4c414-e5d2-4e7e-a6d5-ea34150d8d85"
      },
      "execution_count": 4,
      "outputs": [
        {
          "output_type": "stream",
          "name": "stdout",
          "text": [
            "Reduced data shape: (400, 100)\n"
          ]
        }
      ]
    },
    {
      "cell_type": "markdown",
      "source": [
        "Convert the first 10 principal components back to the image format (64x64) and show them."
      ],
      "metadata": {
        "id": "rPcqx1Pa-_mh"
      }
    },
    {
      "cell_type": "code",
      "source": [
        "import matplotlib.pyplot as plt\n",
        "import numpy as np\n",
        "\n",
        "# Transform back the first 10 principal components to the original space\n",
        "reconstructed_images = pca.inverse_transform(pca_data[:10])\n",
        "\n",
        "# Plot the first 10 reconstructed images\n",
        "fig, axes = plt.subplots(1, 10, figsize=(20, 4))\n",
        "for i, ax in enumerate(axes):\n",
        "    ax.imshow(reconstructed_images[i].reshape(64, 64), cmap=plt.cm.gray)\n",
        "    ax.axis(\"off\")\n",
        "plt.show()"
      ],
      "metadata": {
        "id": "b-CjTUeG_O1X",
        "colab": {
          "base_uri": "https://localhost:8080/",
          "height": 153
        },
        "outputId": "83aa1ead-de13-4f8c-b561-313e823a201e"
      },
      "execution_count": 6,
      "outputs": [
        {
          "output_type": "display_data",
          "data": {
            "text/plain": [
              "<Figure size 2000x400 with 10 Axes>"
            ],
            "image/png": "[encoded data removed]"
          },
          "metadata": {}
        }
      ]
    },
    {
      "cell_type": "markdown",
      "source": [
        "Print the number of distinguished target classes from the given datasets."
      ],
      "metadata": {
        "id": "neJua9sV-y4D"
      }
    },
    {
      "cell_type": "code",
      "source": [
        "# Print the number of target classes\n",
        "num_classes = len(np.unique(olivetti_faces.target))\n",
        "print(\"Number of target classes:\", num_classes)"
      ],
      "metadata": {
        "id": "lZSBqbjA-8AB",
        "colab": {
          "base_uri": "https://localhost:8080/"
        },
        "outputId": "8ae4cbc9-c4ef-48c8-8e75-dde565b539a0"
      },
      "execution_count": 7,
      "outputs": [
        {
          "output_type": "stream",
          "name": "stdout",
          "text": [
            "Number of target classes: 40\n"
          ]
        }
      ]
    },
    {
      "cell_type": "markdown",
      "source": [
        "Use the Scikit Learn library to build a simple 3-layer MLP neural network classifier (1 input layer, 1 hidden layer, 1 output layer). The input layer must be 100 nodes. The output layer should include nodes equal to the number of target classes. You should choose the number of nodes in the hidden layer of your selection."
      ],
      "metadata": {
        "id": "Pgdjjpov-8bI"
      }
    },
    {
      "cell_type": "code",
      "source": [
        "from sklearn.model_selection import train_test_split\n",
        "from sklearn.neural_network import MLPClassifier\n",
        "from sklearn.metrics import accuracy_score\n",
        "\n",
        "# Split the dataset into training and testing sets\n",
        "X_train, X_test, y_train, y_test = train_test_split(\n",
        "    pca_data, olivetti_faces.target, test_size=0.3, random_state=42\n",
        ")\n"
      ],
      "metadata": {
        "id": "5RJVJAT6AnOu"
      },
      "execution_count": 10,
      "outputs": []
    },
    {
      "cell_type": "markdown",
      "source": [
        "Train your designed network for 500 Epochs.\n",
        "\n",
        "---\n",
        "\n"
      ],
      "metadata": {
        "id": "e5SxnZcuAn-k"
      }
    },
    {
      "cell_type": "code",
      "source": [
        "# Define the MLP Classifier\n",
        "mlp = MLPClassifier(\n",
        "    hidden_layer_sizes=(64,),  # Single hidden layer with 64 nodes\n",
        "    max_iter=500,  # Train for 500 epochs\n",
        "    random_state=42\n",
        ")\n",
        "\n",
        "# Train the model\n",
        "mlp.fit(X_train, y_train)\n",
        "\n",
        "# Predict on the test set\n",
        "y_pred = mlp.predict(X_test)\n",
        "\n"
      ],
      "metadata": {
        "id": "Nd3TpbNZAyWP",
        "colab": {
          "base_uri": "https://localhost:8080/"
        },
        "outputId": "0a414c78-4859-4071-a78a-4f75c3205221"
      },
      "execution_count": 11,
      "outputs": [
        {
          "output_type": "stream",
          "name": "stdout",
          "text": [
            "Accuracy of MLP classifier with 100 PCA components: 0.925\n"
          ]
        }
      ]
    },
    {
      "cell_type": "markdown",
      "source": [
        "Calculate the accuracy of the designed neural classifier.\n"
      ],
      "metadata": {
        "id": "roDZvp3GAy3T"
      }
    },
    {
      "cell_type": "code",
      "source": [
        "# Calculate accuracy\n",
        "accuracy = accuracy_score(y_test, y_pred)\n",
        "print(\"Accuracy of MLP classifier with 100 PCA components:\", accuracy)"
      ],
      "metadata": {
        "id": "fXEWClSvBH9-",
        "colab": {
          "base_uri": "https://localhost:8080/"
        },
        "outputId": "1a3211fa-172c-4f6e-af6b-1b899f416c8f"
      },
      "execution_count": 12,
      "outputs": [
        {
          "output_type": "stream",
          "name": "stdout",
          "text": [
            "Accuracy of MLP classifier with 100 PCA components: 0.925\n"
          ]
        }
      ]
    },
    {
      "cell_type": "markdown",
      "source": [
        "Repeat the same process for 300 principal components instead of 100."
      ],
      "metadata": {
        "id": "fkXGtJCABZ5E"
      }
    },
    {
      "cell_type": "code",
      "source": [
        "# Apply PCA with 300 components\n",
        "pca_300 = PCA(n_components=300)\n",
        "pca_data_300 = pca_300.fit_transform(olivetti_faces.data)\n",
        "# Split the dataset\n",
        "X_train_300, X_test_300, y_train_300, y_test_300 = train_test_split(\n",
        "    pca_data_300, olivetti_faces.target, test_size=0.3, random_state=42\n",
        ")\n",
        "\n",
        "# Define the MLP Classifier\n",
        "mlp_300 = MLPClassifier(\n",
        "    hidden_layer_sizes=(128,),  # Hidden layer with 128 nodes\n",
        "    max_iter=500,  # Train for 500 epochs\n",
        "    random_state=42\n",
        ")\n",
        "\n",
        "# Train the model\n",
        "mlp_300.fit(X_train_300, y_train_300)\n",
        "\n",
        "\n",
        "# Predict and calculate accuracy\n",
        "y_pred_300 = mlp_300.predict(X_test_300)\n",
        "accuracy_300 = accuracy_score(y_test_300, y_pred_300)\n",
        "print(\"Accuracy of MLP classifier with 300 PCA components:\", accuracy_300)"
      ],
      "metadata": {
        "id": "U-htTtjfBnIl",
        "colab": {
          "base_uri": "https://localhost:8080/"
        },
        "outputId": "a655d979-40d0-4eb0-bbc8-63e7504c388d"
      },
      "execution_count": 17,
      "outputs": [
        {
          "output_type": "stream",
          "name": "stdout",
          "text": [
            "Accuracy of MLP classifier with 300 PCA components: 0.9083333333333333\n"
          ]
        }
      ]
    },
    {
      "cell_type": "markdown",
      "source": [
        "Change the design of your MLP neural classifier to have 300 input nodes. Change the number of nodes in the hidden layer of your choice to adjust the architecture."
      ],
      "metadata": {
        "id": "y_akPSUxBIbr"
      }
    },
    {
      "cell_type": "code",
      "source": [
        "# Split the original dataset without PCA\n",
        "X_train_full, X_test_full, y_train_full, y_test_full = train_test_split(\n",
        "    olivetti_faces.data, olivetti_faces.target, test_size=0.3, random_state=42\n",
        ")"
      ],
      "metadata": {
        "id": "dcHn-5FuByge"
      },
      "execution_count": 19,
      "outputs": []
    },
    {
      "cell_type": "markdown",
      "source": [
        "Train the new modified network for 500 Epochs and calculate the classification accuracy.\n"
      ],
      "metadata": {
        "id": "ImAJJuOxBzGI"
      }
    },
    {
      "cell_type": "code",
      "source": [
        "# Define the MLP Classifier\n",
        "mlp_full = MLPClassifier(\n",
        "    hidden_layer_sizes=(256,),  # Hidden layer with 256 nodes\n",
        "    max_iter=500,  # Train for 500 epochs\n",
        "    random_state=42\n",
        ")\n",
        "\n",
        "# Train the model\n",
        "mlp_full.fit(X_train_full, y_train_full)\n",
        "\n",
        "# Predict and calculate accuracy\n",
        "y_pred_full = mlp_full.predict(X_test_full)\n",
        "accuracy_full = accuracy_score(y_test_full, y_pred_full)\n",
        "print(\"Accuracy of MLP classifier with full dataset:\", accuracy_full)"
      ],
      "metadata": {
        "id": "iyML03aEB6LP",
        "colab": {
          "base_uri": "https://localhost:8080/"
        },
        "outputId": "26752f35-2fdf-4651-8c85-4fc1a972a2e7"
      },
      "execution_count": 20,
      "outputs": [
        {
          "output_type": "stream",
          "name": "stdout",
          "text": [
            "Accuracy of MLP classifier with full dataset: 0.925\n"
          ]
        }
      ]
    },
    {
      "cell_type": "markdown",
      "source": [
        "Design another MLP neural classifier with an input layer of 4096 nodes (no PCA should be applied to your dataset). Change the number of nodes in the hidden layer of your choice to adjust the architecture."
      ],
      "metadata": {
        "id": "ZC9w6_XRB7As"
      }
    },
    {
      "cell_type": "code",
      "source": [
        "from sklearn.model_selection import train_test_split\n",
        "from sklearn.neural_network import MLPClassifier\n",
        "from sklearn.metrics import accuracy_score\n",
        "\n",
        "# Split the original dataset without PCA\n",
        "X_train_full, X_test_full, y_train_full, y_test_full = train_test_split(\n",
        "    olivetti_faces.data, olivetti_faces.target, test_size=0.3, random_state=42\n",
        ")\n",
        "\n",
        "# Define the MLP Classifier with customized architecture\n",
        "mlp_full = MLPClassifier(\n",
        "    hidden_layer_sizes=(256,),  # Hidden layer with 256 nodes (you can adjust this)\n",
        "    max_iter=500,  # Train for 500 epochs\n",
        "    activation=\"relu\",  # ReLU activation function\n",
        "    solver=\"adam\",  # Adam optimizer\n",
        "    random_state=42\n",
        ")\n",
        "\n",
        "# Train the model\n",
        "mlp_full.fit(X_train_full, y_train_full)"
      ],
      "metadata": {
        "colab": {
          "base_uri": "https://localhost:8080/",
          "height": 80
        },
        "id": "2NWXMsC7IQPa",
        "outputId": "e63d3ed9-c583-464b-b437-9165945168bd"
      },
      "execution_count": 21,
      "outputs": [
        {
          "output_type": "execute_result",
          "data": {
            "text/plain": [
              "MLPClassifier(hidden_layer_sizes=(256,), max_iter=500, random_state=42)"
            ],
            "text/html": [
              "<style>#sk-container-id-2 {\n",
              "  /* Definition of color scheme common for light and dark mode */\n",
              "  --sklearn-color-text: black;\n",
              "  --sklearn-color-line: gray;\n",
              "  /* Definition of color scheme for unfitted estimators */\n",
              "  --sklearn-color-unfitted-level-0: #fff5e6;\n",
              "  --sklearn-color-unfitted-level-1: #f6e4d2;\n",
              "  --sklearn-color-unfitted-level-2: #ffe0b3;\n",
              "  --sklearn-color-unfitted-level-3: chocolate;\n",
              "  /* Definition of color scheme for fitted estimators */\n",
              "  --sklearn-color-fitted-level-0: #f0f8ff;\n",
              "  --sklearn-color-fitted-level-1: #d4ebff;\n",
              "  --sklearn-color-fitted-level-2: #b3dbfd;\n",
              "  --sklearn-color-fitted-level-3: cornflowerblue;\n",
              "\n",
              "  /* Specific color for light theme */\n",
              "  --sklearn-color-text-on-default-background: var(--sg-text-color, var(--theme-code-foreground, var(--jp-content-font-color1, black)));\n",
              "  --sklearn-color-background: var(--sg-background-color, var(--theme-background, var(--jp-layout-color0, white)));\n",
              "  --sklearn-color-border-box: var(--sg-text-color, var(--theme-code-foreground, var(--jp-content-font-color1, black)));\n",
              "  --sklearn-color-icon: #696969;\n",
              "\n",
              "  @media (prefers-color-scheme: dark) {\n",
              "    /* Redefinition of color scheme for dark theme */\n",
              "    --sklearn-color-text-on-default-background: var(--sg-text-color, var(--theme-code-foreground, var(--jp-content-font-color1, white)));\n",
              "    --sklearn-color-background: var(--sg-background-color, var(--theme-background, var(--jp-layout-color0, #111)));\n",
              "    --sklearn-color-border-box: var(--sg-text-color, var(--theme-code-foreground, var(--jp-content-font-color1, white)));\n",
              "    --sklearn-color-icon: #878787;\n",
              "  }\n",
              "}\n",
              "\n",
              "#sk-container-id-2 {\n",
              "  color: var(--sklearn-color-text);\n",
              "}\n",
              "\n",
              "#sk-container-id-2 pre {\n",
              "  padding: 0;\n",
              "}\n",
              "\n",
              "#sk-container-id-2 input.sk-hidden--visually {\n",
              "  border: 0;\n",
              "  clip: rect(1px 1px 1px 1px);\n",
              "  clip: rect(1px, 1px, 1px, 1px);\n",
              "  height: 1px;\n",
              "  margin: -1px;\n",
              "  overflow: hidden;\n",
              "  padding: 0;\n",
              "  position: absolute;\n",
              "  width: 1px;\n",
              "}\n",
              "\n",
              "#sk-container-id-2 div.sk-dashed-wrapped {\n",
              "  border: 1px dashed var(--sklearn-color-line);\n",
              "  margin: 0 0.4em 0.5em 0.4em;\n",
              "  box-sizing: border-box;\n",
              "  padding-bottom: 0.4em;\n",
              "  background-color: var(--sklearn-color-background);\n",
              "}\n",
              "\n",
              "#sk-container-id-2 div.sk-container {\n",
              "  /* jupyter's `normalize.less` sets `[hidden] { display: none; }`\n",
              "     but bootstrap.min.css set `[hidden] { display: none !important; }`\n",
              "     so we also need the `!important` here to be able to override the\n",
              "     default hidden behavior on the sphinx rendered scikit-learn.org.\n",
              "     See: https://github.com/scikit-learn/scikit-learn/issues/21755 */\n",
              "  display: inline-block !important;\n",
              "  position: relative;\n",
              "}\n",
              "\n",
              "#sk-container-id-2 div.sk-text-repr-fallback {\n",
              "  display: none;\n",
              "}\n",
              "\n",
              "div.sk-parallel-item,\n",
              "div.sk-serial,\n",
              "div.sk-item {\n",
              "  /* draw centered vertical line to link estimators */\n",
              "  background-image: linear-gradient(var(--sklearn-color-text-on-default-background), var(--sklearn-color-text-on-default-background));\n",
              "  background-size: 2px 100%;\n",
              "  background-repeat: no-repeat;\n",
              "  background-position: center center;\n",
              "}\n",
              "\n",
              "/* Parallel-specific style estimator block */\n",
              "\n",
              "#sk-container-id-2 div.sk-parallel-item::after {\n",
              "  content: \"\";\n",
              "  width: 100%;\n",
              "  border-bottom: 2px solid var(--sklearn-color-text-on-default-background);\n",
              "  flex-grow: 1;\n",
              "}\n",
              "\n",
              "#sk-container-id-2 div.sk-parallel {\n",
              "  display: flex;\n",
              "  align-items: stretch;\n",
              "  justify-content: center;\n",
              "  background-color: var(--sklearn-color-background);\n",
              "  position: relative;\n",
              "}\n",
              "\n",
              "#sk-container-id-2 div.sk-parallel-item {\n",
              "  display: flex;\n",
              "  flex-direction: column;\n",
              "}\n",
              "\n",
              "#sk-container-id-2 div.sk-parallel-item:first-child::after {\n",
              "  align-self: flex-end;\n",
              "  width: 50%;\n",
              "}\n",
              "\n",
              "#sk-container-id-2 div.sk-parallel-item:last-child::after {\n",
              "  align-self: flex-start;\n",
              "  width: 50%;\n",
              "}\n",
              "\n",
              "#sk-container-id-2 div.sk-parallel-item:only-child::after {\n",
              "  width: 0;\n",
              "}\n",
              "\n",
              "/* Serial-specific style estimator block */\n",
              "\n",
              "#sk-container-id-2 div.sk-serial {\n",
              "  display: flex;\n",
              "  flex-direction: column;\n",
              "  align-items: center;\n",
              "  background-color: var(--sklearn-color-background);\n",
              "  padding-right: 1em;\n",
              "  padding-left: 1em;\n",
              "}\n",
              "\n",
              "\n",
              "/* Toggleable style: style used for estimator/Pipeline/ColumnTransformer box that is\n",
              "clickable and can be expanded/collapsed.\n",
              "- Pipeline and ColumnTransformer use this feature and define the default style\n",
              "- Estimators will overwrite some part of the style using the `sk-estimator` class\n",
              "*/\n",
              "\n",
              "/* Pipeline and ColumnTransformer style (default) */\n",
              "\n",
              "#sk-container-id-2 div.sk-toggleable {\n",
              "  /* Default theme specific background. It is overwritten whether we have a\n",
              "  specific estimator or a Pipeline/ColumnTransformer */\n",
              "  background-color: var(--sklearn-color-background);\n",
              "}\n",
              "\n",
              "/* Toggleable label */\n",
              "#sk-container-id-2 label.sk-toggleable__label {\n",
              "  cursor: pointer;\n",
              "  display: block;\n",
              "  width: 100%;\n",
              "  margin-bottom: 0;\n",
              "  padding: 0.5em;\n",
              "  box-sizing: border-box;\n",
              "  text-align: center;\n",
              "}\n",
              "\n",
              "#sk-container-id-2 label.sk-toggleable__label-arrow:before {\n",
              "  /* Arrow on the left of the label */\n",
              "  content: \"▸\";\n",
              "  float: left;\n",
              "  margin-right: 0.25em;\n",
              "  color: var(--sklearn-color-icon);\n",
              "}\n",
              "\n",
              "#sk-container-id-2 label.sk-toggleable__label-arrow:hover:before {\n",
              "  color: var(--sklearn-color-text);\n",
              "}\n",
              "\n",
              "/* Toggleable content - dropdown */\n",
              "\n",
              "#sk-container-id-2 div.sk-toggleable__content {\n",
              "  max-height: 0;\n",
              "  max-width: 0;\n",
              "  overflow: hidden;\n",
              "  text-align: left;\n",
              "  /* unfitted */\n",
              "  background-color: var(--sklearn-color-unfitted-level-0);\n",
              "}\n",
              "\n",
              "#sk-container-id-2 div.sk-toggleable__content.fitted {\n",
              "  /* fitted */\n",
              "  background-color: var(--sklearn-color-fitted-level-0);\n",
              "}\n",
              "\n",
              "#sk-container-id-2 div.sk-toggleable__content pre {\n",
              "  margin: 0.2em;\n",
              "  border-radius: 0.25em;\n",
              "  color: var(--sklearn-color-text);\n",
              "  /* unfitted */\n",
              "  background-color: var(--sklearn-color-unfitted-level-0);\n",
              "}\n",
              "\n",
              "#sk-container-id-2 div.sk-toggleable__content.fitted pre {\n",
              "  /* unfitted */\n",
              "  background-color: var(--sklearn-color-fitted-level-0);\n",
              "}\n",
              "\n",
              "#sk-container-id-2 input.sk-toggleable__control:checked~div.sk-toggleable__content {\n",
              "  /* Expand drop-down */\n",
              "  max-height: 200px;\n",
              "  max-width: 100%;\n",
              "  overflow: auto;\n",
              "}\n",
              "\n",
              "#sk-container-id-2 input.sk-toggleable__control:checked~label.sk-toggleable__label-arrow:before {\n",
              "  content: \"▾\";\n",
              "}\n",
              "\n",
              "/* Pipeline/ColumnTransformer-specific style */\n",
              "\n",
              "#sk-container-id-2 div.sk-label input.sk-toggleable__control:checked~label.sk-toggleable__label {\n",
              "  color: var(--sklearn-color-text);\n",
              "  background-color: var(--sklearn-color-unfitted-level-2);\n",
              "}\n",
              "\n",
              "#sk-container-id-2 div.sk-label.fitted input.sk-toggleable__control:checked~label.sk-toggleable__label {\n",
              "  background-color: var(--sklearn-color-fitted-level-2);\n",
              "}\n",
              "\n",
              "/* Estimator-specific style */\n",
              "\n",
              "/* Colorize estimator box */\n",
              "#sk-container-id-2 div.sk-estimator input.sk-toggleable__control:checked~label.sk-toggleable__label {\n",
              "  /* unfitted */\n",
              "  background-color: var(--sklearn-color-unfitted-level-2);\n",
              "}\n",
              "\n",
              "#sk-container-id-2 div.sk-estimator.fitted input.sk-toggleable__control:checked~label.sk-toggleable__label {\n",
              "  /* fitted */\n",
              "  background-color: var(--sklearn-color-fitted-level-2);\n",
              "}\n",
              "\n",
              "#sk-container-id-2 div.sk-label label.sk-toggleable__label,\n",
              "#sk-container-id-2 div.sk-label label {\n",
              "  /* The background is the default theme color */\n",
              "  color: var(--sklearn-color-text-on-default-background);\n",
              "}\n",
              "\n",
              "/* On hover, darken the color of the background */\n",
              "#sk-container-id-2 div.sk-label:hover label.sk-toggleable__label {\n",
              "  color: var(--sklearn-color-text);\n",
              "  background-color: var(--sklearn-color-unfitted-level-2);\n",
              "}\n",
              "\n",
              "/* Label box, darken color on hover, fitted */\n",
              "#sk-container-id-2 div.sk-label.fitted:hover label.sk-toggleable__label.fitted {\n",
              "  color: var(--sklearn-color-text);\n",
              "  background-color: var(--sklearn-color-fitted-level-2);\n",
              "}\n",
              "\n",
              "/* Estimator label */\n",
              "\n",
              "#sk-container-id-2 div.sk-label label {\n",
              "  font-family: monospace;\n",
              "  font-weight: bold;\n",
              "  display: inline-block;\n",
              "  line-height: 1.2em;\n",
              "}\n",
              "\n",
              "#sk-container-id-2 div.sk-label-container {\n",
              "  text-align: center;\n",
              "}\n",
              "\n",
              "/* Estimator-specific */\n",
              "#sk-container-id-2 div.sk-estimator {\n",
              "  font-family: monospace;\n",
              "  border: 1px dotted var(--sklearn-color-border-box);\n",
              "  border-radius: 0.25em;\n",
              "  box-sizing: border-box;\n",
              "  margin-bottom: 0.5em;\n",
              "  /* unfitted */\n",
              "  background-color: var(--sklearn-color-unfitted-level-0);\n",
              "}\n",
              "\n",
              "#sk-container-id-2 div.sk-estimator.fitted {\n",
              "  /* fitted */\n",
              "  background-color: var(--sklearn-color-fitted-level-0);\n",
              "}\n",
              "\n",
              "/* on hover */\n",
              "#sk-container-id-2 div.sk-estimator:hover {\n",
              "  /* unfitted */\n",
              "  background-color: var(--sklearn-color-unfitted-level-2);\n",
              "}\n",
              "\n",
              "#sk-container-id-2 div.sk-estimator.fitted:hover {\n",
              "  /* fitted */\n",
              "  background-color: var(--sklearn-color-fitted-level-2);\n",
              "}\n",
              "\n",
              "/* Specification for estimator info (e.g. \"i\" and \"?\") */\n",
              "\n",
              "/* Common style for \"i\" and \"?\" */\n",
              "\n",
              ".sk-estimator-doc-link,\n",
              "a:link.sk-estimator-doc-link,\n",
              "a:visited.sk-estimator-doc-link {\n",
              "  float: right;\n",
              "  font-size: smaller;\n",
              "  line-height: 1em;\n",
              "  font-family: monospace;\n",
              "  background-color: var(--sklearn-color-background);\n",
              "  border-radius: 1em;\n",
              "  height: 1em;\n",
              "  width: 1em;\n",
              "  text-decoration: none !important;\n",
              "  margin-left: 1ex;\n",
              "  /* unfitted */\n",
              "  border: var(--sklearn-color-unfitted-level-1) 1pt solid;\n",
              "  color: var(--sklearn-color-unfitted-level-1);\n",
              "}\n",
              "\n",
              ".sk-estimator-doc-link.fitted,\n",
              "a:link.sk-estimator-doc-link.fitted,\n",
              "a:visited.sk-estimator-doc-link.fitted {\n",
              "  /* fitted */\n",
              "  border: var(--sklearn-color-fitted-level-1) 1pt solid;\n",
              "  color: var(--sklearn-color-fitted-level-1);\n",
              "}\n",
              "\n",
              "/* On hover */\n",
              "div.sk-estimator:hover .sk-estimator-doc-link:hover,\n",
              ".sk-estimator-doc-link:hover,\n",
              "div.sk-label-container:hover .sk-estimator-doc-link:hover,\n",
              ".sk-estimator-doc-link:hover {\n",
              "  /* unfitted */\n",
              "  background-color: var(--sklearn-color-unfitted-level-3);\n",
              "  color: var(--sklearn-color-background);\n",
              "  text-decoration: none;\n",
              "}\n",
              "\n",
              "div.sk-estimator.fitted:hover .sk-estimator-doc-link.fitted:hover,\n",
              ".sk-estimator-doc-link.fitted:hover,\n",
              "div.sk-label-container:hover .sk-estimator-doc-link.fitted:hover,\n",
              ".sk-estimator-doc-link.fitted:hover {\n",
              "  /* fitted */\n",
              "  background-color: var(--sklearn-color-fitted-level-3);\n",
              "  color: var(--sklearn-color-background);\n",
              "  text-decoration: none;\n",
              "}\n",
              "\n",
              "/* Span, style for the box shown on hovering the info icon */\n",
              ".sk-estimator-doc-link span {\n",
              "  display: none;\n",
              "  z-index: 9999;\n",
              "  position: relative;\n",
              "  font-weight: normal;\n",
              "  right: .2ex;\n",
              "  padding: .5ex;\n",
              "  margin: .5ex;\n",
              "  width: min-content;\n",
              "  min-width: 20ex;\n",
              "  max-width: 50ex;\n",
              "  color: var(--sklearn-color-text);\n",
              "  box-shadow: 2pt 2pt 4pt #999;\n",
              "  /* unfitted */\n",
              "  background: var(--sklearn-color-unfitted-level-0);\n",
              "  border: .5pt solid var(--sklearn-color-unfitted-level-3);\n",
              "}\n",
              "\n",
              ".sk-estimator-doc-link.fitted span {\n",
              "  /* fitted */\n",
              "  background: var(--sklearn-color-fitted-level-0);\n",
              "  border: var(--sklearn-color-fitted-level-3);\n",
              "}\n",
              "\n",
              ".sk-estimator-doc-link:hover span {\n",
              "  display: block;\n",
              "}\n",
              "\n",
              "/* \"?\"-specific style due to the `<a>` HTML tag */\n",
              "\n",
              "#sk-container-id-2 a.estimator_doc_link {\n",
              "  float: right;\n",
              "  font-size: 1rem;\n",
              "  line-height: 1em;\n",
              "  font-family: monospace;\n",
              "  background-color: var(--sklearn-color-background);\n",
              "  border-radius: 1rem;\n",
              "  height: 1rem;\n",
              "  width: 1rem;\n",
              "  text-decoration: none;\n",
              "  /* unfitted */\n",
              "  color: var(--sklearn-color-unfitted-level-1);\n",
              "  border: var(--sklearn-color-unfitted-level-1) 1pt solid;\n",
              "}\n",
              "\n",
              "#sk-container-id-2 a.estimator_doc_link.fitted {\n",
              "  /* fitted */\n",
              "  border: var(--sklearn-color-fitted-level-1) 1pt solid;\n",
              "  color: var(--sklearn-color-fitted-level-1);\n",
              "}\n",
              "\n",
              "/* On hover */\n",
              "#sk-container-id-2 a.estimator_doc_link:hover {\n",
              "  /* unfitted */\n",
              "  background-color: var(--sklearn-color-unfitted-level-3);\n",
              "  color: var(--sklearn-color-background);\n",
              "  text-decoration: none;\n",
              "}\n",
              "\n",
              "#sk-container-id-2 a.estimator_doc_link.fitted:hover {\n",
              "  /* fitted */\n",
              "  background-color: var(--sklearn-color-fitted-level-3);\n",
              "}\n",
              "</style><div id=\"sk-container-id-2\" class=\"sk-top-container\"><div class=\"sk-text-repr-fallback\"><pre>MLPClassifier(hidden_layer_sizes=(256,), max_iter=500, random_state=42)</pre><b>In a Jupyter environment, please rerun this cell to show the HTML representation or trust the notebook. <br />On GitHub, the HTML representation is unable to render, please try loading this page with nbviewer.org.</b></div><div class=\"sk-container\" hidden><div class=\"sk-item\"><div class=\"sk-estimator fitted sk-toggleable\"><input class=\"sk-toggleable__control sk-hidden--visually\" id=\"sk-estimator-id-2\" type=\"checkbox\" checked><label for=\"sk-estimator-id-2\" class=\"sk-toggleable__label fitted sk-toggleable__label-arrow fitted\">&nbsp;&nbsp;MLPClassifier<a class=\"sk-estimator-doc-link fitted\" rel=\"noreferrer\" target=\"_blank\" href=\"https://scikit-learn.org/1.5/modules/generated/sklearn.neural_network.MLPClassifier.html\">?<span>Documentation for MLPClassifier</span></a><span class=\"sk-estimator-doc-link fitted\">i<span>Fitted</span></span></label><div class=\"sk-toggleable__content fitted\"><pre>MLPClassifier(hidden_layer_sizes=(256,), max_iter=500, random_state=42)</pre></div> </div></div></div></div>"
            ]
          },
          "metadata": {},
          "execution_count": 21
        }
      ]
    },
    {
      "cell_type": "code",
      "source": [
        "# Predict and calculate accuracy\n",
        "y_pred_full = mlp_full.predict(X_test_full)\n",
        "accuracy_full = accuracy_score(y_test_full, y_pred_full)\n",
        "print(\"Accuracy of MLP classifier with full dataset (4096 nodes):\", accuracy_full)\n",
        "\n",
        "# Display comparison of the classifiers\n",
        "print(\"\\nComparison of Classifier Performance:\")\n",
        "print(f\"MLP with 100 PCA components: {accuracy:.4f}\")\n",
        "print(f\"MLP with 300 PCA components: {accuracy_300:.4f}\")\n",
        "print(f\"MLP with full dataset (4096 features): {accuracy_full:.4f}\")\n",
        "\n"
      ],
      "metadata": {
        "id": "A-j0ofwrCaRB",
        "colab": {
          "base_uri": "https://localhost:8080/"
        },
        "outputId": "c5b0fa93-1031-4ffc-b6b7-2849c8eca428"
      },
      "execution_count": 22,
      "outputs": [
        {
          "output_type": "stream",
          "name": "stdout",
          "text": [
            "Accuracy of MLP classifier with full dataset (4096 nodes): 0.925\n",
            "\n",
            "Comparison of Classifier Performance:\n",
            "MLP with 100 PCA components: 0.9250\n",
            "MLP with 300 PCA components: 0.9083\n",
            "MLP with full dataset (4096 features): 0.9250\n"
          ]
        }
      ]
    },
    {
      "cell_type": "markdown",
      "source": [
        "Train your new network for 500 Epochs, and calculate the classification accuracy of the new classifier."
      ],
      "metadata": {
        "id": "v6dbzewhCa0f"
      }
    },
    {
      "cell_type": "code",
      "source": [
        "from sklearn.neural_network import MLPClassifier\n",
        "from sklearn.metrics import accuracy_score\n",
        "\n",
        "# Define the MLP Classifier\n",
        "mlp_full = MLPClassifier(\n",
        "    hidden_layer_sizes=(256,),  # Single hidden layer with 256 nodes\n",
        "    max_iter=500,  # Train for 500 epochs\n",
        "    activation=\"relu\",  # ReLU activation function\n",
        "    solver=\"adam\",  # Adam optimizer\n",
        "    random_state=42,\n",
        "    verbose=True  # Show training progress\n",
        ")\n",
        "\n",
        "# Train the model\n",
        "mlp_full.fit(X_train_full, y_train_full)\n",
        "\n",
        "\n",
        "# Predict on the test dataset\n",
        "y_pred_full = mlp_full.predict(X_test_full)\n",
        "\n",
        "# Calculate the accuracy\n",
        "accuracy_full = accuracy_score(y_test_full, y_pred_full)\n",
        "print(\"Accuracy of MLP classifier with full dataset (4096 nodes):\", accuracy_full)"
      ],
      "metadata": {
        "id": "5ONSX36mCk1i",
        "colab": {
          "base_uri": "https://localhost:8080/"
        },
        "outputId": "9e43c485-2279-4c7e-e233-12e4dba7b3e3"
      },
      "execution_count": 23,
      "outputs": [
        {
          "output_type": "stream",
          "name": "stdout",
          "text": [
            "Iteration 1, loss = 4.38020280\n",
            "Iteration 2, loss = 4.68813562\n",
            "Iteration 3, loss = 4.22043443\n",
            "Iteration 4, loss = 3.91573946\n",
            "Iteration 5, loss = 3.78147270\n",
            "Iteration 6, loss = 3.68461863\n",
            "Iteration 7, loss = 3.59079243\n",
            "Iteration 8, loss = 3.53066516\n",
            "Iteration 9, loss = 3.47128375\n",
            "Iteration 10, loss = 3.42813239\n",
            "Iteration 11, loss = 3.37696640\n",
            "Iteration 12, loss = 3.33184385\n",
            "Iteration 13, loss = 3.27964914\n",
            "Iteration 14, loss = 3.23001704\n",
            "Iteration 15, loss = 3.19163982\n",
            "Iteration 16, loss = 3.14177816\n",
            "Iteration 17, loss = 3.10943594\n",
            "Iteration 18, loss = 3.06248243\n",
            "Iteration 19, loss = 2.99226818\n",
            "Iteration 20, loss = 2.96199929\n",
            "Iteration 21, loss = 2.91729498\n",
            "Iteration 22, loss = 2.85411079\n",
            "Iteration 23, loss = 2.81376289\n",
            "Iteration 24, loss = 2.77340257\n",
            "Iteration 25, loss = 2.71543714\n",
            "Iteration 26, loss = 2.65375064\n",
            "Iteration 27, loss = 2.61645733\n",
            "Iteration 28, loss = 2.56663214\n",
            "Iteration 29, loss = 2.50311076\n",
            "Iteration 30, loss = 2.45271538\n",
            "Iteration 31, loss = 2.40810467\n",
            "Iteration 32, loss = 2.34364341\n",
            "Iteration 33, loss = 2.30422014\n",
            "Iteration 34, loss = 2.23700565\n",
            "Iteration 35, loss = 2.19095242\n",
            "Iteration 36, loss = 2.13338535\n",
            "Iteration 37, loss = 2.08482374\n",
            "Iteration 38, loss = 2.04826785\n",
            "Iteration 39, loss = 1.98370013\n",
            "Iteration 40, loss = 1.93343158\n",
            "Iteration 41, loss = 1.90685027\n",
            "Iteration 42, loss = 1.83609768\n",
            "Iteration 43, loss = 1.78802777\n",
            "Iteration 44, loss = 1.74438098\n",
            "Iteration 45, loss = 1.66521351\n",
            "Iteration 46, loss = 1.65607805\n",
            "Iteration 47, loss = 1.61438821\n",
            "Iteration 48, loss = 1.55677114\n",
            "Iteration 49, loss = 1.51200265\n",
            "Iteration 50, loss = 1.45213660\n",
            "Iteration 51, loss = 1.42270734\n",
            "Iteration 52, loss = 1.37072624\n",
            "Iteration 53, loss = 1.33670133\n",
            "Iteration 54, loss = 1.30716629\n",
            "Iteration 55, loss = 1.26662685\n",
            "Iteration 56, loss = 1.22354308\n",
            "Iteration 57, loss = 1.20096356\n",
            "Iteration 58, loss = 1.15705345\n",
            "Iteration 59, loss = 1.11678633\n",
            "Iteration 60, loss = 1.08039182\n",
            "Iteration 61, loss = 1.05617332\n",
            "Iteration 62, loss = 1.02656175\n",
            "Iteration 63, loss = 1.00010591\n",
            "Iteration 64, loss = 0.97333888\n",
            "Iteration 65, loss = 0.93284512\n",
            "Iteration 66, loss = 0.90875621\n",
            "Iteration 67, loss = 0.88771280\n",
            "Iteration 68, loss = 0.86450016\n",
            "Iteration 69, loss = 0.83762853\n",
            "Iteration 70, loss = 0.82005408\n",
            "Iteration 71, loss = 0.79587182\n",
            "Iteration 72, loss = 0.77919786\n",
            "Iteration 73, loss = 0.75345660\n",
            "Iteration 74, loss = 0.73217396\n",
            "Iteration 75, loss = 0.70697391\n",
            "Iteration 76, loss = 0.69182011\n",
            "Iteration 77, loss = 0.68484721\n",
            "Iteration 78, loss = 0.65405502\n",
            "Iteration 79, loss = 0.64593660\n",
            "Iteration 80, loss = 0.61969955\n",
            "Iteration 81, loss = 0.60057355\n",
            "Iteration 82, loss = 0.58727433\n",
            "Iteration 83, loss = 0.56747217\n",
            "Iteration 84, loss = 0.55740273\n",
            "Iteration 85, loss = 0.54060831\n",
            "Iteration 86, loss = 0.52693761\n",
            "Iteration 87, loss = 0.51412994\n",
            "Iteration 88, loss = 0.50020243\n",
            "Iteration 89, loss = 0.49111497\n",
            "Iteration 90, loss = 0.47428513\n",
            "Iteration 91, loss = 0.47263148\n",
            "Iteration 92, loss = 0.45153978\n",
            "Iteration 93, loss = 0.44997925\n",
            "Iteration 94, loss = 0.42623223\n",
            "Iteration 95, loss = 0.42120612\n",
            "Iteration 96, loss = 0.41157790\n",
            "Iteration 97, loss = 0.39578554\n",
            "Iteration 98, loss = 0.39309289\n",
            "Iteration 99, loss = 0.37390820\n",
            "Iteration 100, loss = 0.36472270\n",
            "Iteration 101, loss = 0.35601112\n",
            "Iteration 102, loss = 0.34534410\n",
            "Iteration 103, loss = 0.34125943\n",
            "Iteration 104, loss = 0.33181906\n",
            "Iteration 105, loss = 0.32328180\n",
            "Iteration 106, loss = 0.31643412\n",
            "Iteration 107, loss = 0.31267598\n",
            "Iteration 108, loss = 0.29745264\n",
            "Iteration 109, loss = 0.29591354\n",
            "Iteration 110, loss = 0.29170303\n",
            "Iteration 111, loss = 0.28053292\n",
            "Iteration 112, loss = 0.27837168\n",
            "Iteration 113, loss = 0.27084036\n",
            "Iteration 114, loss = 0.26126120\n",
            "Iteration 115, loss = 0.26005385\n",
            "Iteration 116, loss = 0.25484170\n",
            "Iteration 117, loss = 0.24219668\n",
            "Iteration 118, loss = 0.23828479\n",
            "Iteration 119, loss = 0.23226219\n",
            "Iteration 120, loss = 0.22690824\n",
            "Iteration 121, loss = 0.22208077\n",
            "Iteration 122, loss = 0.21786399\n",
            "Iteration 123, loss = 0.21343153\n",
            "Iteration 124, loss = 0.20881602\n",
            "Iteration 125, loss = 0.20289085\n",
            "Iteration 126, loss = 0.19939765\n",
            "Iteration 127, loss = 0.19563523\n",
            "Iteration 128, loss = 0.18870163\n",
            "Iteration 129, loss = 0.19005925\n",
            "Iteration 130, loss = 0.18213592\n",
            "Iteration 131, loss = 0.18226040\n",
            "Iteration 132, loss = 0.17668768\n",
            "Iteration 133, loss = 0.17540868\n",
            "Iteration 134, loss = 0.16754476\n",
            "Iteration 135, loss = 0.16524888\n",
            "Iteration 136, loss = 0.16273233\n",
            "Iteration 137, loss = 0.15889107\n",
            "Iteration 138, loss = 0.15567011\n",
            "Iteration 139, loss = 0.15047178\n",
            "Iteration 140, loss = 0.14892288\n",
            "Iteration 141, loss = 0.14531249\n",
            "Iteration 142, loss = 0.14320639\n",
            "Iteration 143, loss = 0.14296542\n",
            "Iteration 144, loss = 0.13958816\n",
            "Iteration 145, loss = 0.13593951\n",
            "Iteration 146, loss = 0.13518102\n",
            "Iteration 147, loss = 0.13039689\n",
            "Iteration 148, loss = 0.13133426\n",
            "Iteration 149, loss = 0.12858290\n",
            "Iteration 150, loss = 0.12389866\n",
            "Iteration 151, loss = 0.12291375\n",
            "Iteration 152, loss = 0.12100705\n",
            "Iteration 153, loss = 0.11848539\n",
            "Iteration 154, loss = 0.11403152\n",
            "Iteration 155, loss = 0.11224032\n",
            "Iteration 156, loss = 0.11148444\n",
            "Iteration 157, loss = 0.10741429\n",
            "Iteration 158, loss = 0.10750144\n",
            "Iteration 159, loss = 0.10587459\n",
            "Iteration 160, loss = 0.10471823\n",
            "Iteration 161, loss = 0.10236515\n",
            "Iteration 162, loss = 0.09950885\n",
            "Iteration 163, loss = 0.09774131\n",
            "Iteration 164, loss = 0.09517734\n",
            "Iteration 165, loss = 0.09627196\n",
            "Iteration 166, loss = 0.09297393\n",
            "Iteration 167, loss = 0.09177266\n",
            "Iteration 168, loss = 0.09205330\n",
            "Iteration 169, loss = 0.08980247\n",
            "Iteration 170, loss = 0.08679527\n",
            "Iteration 171, loss = 0.08614521\n",
            "Iteration 172, loss = 0.08635719\n",
            "Iteration 173, loss = 0.08360931\n",
            "Iteration 174, loss = 0.08140272\n",
            "Iteration 175, loss = 0.08160686\n",
            "Iteration 176, loss = 0.07988735\n",
            "Iteration 177, loss = 0.07782048\n",
            "Iteration 178, loss = 0.07784849\n",
            "Iteration 179, loss = 0.07725491\n",
            "Iteration 180, loss = 0.07448885\n",
            "Iteration 181, loss = 0.07454317\n",
            "Iteration 182, loss = 0.07310522\n",
            "Iteration 183, loss = 0.07150074\n",
            "Iteration 184, loss = 0.07180135\n",
            "Iteration 185, loss = 0.06940300\n",
            "Iteration 186, loss = 0.06815364\n",
            "Iteration 187, loss = 0.06855506\n",
            "Iteration 188, loss = 0.06659149\n",
            "Iteration 189, loss = 0.06612601\n",
            "Iteration 190, loss = 0.06581395\n",
            "Iteration 191, loss = 0.06431760\n",
            "Iteration 192, loss = 0.06311844\n",
            "Iteration 193, loss = 0.06235719\n",
            "Iteration 194, loss = 0.06190055\n",
            "Iteration 195, loss = 0.06049114\n",
            "Iteration 196, loss = 0.05974046\n",
            "Iteration 197, loss = 0.05891703\n",
            "Iteration 198, loss = 0.05844485\n",
            "Iteration 199, loss = 0.05739025\n",
            "Iteration 200, loss = 0.05633393\n",
            "Iteration 201, loss = 0.05591234\n",
            "Iteration 202, loss = 0.05545741\n",
            "Iteration 203, loss = 0.05488945\n",
            "Iteration 204, loss = 0.05372750\n",
            "Iteration 205, loss = 0.05304493\n",
            "Iteration 206, loss = 0.05237142\n",
            "Iteration 207, loss = 0.05172097\n",
            "Iteration 208, loss = 0.05156969\n",
            "Iteration 209, loss = 0.05059596\n",
            "Iteration 210, loss = 0.05002798\n",
            "Iteration 211, loss = 0.04917954\n",
            "Iteration 212, loss = 0.04845137\n",
            "Iteration 213, loss = 0.04823225\n",
            "Iteration 214, loss = 0.04793973\n",
            "Iteration 215, loss = 0.04726287\n",
            "Iteration 216, loss = 0.04665718\n",
            "Iteration 217, loss = 0.04605186\n",
            "Iteration 218, loss = 0.04562973\n",
            "Iteration 219, loss = 0.04497535\n",
            "Iteration 220, loss = 0.04469986\n",
            "Iteration 221, loss = 0.04414575\n",
            "Iteration 222, loss = 0.04349825\n",
            "Iteration 223, loss = 0.04325404\n",
            "Iteration 224, loss = 0.04261542\n",
            "Iteration 225, loss = 0.04218982\n",
            "Iteration 226, loss = 0.04195896\n",
            "Iteration 227, loss = 0.04165350\n",
            "Iteration 228, loss = 0.04130209\n",
            "Iteration 229, loss = 0.04085899\n",
            "Iteration 230, loss = 0.04014919\n",
            "Iteration 231, loss = 0.04004926\n",
            "Iteration 232, loss = 0.03964365\n",
            "Iteration 233, loss = 0.03901918\n",
            "Iteration 234, loss = 0.03819300\n",
            "Iteration 235, loss = 0.03784056\n",
            "Iteration 236, loss = 0.03764171\n",
            "Iteration 237, loss = 0.03757058\n",
            "Iteration 238, loss = 0.03692647\n",
            "Iteration 239, loss = 0.03652700\n",
            "Iteration 240, loss = 0.03626311\n",
            "Iteration 241, loss = 0.03564383\n",
            "Iteration 242, loss = 0.03546727\n",
            "Iteration 243, loss = 0.03520149\n",
            "Iteration 244, loss = 0.03463005\n",
            "Iteration 245, loss = 0.03444373\n",
            "Iteration 246, loss = 0.03408555\n",
            "Iteration 247, loss = 0.03372560\n",
            "Iteration 248, loss = 0.03357204\n",
            "Iteration 249, loss = 0.03349996\n",
            "Iteration 250, loss = 0.03282289\n",
            "Iteration 251, loss = 0.03240219\n",
            "Iteration 252, loss = 0.03219337\n",
            "Iteration 253, loss = 0.03181260\n",
            "Iteration 254, loss = 0.03137276\n",
            "Iteration 255, loss = 0.03131220\n",
            "Iteration 256, loss = 0.03115462\n",
            "Iteration 257, loss = 0.03064918\n",
            "Iteration 258, loss = 0.03040259\n",
            "Iteration 259, loss = 0.03007692\n",
            "Iteration 260, loss = 0.02985476\n",
            "Iteration 261, loss = 0.02965853\n",
            "Iteration 262, loss = 0.02928892\n",
            "Iteration 263, loss = 0.02911818\n",
            "Iteration 264, loss = 0.02861333\n",
            "Iteration 265, loss = 0.02853197\n",
            "Iteration 266, loss = 0.02860837\n",
            "Iteration 267, loss = 0.02815010\n",
            "Iteration 268, loss = 0.02794874\n",
            "Iteration 269, loss = 0.02766313\n",
            "Iteration 270, loss = 0.02715299\n",
            "Iteration 271, loss = 0.02696767\n",
            "Iteration 272, loss = 0.02696862\n",
            "Iteration 273, loss = 0.02677806\n",
            "Iteration 274, loss = 0.02642418\n",
            "Iteration 275, loss = 0.02615347\n",
            "Iteration 276, loss = 0.02607503\n",
            "Iteration 277, loss = 0.02602427\n",
            "Iteration 278, loss = 0.02569789\n",
            "Iteration 279, loss = 0.02552592\n",
            "Iteration 280, loss = 0.02520795\n",
            "Iteration 281, loss = 0.02498998\n",
            "Iteration 282, loss = 0.02482264\n",
            "Iteration 283, loss = 0.02451911\n",
            "Iteration 284, loss = 0.02442878\n",
            "Iteration 285, loss = 0.02433642\n",
            "Iteration 286, loss = 0.02417102\n",
            "Iteration 287, loss = 0.02376013\n",
            "Iteration 288, loss = 0.02369826\n",
            "Iteration 289, loss = 0.02343803\n",
            "Iteration 290, loss = 0.02317809\n",
            "Iteration 291, loss = 0.02307216\n",
            "Iteration 292, loss = 0.02285929\n",
            "Iteration 293, loss = 0.02257489\n",
            "Iteration 294, loss = 0.02250625\n",
            "Iteration 295, loss = 0.02239285\n",
            "Iteration 296, loss = 0.02202001\n",
            "Iteration 297, loss = 0.02194463\n",
            "Iteration 298, loss = 0.02211643\n",
            "Iteration 299, loss = 0.02181342\n",
            "Iteration 300, loss = 0.02141439\n",
            "Iteration 301, loss = 0.02164716\n",
            "Iteration 302, loss = 0.02139198\n",
            "Iteration 303, loss = 0.02109161\n",
            "Iteration 304, loss = 0.02109353\n",
            "Iteration 305, loss = 0.02077381\n",
            "Iteration 306, loss = 0.02048960\n",
            "Iteration 307, loss = 0.02036495\n",
            "Iteration 308, loss = 0.02016306\n",
            "Iteration 309, loss = 0.02005407\n",
            "Iteration 310, loss = 0.01995273\n",
            "Iteration 311, loss = 0.01974003\n",
            "Iteration 312, loss = 0.01955737\n",
            "Iteration 313, loss = 0.01949602\n",
            "Iteration 314, loss = 0.01929611\n",
            "Iteration 315, loss = 0.01927626\n",
            "Iteration 316, loss = 0.01929913\n",
            "Iteration 317, loss = 0.01898507\n",
            "Iteration 318, loss = 0.01891730\n",
            "Iteration 319, loss = 0.01893469\n",
            "Iteration 320, loss = 0.01874815\n",
            "Iteration 321, loss = 0.01835299\n",
            "Iteration 322, loss = 0.01845309\n",
            "Iteration 323, loss = 0.01842086\n",
            "Iteration 324, loss = 0.01813484\n",
            "Iteration 325, loss = 0.01791654\n",
            "Iteration 326, loss = 0.01781435\n",
            "Iteration 327, loss = 0.01771792\n",
            "Iteration 328, loss = 0.01760161\n",
            "Iteration 329, loss = 0.01743388\n",
            "Iteration 330, loss = 0.01733699\n",
            "Iteration 331, loss = 0.01732645\n",
            "Iteration 332, loss = 0.01713035\n",
            "Iteration 333, loss = 0.01696635\n",
            "Iteration 334, loss = 0.01692856\n",
            "Iteration 335, loss = 0.01680342\n",
            "Iteration 336, loss = 0.01668306\n",
            "Iteration 337, loss = 0.01657928\n",
            "Iteration 338, loss = 0.01647726\n",
            "Iteration 339, loss = 0.01629036\n",
            "Iteration 340, loss = 0.01623359\n",
            "Iteration 341, loss = 0.01620205\n",
            "Iteration 342, loss = 0.01616903\n",
            "Iteration 343, loss = 0.01592918\n",
            "Iteration 344, loss = 0.01583460\n",
            "Iteration 345, loss = 0.01580957\n",
            "Iteration 346, loss = 0.01573715\n",
            "Iteration 347, loss = 0.01556541\n",
            "Iteration 348, loss = 0.01548930\n",
            "Iteration 349, loss = 0.01543730\n",
            "Iteration 350, loss = 0.01531406\n",
            "Iteration 351, loss = 0.01518202\n",
            "Iteration 352, loss = 0.01506028\n",
            "Iteration 353, loss = 0.01497244\n",
            "Iteration 354, loss = 0.01494571\n",
            "Iteration 355, loss = 0.01484937\n",
            "Iteration 356, loss = 0.01476252\n",
            "Iteration 357, loss = 0.01467760\n",
            "Iteration 358, loss = 0.01448855\n",
            "Iteration 359, loss = 0.01439913\n",
            "Iteration 360, loss = 0.01438660\n",
            "Iteration 361, loss = 0.01429387\n",
            "Iteration 362, loss = 0.01421557\n",
            "Iteration 363, loss = 0.01411101\n",
            "Iteration 364, loss = 0.01401935\n",
            "Iteration 365, loss = 0.01392562\n",
            "Iteration 366, loss = 0.01385497\n",
            "Iteration 367, loss = 0.01376998\n",
            "Iteration 368, loss = 0.01371312\n",
            "Iteration 369, loss = 0.01364236\n",
            "Iteration 370, loss = 0.01352438\n",
            "Iteration 371, loss = 0.01349101\n",
            "Iteration 372, loss = 0.01339866\n",
            "Iteration 373, loss = 0.01332259\n",
            "Iteration 374, loss = 0.01326944\n",
            "Iteration 375, loss = 0.01317326\n",
            "Iteration 376, loss = 0.01308743\n",
            "Iteration 377, loss = 0.01301413\n",
            "Iteration 378, loss = 0.01292483\n",
            "Iteration 379, loss = 0.01289277\n",
            "Iteration 380, loss = 0.01280381\n",
            "Iteration 381, loss = 0.01275413\n",
            "Training loss did not improve more than tol=0.000100 for 10 consecutive epochs. Stopping.\n",
            "Accuracy of MLP classifier with full dataset (4096 nodes): 0.925\n"
          ]
        }
      ]
    },
    {
      "cell_type": "markdown",
      "source": [
        "Compare the performance of the three desgined neural classifier and write your comments below."
      ],
      "metadata": {
        "id": "zGfeBmt6ClWN"
      }
    },
    {
      "cell_type": "code",
      "source": [
        "# Display comparison of the classifiers\n",
        "print(\"\\nComparison of Classifier Performance:\")\n",
        "print(f\"MLP with 100 PCA components: {accuracy:.4f}\")\n",
        "print(f\"MLP with 300 PCA components: {accuracy_300:.4f}\")\n",
        "print(f\"MLP with full dataset (4096 features): {accuracy_full:.4f}\")"
      ],
      "metadata": {
        "colab": {
          "base_uri": "https://localhost:8080/"
        },
        "id": "_h5JkhDDJfVW",
        "outputId": "e9c72afd-9cec-473b-e62a-48455579f194"
      },
      "execution_count": 24,
      "outputs": [
        {
          "output_type": "stream",
          "name": "stdout",
          "text": [
            "\n",
            "Comparison of Classifier Performance:\n",
            "MLP with 100 PCA components: 0.9250\n",
            "MLP with 300 PCA components: 0.9083\n",
            "MLP with full dataset (4096 features): 0.9250\n"
          ]
        }
      ]
    },
    {
      "cell_type": "markdown",
      "source": [
        "Performance Analysis:\n",
        "\n",
        "Accuracy and Dimensionality Reduction:\n",
        "\n",
        "By using PCA with 100 or 300 components, the dimensionality of the dataset is significantly reduced. This leads to faster training times and lower computational demands.\n",
        "Although reducing the number of features might cause a slight drop in accuracy, the principal components typically preserve most of the dataset's variance, making this trade-off practical and efficient for the model.\n",
        "Accuracy with Full Dataset:\n",
        "\n",
        "Training the model with all 4096 features ensures that the model has access to the full information, allowing for better feature representation.\n",
        "However, this method requires more computational resources and poses a higher risk of overfitting if proper regularization is not implemented.\n",
        "Influence of Hidden Layer Design:\n",
        "\n",
        "The number of nodes in the hidden layer is essential for capturing the complexity of data patterns.\n",
        "Larger hidden layers may be more capable of modeling intricate relationships within high-dimensional data but can also lead to slower training times and increase the chances of overfitting.\n"
      ],
      "metadata": {
        "id": "gwSP5zD6J2G_"
      }
    }
  ]
}