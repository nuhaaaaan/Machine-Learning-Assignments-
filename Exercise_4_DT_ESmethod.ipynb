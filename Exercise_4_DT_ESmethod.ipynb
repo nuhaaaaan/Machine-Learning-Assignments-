{
  "cells": [
    {
      "cell_type": "markdown",
      "metadata": {
        "id": "view-in-github",
        "colab_type": "text"
      },
      "source": [
        "<a href=\"https://colab.research.google.com/github/nuhaaaaan/Machine-Learning-Assignments-/blob/main/Exercise_4_DT_ESmethod.ipynb\" target=\"_parent\"><img src=\"https://colab.research.google.com/assets/colab-badge.svg\" alt=\"Open In Colab\"/></a>"
      ]
    },
    {
      "cell_type": "markdown",
      "metadata": {
        "id": "hNuQqd2YmV03"
      },
      "source": [
        "<img src=\"../src/packt-banner.png\" alt=\"\">"
      ]
    },
    {
      "cell_type": "markdown",
      "metadata": {
        "id": "NmADGEPKmV04"
      },
      "source": [
        "### Exercise 4: Build a DT, Random forest, and  Gradient Boosting modles\n",
        "##### (25 points) --> your total will divided by 5 to get 5 points for this exercise.\n",
        "\n",
        "##### Some steps have been done for you since they are initial and repeated steps or to show you how to use some new methods you have not done before\n",
        "---\n",
        "\n",
        "##### **Medical Appointment No Shows**\n",
        "In this Exercise we will be incorporating the Medical Appointment No-Shows dataset\n",
        "\n",
        "**Dataset:**\n",
        "You can find the dataset (No-show-Issue-Comma-300k.csv) under the datasets section on the Canvas.\n",
        "\n",
        "**About Dataset**\n",
        "Context\n",
        "A person makes a doctor appointment, receives all the instructions and no-show. Who to blame?\n",
        "\n",
        "\n",
        "Content\n",
        "110.527 medical appointments its 14 associated variables (characteristics).\n",
        "The most important one if the patient show-up or no-show to the appointment. Variable names are self-explanatory,"
      ]
    },
    {
      "cell_type": "markdown",
      "metadata": {
        "id": "RLC7OT735lXp"
      },
      "source": [
        "#### Problem:\n",
        "\n",
        "Dr. Judy, a pediatric surgeon and clinic supervisor at Ohio Clinic, was in big trouble, facing clinic losses for the third consecutive year. Dr. Judy had recently been promoted to this position, but she knew for a fact that the clinic had been doing due diligence in terms of efficiency. What surprised her most was that the hospital was incurring losses despite having the finest doctors available and no lack of scheduled appointments. To be reassured about the financial side of things, she hired a third-party firm to audit the finance department. However, the firm found no evidence pertaining to the dilemma at hand.\n",
        "\n",
        "A board meeting was expected soon and she had to gather insights by then to give a reason to this anomaly. Dr. Judy knew that neither speculations nor rumors would enable her to figure out the reason for the losses despite the number of scheduled appointments. To further investigate her suspicions, she obtained the data dump of appointments, and decided to use the data to validate the evidence. She knew that concrete data is not subject to bias and thus would provide a clear picture of the situation at hand. First she had to cross-check whether the features within the dataset were relevant to the problem at hand. Hence she fetched the data dictionary in Table"
      ]
    },
    {
      "cell_type": "markdown",
      "metadata": {
        "id": "BR8Xn-XAmV05"
      },
      "source": [
        "### Step to do:"
      ]
    },
    {
      "cell_type": "markdown",
      "metadata": {
        "id": "bO4pnQdXmV05"
      },
      "source": [
        "        1. Importing Packages Required:"
      ]
    },
    {
      "cell_type": "code",
      "execution_count": 1,
      "metadata": {
        "id": "pbSGBSnW5lXq"
      },
      "outputs": [],
      "source": [
        "%matplotlib inline\n",
        "\n",
        "import numpy as np\n",
        "import pandas as pd\n",
        "from time import time\n",
        "import matplotlib.pyplot as plt\n",
        "from IPython.display import Image\n",
        "from matplotlib.pylab import rcParams\n",
        "\n",
        "from sklearn import metrics\n",
        "from sklearn.model_selection import train_test_split\n",
        "\n",
        "from sklearn.tree import DecisionTreeClassifier\n",
        "\n",
        "from sklearn.ensemble import GradientBoostingClassifier, RandomForestClassifier\n",
        "from xgboost import XGBClassifier\n",
        "\n",
        "rcParams['figure.figsize'] = 15, 5"
      ]
    },
    {
      "cell_type": "markdown",
      "metadata": {
        "id": "VzZGiazm5lXr"
      },
      "source": [
        "Dr. Judy put her faith in the data dump and loaded it into the computer’s memory. She also made sure to print the first initial observations from the data dump."
      ]
    },
    {
      "cell_type": "markdown",
      "metadata": {
        "id": "ncdk2Q_cmV06"
      },
      "source": [
        "        2- Reading the Data in the Memory and Printing the First Few Observations"
      ]
    },
    {
      "cell_type": "code",
      "execution_count": 4,
      "metadata": {
        "id": "maDYsJPqmV06",
        "outputId": "e2d307fd-6cc9-4d84-eafa-6aa24be3cdc3",
        "colab": {
          "base_uri": "https://localhost:8080/",
          "height": 313
        }
      },
      "outputs": [
        {
          "output_type": "execute_result",
          "data": {
            "text/plain": [
              "   Age Gender AppointmentRegistration        ApointmentData DayOfTheWeek  \\\n",
              "0   19      M    2014-12-16T14:46:25Z  2015-01-14T00:00:00Z    Wednesday   \n",
              "1   24      F    2015-08-18T07:01:26Z  2015-08-19T00:00:00Z    Wednesday   \n",
              "2    4      F    2014-02-17T12:53:46Z  2014-02-18T00:00:00Z      Tuesday   \n",
              "3    5      M    2014-07-23T17:02:11Z  2014-08-07T00:00:00Z     Thursday   \n",
              "4   38      M    2015-10-21T15:20:09Z  2015-10-27T00:00:00Z      Tuesday   \n",
              "\n",
              "    Status  Diabetes  Alcoolism  HiperTension  Handcap  Smokes  Scholarship  \\\n",
              "0  Show-Up         0          0             0        0       0            0   \n",
              "1  Show-Up         0          0             0        0       0            0   \n",
              "2  Show-Up         0          0             0        0       0            0   \n",
              "3  Show-Up         0          0             0        0       0            0   \n",
              "4  Show-Up         0          0             0        0       0            0   \n",
              "\n",
              "   Tuberculosis  Sms_Reminder  AwaitingTime  \n",
              "0             0             0           -29  \n",
              "1             0             0            -1  \n",
              "2             0             0            -1  \n",
              "3             0             1           -15  \n",
              "4             0             1            -6  "
            ],
            "text/html": [
              "\n",
              "  <div id=\"df-dfc1710b-d1c2-40d4-87e5-b589196398b5\" class=\"colab-df-container\">\n",
              "    <div>\n",
              "<style scoped>\n",
              "    .dataframe tbody tr th:only-of-type {\n",
              "        vertical-align: middle;\n",
              "    }\n",
              "\n",
              "    .dataframe tbody tr th {\n",
              "        vertical-align: top;\n",
              "    }\n",
              "\n",
              "    .dataframe thead th {\n",
              "        text-align: right;\n",
              "    }\n",
              "</style>\n",
              "<table border=\"1\" class=\"dataframe\">\n",
              "  <thead>\n",
              "    <tr style=\"text-align: right;\">\n",
              "      <th></th>\n",
              "      <th>Age</th>\n",
              "      <th>Gender</th>\n",
              "      <th>AppointmentRegistration</th>\n",
              "      <th>ApointmentData</th>\n",
              "      <th>DayOfTheWeek</th>\n",
              "      <th>Status</th>\n",
              "      <th>Diabetes</th>\n",
              "      <th>Alcoolism</th>\n",
              "      <th>HiperTension</th>\n",
              "      <th>Handcap</th>\n",
              "      <th>Smokes</th>\n",
              "      <th>Scholarship</th>\n",
              "      <th>Tuberculosis</th>\n",
              "      <th>Sms_Reminder</th>\n",
              "      <th>AwaitingTime</th>\n",
              "    </tr>\n",
              "  </thead>\n",
              "  <tbody>\n",
              "    <tr>\n",
              "      <th>0</th>\n",
              "      <td>19</td>\n",
              "      <td>M</td>\n",
              "      <td>2014-12-16T14:46:25Z</td>\n",
              "      <td>2015-01-14T00:00:00Z</td>\n",
              "      <td>Wednesday</td>\n",
              "      <td>Show-Up</td>\n",
              "      <td>0</td>\n",
              "      <td>0</td>\n",
              "      <td>0</td>\n",
              "      <td>0</td>\n",
              "      <td>0</td>\n",
              "      <td>0</td>\n",
              "      <td>0</td>\n",
              "      <td>0</td>\n",
              "      <td>-29</td>\n",
              "    </tr>\n",
              "    <tr>\n",
              "      <th>1</th>\n",
              "      <td>24</td>\n",
              "      <td>F</td>\n",
              "      <td>2015-08-18T07:01:26Z</td>\n",
              "      <td>2015-08-19T00:00:00Z</td>\n",
              "      <td>Wednesday</td>\n",
              "      <td>Show-Up</td>\n",
              "      <td>0</td>\n",
              "      <td>0</td>\n",
              "      <td>0</td>\n",
              "      <td>0</td>\n",
              "      <td>0</td>\n",
              "      <td>0</td>\n",
              "      <td>0</td>\n",
              "      <td>0</td>\n",
              "      <td>-1</td>\n",
              "    </tr>\n",
              "    <tr>\n",
              "      <th>2</th>\n",
              "      <td>4</td>\n",
              "      <td>F</td>\n",
              "      <td>2014-02-17T12:53:46Z</td>\n",
              "      <td>2014-02-18T00:00:00Z</td>\n",
              "      <td>Tuesday</td>\n",
              "      <td>Show-Up</td>\n",
              "      <td>0</td>\n",
              "      <td>0</td>\n",
              "      <td>0</td>\n",
              "      <td>0</td>\n",
              "      <td>0</td>\n",
              "      <td>0</td>\n",
              "      <td>0</td>\n",
              "      <td>0</td>\n",
              "      <td>-1</td>\n",
              "    </tr>\n",
              "    <tr>\n",
              "      <th>3</th>\n",
              "      <td>5</td>\n",
              "      <td>M</td>\n",
              "      <td>2014-07-23T17:02:11Z</td>\n",
              "      <td>2014-08-07T00:00:00Z</td>\n",
              "      <td>Thursday</td>\n",
              "      <td>Show-Up</td>\n",
              "      <td>0</td>\n",
              "      <td>0</td>\n",
              "      <td>0</td>\n",
              "      <td>0</td>\n",
              "      <td>0</td>\n",
              "      <td>0</td>\n",
              "      <td>0</td>\n",
              "      <td>1</td>\n",
              "      <td>-15</td>\n",
              "    </tr>\n",
              "    <tr>\n",
              "      <th>4</th>\n",
              "      <td>38</td>\n",
              "      <td>M</td>\n",
              "      <td>2015-10-21T15:20:09Z</td>\n",
              "      <td>2015-10-27T00:00:00Z</td>\n",
              "      <td>Tuesday</td>\n",
              "      <td>Show-Up</td>\n",
              "      <td>0</td>\n",
              "      <td>0</td>\n",
              "      <td>0</td>\n",
              "      <td>0</td>\n",
              "      <td>0</td>\n",
              "      <td>0</td>\n",
              "      <td>0</td>\n",
              "      <td>1</td>\n",
              "      <td>-6</td>\n",
              "    </tr>\n",
              "  </tbody>\n",
              "</table>\n",
              "</div>\n",
              "    <div class=\"colab-df-buttons\">\n",
              "\n",
              "  <div class=\"colab-df-container\">\n",
              "    <button class=\"colab-df-convert\" onclick=\"convertToInteractive('df-dfc1710b-d1c2-40d4-87e5-b589196398b5')\"\n",
              "            title=\"Convert this dataframe to an interactive table.\"\n",
              "            style=\"display:none;\">\n",
              "\n",
              "  <svg xmlns=\"http://www.w3.org/2000/svg\" height=\"24px\" viewBox=\"0 -960 960 960\">\n",
              "    <path d=\"M120-120v-720h720v720H120Zm60-500h600v-160H180v160Zm220 220h160v-160H400v160Zm0 220h160v-160H400v160ZM180-400h160v-160H180v160Zm440 0h160v-160H620v160ZM180-180h160v-160H180v160Zm440 0h160v-160H620v160Z\"/>\n",
              "  </svg>\n",
              "    </button>\n",
              "\n",
              "  <style>\n",
              "    .colab-df-container {\n",
              "      display:flex;\n",
              "      gap: 12px;\n",
              "    }\n",
              "\n",
              "    .colab-df-convert {\n",
              "      background-color: #E8F0FE;\n",
              "      border: none;\n",
              "      border-radius: 50%;\n",
              "      cursor: pointer;\n",
              "      display: none;\n",
              "      fill: #1967D2;\n",
              "      height: 32px;\n",
              "      padding: 0 0 0 0;\n",
              "      width: 32px;\n",
              "    }\n",
              "\n",
              "    .colab-df-convert:hover {\n",
              "      background-color: #E2EBFA;\n",
              "      box-shadow: 0px 1px 2px rgba(60, 64, 67, 0.3), 0px 1px 3px 1px rgba(60, 64, 67, 0.15);\n",
              "      fill: #174EA6;\n",
              "    }\n",
              "\n",
              "    .colab-df-buttons div {\n",
              "      margin-bottom: 4px;\n",
              "    }\n",
              "\n",
              "    [theme=dark] .colab-df-convert {\n",
              "      background-color: #3B4455;\n",
              "      fill: #D2E3FC;\n",
              "    }\n",
              "\n",
              "    [theme=dark] .colab-df-convert:hover {\n",
              "      background-color: #434B5C;\n",
              "      box-shadow: 0px 1px 3px 1px rgba(0, 0, 0, 0.15);\n",
              "      filter: drop-shadow(0px 1px 2px rgba(0, 0, 0, 0.3));\n",
              "      fill: #FFFFFF;\n",
              "    }\n",
              "  </style>\n",
              "\n",
              "    <script>\n",
              "      const buttonEl =\n",
              "        document.querySelector('#df-dfc1710b-d1c2-40d4-87e5-b589196398b5 button.colab-df-convert');\n",
              "      buttonEl.style.display =\n",
              "        google.colab.kernel.accessAllowed ? 'block' : 'none';\n",
              "\n",
              "      async function convertToInteractive(key) {\n",
              "        const element = document.querySelector('#df-dfc1710b-d1c2-40d4-87e5-b589196398b5');\n",
              "        const dataTable =\n",
              "          await google.colab.kernel.invokeFunction('convertToInteractive',\n",
              "                                                    [key], {});\n",
              "        if (!dataTable) return;\n",
              "\n",
              "        const docLinkHtml = 'Like what you see? Visit the ' +\n",
              "          '<a target=\"_blank\" href=https://colab.research.google.com/notebooks/data_table.ipynb>data table notebook</a>'\n",
              "          + ' to learn more about interactive tables.';\n",
              "        element.innerHTML = '';\n",
              "        dataTable['output_type'] = 'display_data';\n",
              "        await google.colab.output.renderOutput(dataTable, element);\n",
              "        const docLink = document.createElement('div');\n",
              "        docLink.innerHTML = docLinkHtml;\n",
              "        element.appendChild(docLink);\n",
              "      }\n",
              "    </script>\n",
              "  </div>\n",
              "\n",
              "\n",
              "<div id=\"df-1d75b363-8089-4fb8-b067-c6e15149465d\">\n",
              "  <button class=\"colab-df-quickchart\" onclick=\"quickchart('df-1d75b363-8089-4fb8-b067-c6e15149465d')\"\n",
              "            title=\"Suggest charts\"\n",
              "            style=\"display:none;\">\n",
              "\n",
              "<svg xmlns=\"http://www.w3.org/2000/svg\" height=\"24px\"viewBox=\"0 0 24 24\"\n",
              "     width=\"24px\">\n",
              "    <g>\n",
              "        <path d=\"M19 3H5c-1.1 0-2 .9-2 2v14c0 1.1.9 2 2 2h14c1.1 0 2-.9 2-2V5c0-1.1-.9-2-2-2zM9 17H7v-7h2v7zm4 0h-2V7h2v10zm4 0h-2v-4h2v4z\"/>\n",
              "    </g>\n",
              "</svg>\n",
              "  </button>\n",
              "\n",
              "<style>\n",
              "  .colab-df-quickchart {\n",
              "      --bg-color: #E8F0FE;\n",
              "      --fill-color: #1967D2;\n",
              "      --hover-bg-color: #E2EBFA;\n",
              "      --hover-fill-color: #174EA6;\n",
              "      --disabled-fill-color: #AAA;\n",
              "      --disabled-bg-color: #DDD;\n",
              "  }\n",
              "\n",
              "  [theme=dark] .colab-df-quickchart {\n",
              "      --bg-color: #3B4455;\n",
              "      --fill-color: #D2E3FC;\n",
              "      --hover-bg-color: #434B5C;\n",
              "      --hover-fill-color: #FFFFFF;\n",
              "      --disabled-bg-color: #3B4455;\n",
              "      --disabled-fill-color: #666;\n",
              "  }\n",
              "\n",
              "  .colab-df-quickchart {\n",
              "    background-color: var(--bg-color);\n",
              "    border: none;\n",
              "    border-radius: 50%;\n",
              "    cursor: pointer;\n",
              "    display: none;\n",
              "    fill: var(--fill-color);\n",
              "    height: 32px;\n",
              "    padding: 0;\n",
              "    width: 32px;\n",
              "  }\n",
              "\n",
              "  .colab-df-quickchart:hover {\n",
              "    background-color: var(--hover-bg-color);\n",
              "    box-shadow: 0 1px 2px rgba(60, 64, 67, 0.3), 0 1px 3px 1px rgba(60, 64, 67, 0.15);\n",
              "    fill: var(--button-hover-fill-color);\n",
              "  }\n",
              "\n",
              "  .colab-df-quickchart-complete:disabled,\n",
              "  .colab-df-quickchart-complete:disabled:hover {\n",
              "    background-color: var(--disabled-bg-color);\n",
              "    fill: var(--disabled-fill-color);\n",
              "    box-shadow: none;\n",
              "  }\n",
              "\n",
              "  .colab-df-spinner {\n",
              "    border: 2px solid var(--fill-color);\n",
              "    border-color: transparent;\n",
              "    border-bottom-color: var(--fill-color);\n",
              "    animation:\n",
              "      spin 1s steps(1) infinite;\n",
              "  }\n",
              "\n",
              "  @keyframes spin {\n",
              "    0% {\n",
              "      border-color: transparent;\n",
              "      border-bottom-color: var(--fill-color);\n",
              "      border-left-color: var(--fill-color);\n",
              "    }\n",
              "    20% {\n",
              "      border-color: transparent;\n",
              "      border-left-color: var(--fill-color);\n",
              "      border-top-color: var(--fill-color);\n",
              "    }\n",
              "    30% {\n",
              "      border-color: transparent;\n",
              "      border-left-color: var(--fill-color);\n",
              "      border-top-color: var(--fill-color);\n",
              "      border-right-color: var(--fill-color);\n",
              "    }\n",
              "    40% {\n",
              "      border-color: transparent;\n",
              "      border-right-color: var(--fill-color);\n",
              "      border-top-color: var(--fill-color);\n",
              "    }\n",
              "    60% {\n",
              "      border-color: transparent;\n",
              "      border-right-color: var(--fill-color);\n",
              "    }\n",
              "    80% {\n",
              "      border-color: transparent;\n",
              "      border-right-color: var(--fill-color);\n",
              "      border-bottom-color: var(--fill-color);\n",
              "    }\n",
              "    90% {\n",
              "      border-color: transparent;\n",
              "      border-bottom-color: var(--fill-color);\n",
              "    }\n",
              "  }\n",
              "</style>\n",
              "\n",
              "  <script>\n",
              "    async function quickchart(key) {\n",
              "      const quickchartButtonEl =\n",
              "        document.querySelector('#' + key + ' button');\n",
              "      quickchartButtonEl.disabled = true;  // To prevent multiple clicks.\n",
              "      quickchartButtonEl.classList.add('colab-df-spinner');\n",
              "      try {\n",
              "        const charts = await google.colab.kernel.invokeFunction(\n",
              "            'suggestCharts', [key], {});\n",
              "      } catch (error) {\n",
              "        console.error('Error during call to suggestCharts:', error);\n",
              "      }\n",
              "      quickchartButtonEl.classList.remove('colab-df-spinner');\n",
              "      quickchartButtonEl.classList.add('colab-df-quickchart-complete');\n",
              "    }\n",
              "    (() => {\n",
              "      let quickchartButtonEl =\n",
              "        document.querySelector('#df-1d75b363-8089-4fb8-b067-c6e15149465d button');\n",
              "      quickchartButtonEl.style.display =\n",
              "        google.colab.kernel.accessAllowed ? 'block' : 'none';\n",
              "    })();\n",
              "  </script>\n",
              "</div>\n",
              "\n",
              "    </div>\n",
              "  </div>\n"
            ],
            "application/vnd.google.colaboratory.intrinsic+json": {
              "type": "dataframe",
              "variable_name": "data"
            }
          },
          "metadata": {},
          "execution_count": 4
        }
      ],
      "source": [
        "data = pd.read_csv('No-show-Issue-Comma-300k.csv')\n",
        "data.head()"
      ]
    },
    {
      "cell_type": "markdown",
      "metadata": {
        "id": "4Ld-9sJJmV07"
      },
      "source": [
        "### Features’ Exploration:"
      ]
    },
    {
      "cell_type": "markdown",
      "metadata": {
        "id": "ibrKEc3P5lXs"
      },
      "source": [
        "She anticipated the records within the data dump to be in thousands as she noticed that the appointment calendars were usually full at the start of every month. She decided to validate that"
      ]
    },
    {
      "cell_type": "markdown",
      "metadata": {
        "id": "exO8FPfH5lXs"
      },
      "source": [
        "        3- Finding Count of Number of Observations in the Dataset."
      ]
    },
    {
      "cell_type": "code",
      "execution_count": 5,
      "metadata": {
        "id": "9NP4mFBj5lXs",
        "outputId": "1289a8c5-fe26-490d-b673-beee7a14433a",
        "colab": {
          "base_uri": "https://localhost:8080/"
        }
      },
      "outputs": [
        {
          "output_type": "execute_result",
          "data": {
            "text/plain": [
              "300000"
            ]
          },
          "metadata": {},
          "execution_count": 5
        }
      ],
      "source": [
        "len(data)"
      ]
    },
    {
      "cell_type": "markdown",
      "metadata": {
        "id": "FbZp9_US5lXt"
      },
      "source": [
        "The above output was way above Dr. Judy’s expectations and reassured her of the fact that insights gained from the data will have a high confidence level. Next she planned on observing the number of distinct values within each of the features. She believed this would help her to drop the features that offered no variability (i.e., having same value for all observations) and to decide upon the types of plots these features could be represented in."
      ]
    },
    {
      "cell_type": "markdown",
      "metadata": {
        "id": "96EpPkqI5lXt"
      },
      "source": [
        "        4- Print of the Frequency of Distinct Values in Each Feature Set"
      ]
    },
    {
      "cell_type": "code",
      "execution_count": 6,
      "metadata": {
        "id": "KoRlIzcx5lXt",
        "outputId": "024f9a51-4824-4f33-fd48-6b95db7875a1",
        "colab": {
          "base_uri": "https://localhost:8080/"
        }
      },
      "outputs": [
        {
          "output_type": "stream",
          "name": "stdout",
          "text": [
            "Age                       109\n",
            "Gender                    2\n",
            "AppointmentRegistration   295425\n",
            "ApointmentData            534\n",
            "DayOfTheWeek              7\n",
            "Status                    2\n",
            "Diabetes                  2\n",
            "Alcoolism                 2\n",
            "HiperTension              2\n",
            "Handcap                   5\n",
            "Smokes                    2\n",
            "Scholarship               2\n",
            "Tuberculosis              2\n",
            "Sms_Reminder              3\n",
            "AwaitingTime              213\n"
          ]
        }
      ],
      "source": [
        "for column in list(data.columns):\n",
        "    print( \"{0:25} {1}\".format(column, data[column].nunique()))"
      ]
    },
    {
      "cell_type": "markdown",
      "metadata": {
        "id": "a8WvKTFOmV07"
      },
      "source": [
        "Dr. Judy explained that {0:25} in the print statement meant that the feature in the first index (i.e., column) would be printed and 25 character spaces would be allocated to it. The above output implied that there are many variables within the dataset that have discrete values, examples of which include Gender, Status, DayOfTheWeek, and so on. This helped her choose the types of plots to represent each of these features. She decided to plot AwaitingTime and Age as histograms because these are numbers and continuous in nature. As for the features which are discrete in nature, she planned to represent them as a bar graph.She executed that graph by initializing the function in the cell below:"
      ]
    },
    {
      "cell_type": "code",
      "execution_count": 60,
      "metadata": {
        "id": "Chjpo6fb5lXt"
      },
      "outputs": [],
      "source": [
        "def features_plots(discrete_vars):\n",
        "\n",
        "    plt.figure(figsize=(15,24.5))\n",
        "\n",
        "    for i, cv in enumerate(['Age', 'AwaitingTime']):\n",
        "        plt.subplot(7, 2, i+1)\n",
        "        plt.hist(data[cv], bins=len(data[cv].unique()))\n",
        "        plt.title(cv)\n",
        "        plt.ylabel('Frequency')\n",
        "\n",
        "    for i, dv in enumerate(discrete_vars):\n",
        "        plt.subplot(7, 2, i+3)\n",
        "        data[dv].value_counts().plot(kind='bar', title=dv)\n",
        "        plt.ylabel('Frequency')"
      ]
    },
    {
      "cell_type": "markdown",
      "metadata": {
        "id": "rkYFg3LO5lXt"
      },
      "source": [
        "Dr. Judy pointed to the fact that the method in the above cell takes as an input the names of features which are discrete in nature because those will be represented as bar graphs. Without wasting time she called the function to plot the feature representations"
      ]
    },
    {
      "cell_type": "markdown",
      "metadata": {
        "id": "J81qewoj5lXt"
      },
      "source": [
        "        5- Calling ‘features_plot’ method to Plot the Feature Representation ( 1 point)"
      ]
    },
    {
      "cell_type": "code",
      "execution_count": 61,
      "metadata": {
        "id": "KfL6no2FmV07",
        "colab": {
          "base_uri": "https://localhost:8080/",
          "height": 1000
        },
        "outputId": "83583569-c8d2-45a5-8427-36c15b57c384"
      },
      "outputs": [
        {
          "output_type": "display_data",
          "data": {
            "text/plain": [
              "<Figure size 1500x2450 with 11 Axes>"
            ],
            "image/png": "[encoded data removed]"
          },
          "metadata": {}
        }
      ],
      "source": [
        "# Define the list of discrete variables\n",
        "discrete_vars = ['Gender', 'Smokes', 'Diabetes', 'Alcoolism', 'HiperTension', 'Scholarship',\n",
        "                 'Tuberculosis', 'Sms_Reminder', 'Status']\n",
        "\n",
        "# Call the features_plots function to plot the feature representation\n",
        "features_plots(discrete_vars)"
      ]
    },
    {
      "cell_type": "markdown",
      "metadata": {
        "id": "u5CcFJNr5lXu"
      },
      "source": [
        "Dr. Judy made the following deductions about some of the features from the dataset :\n",
        "Handicap: Instead of being Boolean, this feature had values in the range of 0 and 4.\n",
        "\n",
        "Sms_Reminder: Instead of being a Boolean entity, it had values in the range of 0 and 2. It seemed to her that Sms_Reminder represented the frequency of reminders sent to each and every patient."
      ]
    },
    {
      "cell_type": "markdown",
      "metadata": {
        "id": "YnOD2TiK5lXu"
      },
      "source": [
        "        6- Look a the Feature Representation plots,\n",
        "        a. Does any feature has missing values? (1 point)\n",
        "        b. Make some deductions about Age and AwaitingTime. (1 points)"
      ]
    },
    {
      "cell_type": "markdown",
      "metadata": {
        "id": "pB9i74aL5lXu"
      },
      "source": [
        "#### Write your answer here:\n",
        "Analyzing Features and Drawing Insights\n",
        "1. Checking for Missing Values\n",
        "A critical step in data analysis is identifying if any features contain missing values. Missing data can appear as gaps or unusual patterns in plots, or as NaN values in the dataset. Using Python, we can quantify missing entries:\n",
        "\n",
        "# Check for missing values in the dataset\n",
        "missing_values = data.isnull().sum()\n",
        "print(\"Missing values in each feature:\\n\", missing_values)\n",
        "\n",
        "2. Insights from Age and AwaitingTime\n",
        "a. Age\n",
        "The distribution of age provides insights into patient demographics:\n",
        "\n",
        "Possible Deductions:\n",
        "A histogram of age might show peaks at certain intervals, such as infants, young adults, or elderly groups.\n",
        "Outliers, such as ages below 0 or exceptionally high values, need scrutiny and potential correction.\n",
        "b. AwaitingTime\n",
        "This feature captures the time patients waited for their appointments:\n",
        "\n",
        "Possible Deductions:\n",
        "A concentrated distribution around zero suggests minimal waiting for most patients.\n",
        "Longer waiting periods might correlate with an increased likelihood of no-shows, offering operational insights.\n",
        "Any prior negative values have been corrected to their absolute forms.\n",
        "3. Visualizing Age and AwaitingTime\n",
        "By plotting their distributions, we can better understand these features and confirm any anomalies:\n",
        "\n",
        "python\n",
        "Copy code\n",
        "# Check basic statistics for Age and AwaitingTime\n",
        "print(data['Age'].describe())\n",
        "print(data['AwaitingTime'].describe())\n",
        "\n",
        "# Plot histograms for Age and AwaitingTime\n",
        "data[['Age', 'AwaitingTime']].hist(bins=30, figsize=(10, 5), grid=False)\n",
        "plt.show()"
      ]
    },
    {
      "cell_type": "markdown",
      "metadata": {
        "id": "qIWM9RLq5lXu"
      },
      "source": []
    },
    {
      "cell_type": "markdown",
      "metadata": {
        "id": "kC3-eax45lXu"
      },
      "source": [
        "Findings from the deductions meant that Dr.Judy would have to clean data a bit (i.e., perform data wrangling) before pushing it into the analysis pipeline."
      ]
    },
    {
      "cell_type": "markdown",
      "metadata": {
        "id": "1ucj6B4G5lXu"
      },
      "source": [
        "### Performing Data Wrangling"
      ]
    },
    {
      "cell_type": "markdown",
      "metadata": {
        "id": "IKF7VK-C5lXu"
      },
      "source": [
        "        7-  Count Frequency of Negative Age Observations (1 point)"
      ]
    },
    {
      "cell_type": "code",
      "execution_count": 11,
      "metadata": {
        "id": "Qik3fdoQmV08",
        "colab": {
          "base_uri": "https://localhost:8080/"
        },
        "outputId": "f23800fd-784a-462d-b696-74fe4b0ddd3b"
      },
      "outputs": [
        {
          "output_type": "stream",
          "name": "stdout",
          "text": [
            "Frequency of negative age observations: 6\n",
            "Negative ages have been replaced with the median age.\n"
          ]
        }
      ],
      "source": [
        "# write your code here:\n",
        "# Count the frequency of negative age values\n",
        "negative_age_count = data[data['Age'] < 0].shape[0]\n",
        "print(f\"Frequency of negative age observations: {negative_age_count}\")\n",
        "\n",
        "# Replace negative ages with the median age\n",
        "median_age = data[data['Age'] >= 0]['Age'].median()\n",
        "data.loc[data['Age'] < 0, 'Age'] = median_age\n",
        "print(\"Negative ages have been replaced with the median age.\")\n",
        "\n"
      ]
    },
    {
      "cell_type": "markdown",
      "metadata": {
        "id": "t525fLTl5lXu"
      },
      "source": [
        "        8- Remove Observations with Negative Age Values (1 point)"
      ]
    },
    {
      "cell_type": "code",
      "execution_count": 58,
      "metadata": {
        "id": "2aPc9uO-mV08",
        "colab": {
          "base_uri": "https://localhost:8080/"
        },
        "outputId": "0d2602a0-1e43-48d9-b7f0-ff67e2ad58f6"
      },
      "outputs": [
        {
          "output_type": "stream",
          "name": "stdout",
          "text": [
            "Number of rows after removing negative ages: 300000\n"
          ]
        }
      ],
      "source": [
        "# Remove rows where Age is negative\n",
        "data_cleaned = data[data['Age'] >= 0]\n",
        "\n",
        "# Verify the removal\n",
        "print(f\"Number of rows after removing negative ages: {data_cleaned.shape[0]}\")\n"
      ]
    },
    {
      "cell_type": "markdown",
      "metadata": {
        "id": "B6KSj5lQ5lXu"
      },
      "source": [
        "While looking at the deductions from Feature Representation plots, Dr. Judy also noticed that the feature named ‘Handicap’ was an integer variable rather than a Boolean variable one. She recalled that the data definition for this feature set was missing from the data source and hence open to multiple interpretations. The only rationale she could think of for values lying within the range of 0 and 4 was that this might be a numeric entity representing the frequency of times a patient has been handicapped. As the interpretation of this feature was ambiguous to her she decided to drop this feature from the dataset ."
      ]
    },
    {
      "cell_type": "markdown",
      "metadata": {
        "id": "M6oWgOIk5lXv"
      },
      "source": [
        "        9- Remove Variable Named ‘Handicap’ from the Dataset ( 1 point )"
      ]
    },
    {
      "cell_type": "code",
      "execution_count": 59,
      "metadata": {
        "id": "GEFPpqzP5lXv",
        "colab": {
          "base_uri": "https://localhost:8080/"
        },
        "outputId": "914cdfcf-5b1f-42de-9156-4617787e829f"
      },
      "outputs": [
        {
          "output_type": "stream",
          "name": "stdout",
          "text": [
            "Columns after removal: Index(['Age', 'Gender', 'AppointmentRegistration', 'ApointmentData', 'DayOfTheWeek', 'Status',\n",
            "       'Diabetes', 'Alcoolism', 'HiperTension', 'Handcap', 'Smokes', 'Scholarship', 'Tuberculosis',\n",
            "       'Sms_Reminder', 'AwaitingTime', 'AppointmentRegistration_year',\n",
            "       'AppointmentRegistration_month', 'AppointmentRegistration_day', 'ApointmentData_year',\n",
            "       'ApointmentData_month', 'ApointmentData_day', 'AppointmentRegistration_hour',\n",
            "       'AppointmentRegistration_min', 'AppointmentRegistration_sec'],\n",
            "      dtype='object')\n"
          ]
        }
      ],
      "source": [
        "# Remove the 'Handicap' column from the dataset\n",
        "data_cleaned = data_cleaned.drop(columns=['Handicap'], errors='ignore')\n",
        "\n",
        "# Verify the removal of the 'Handicap' column\n",
        "print(f\"Columns after removal: {data_cleaned.columns}\")\n"
      ]
    },
    {
      "cell_type": "markdown",
      "metadata": {
        "id": "hRhTe8Ix5lXv"
      },
      "source": [
        "        10- Make Values Within AwaitingTime Positive"
      ]
    },
    {
      "cell_type": "code",
      "execution_count": 14,
      "metadata": {
        "id": "j71mIecr5lXv"
      },
      "outputs": [],
      "source": [
        "data['AwaitingTime'] = data['AwaitingTime'].apply(lambda x: abs(x))"
      ]
    },
    {
      "cell_type": "markdown",
      "metadata": {
        "id": "19XMIy4J5lXv"
      },
      "source": [
        "The treatment of features on the basis of Dr. Judy deductions was completed. However, she recalled reading that most machine learning algorithms work best with integer or floating point input rather than in string format. She knew that the categorical variables in the dataset didn’t comply with this condition and hence it was important for her to recode the string categorical features to their integer counterparts. Dr. Judy started off by recoding DayOfTheWeek by binding the mapping from string to integer."
      ]
    },
    {
      "cell_type": "markdown",
      "metadata": {
        "id": "CUMAXG865lXv"
      },
      "source": [
        "        11- Recode String Categorical Feature DayOfTheWeek to Integers"
      ]
    },
    {
      "cell_type": "code",
      "execution_count": 15,
      "metadata": {
        "id": "3Jx6eAdo5lXv"
      },
      "outputs": [],
      "source": [
        "dow_mapping = {'Monday' : 0, 'Tuesday' : 1, 'Wednesday' : 2, 'Thursday' : 3, 'Friday' : 4, 'Saturday' : 5, 'Sunday' : 6}\n",
        "data['DayOfTheWeek'] = data['DayOfTheWeek'].map(dow_mapping)"
      ]
    },
    {
      "cell_type": "code",
      "execution_count": 16,
      "metadata": {
        "id": "R2HwwkIv5lXw",
        "outputId": "7fb10b75-cc13-42d7-f3bb-bf0083d8271e",
        "colab": {
          "base_uri": "https://localhost:8080/",
          "height": 313
        }
      },
      "outputs": [
        {
          "output_type": "execute_result",
          "data": {
            "text/plain": [
              "   Age Gender AppointmentRegistration        ApointmentData  DayOfTheWeek  \\\n",
              "0   19      M    2014-12-16T14:46:25Z  2015-01-14T00:00:00Z             2   \n",
              "1   24      F    2015-08-18T07:01:26Z  2015-08-19T00:00:00Z             2   \n",
              "2    4      F    2014-02-17T12:53:46Z  2014-02-18T00:00:00Z             1   \n",
              "3    5      M    2014-07-23T17:02:11Z  2014-08-07T00:00:00Z             3   \n",
              "4   38      M    2015-10-21T15:20:09Z  2015-10-27T00:00:00Z             1   \n",
              "\n",
              "    Status  Diabetes  Alcoolism  HiperTension  Handcap  Smokes  Scholarship  \\\n",
              "0  Show-Up         0          0             0        0       0            0   \n",
              "1  Show-Up         0          0             0        0       0            0   \n",
              "2  Show-Up         0          0             0        0       0            0   \n",
              "3  Show-Up         0          0             0        0       0            0   \n",
              "4  Show-Up         0          0             0        0       0            0   \n",
              "\n",
              "   Tuberculosis  Sms_Reminder  AwaitingTime  \n",
              "0             0             0            29  \n",
              "1             0             0             1  \n",
              "2             0             0             1  \n",
              "3             0             1            15  \n",
              "4             0             1             6  "
            ],
            "text/html": [
              "\n",
              "  <div id=\"df-83026d77-4385-4774-b391-6c67470886eb\" class=\"colab-df-container\">\n",
              "    <div>\n",
              "<style scoped>\n",
              "    .dataframe tbody tr th:only-of-type {\n",
              "        vertical-align: middle;\n",
              "    }\n",
              "\n",
              "    .dataframe tbody tr th {\n",
              "        vertical-align: top;\n",
              "    }\n",
              "\n",
              "    .dataframe thead th {\n",
              "        text-align: right;\n",
              "    }\n",
              "</style>\n",
              "<table border=\"1\" class=\"dataframe\">\n",
              "  <thead>\n",
              "    <tr style=\"text-align: right;\">\n",
              "      <th></th>\n",
              "      <th>Age</th>\n",
              "      <th>Gender</th>\n",
              "      <th>AppointmentRegistration</th>\n",
              "      <th>ApointmentData</th>\n",
              "      <th>DayOfTheWeek</th>\n",
              "      <th>Status</th>\n",
              "      <th>Diabetes</th>\n",
              "      <th>Alcoolism</th>\n",
              "      <th>HiperTension</th>\n",
              "      <th>Handcap</th>\n",
              "      <th>Smokes</th>\n",
              "      <th>Scholarship</th>\n",
              "      <th>Tuberculosis</th>\n",
              "      <th>Sms_Reminder</th>\n",
              "      <th>AwaitingTime</th>\n",
              "    </tr>\n",
              "  </thead>\n",
              "  <tbody>\n",
              "    <tr>\n",
              "      <th>0</th>\n",
              "      <td>19</td>\n",
              "      <td>M</td>\n",
              "      <td>2014-12-16T14:46:25Z</td>\n",
              "      <td>2015-01-14T00:00:00Z</td>\n",
              "      <td>2</td>\n",
              "      <td>Show-Up</td>\n",
              "      <td>0</td>\n",
              "      <td>0</td>\n",
              "      <td>0</td>\n",
              "      <td>0</td>\n",
              "      <td>0</td>\n",
              "      <td>0</td>\n",
              "      <td>0</td>\n",
              "      <td>0</td>\n",
              "      <td>29</td>\n",
              "    </tr>\n",
              "    <tr>\n",
              "      <th>1</th>\n",
              "      <td>24</td>\n",
              "      <td>F</td>\n",
              "      <td>2015-08-18T07:01:26Z</td>\n",
              "      <td>2015-08-19T00:00:00Z</td>\n",
              "      <td>2</td>\n",
              "      <td>Show-Up</td>\n",
              "      <td>0</td>\n",
              "      <td>0</td>\n",
              "      <td>0</td>\n",
              "      <td>0</td>\n",
              "      <td>0</td>\n",
              "      <td>0</td>\n",
              "      <td>0</td>\n",
              "      <td>0</td>\n",
              "      <td>1</td>\n",
              "    </tr>\n",
              "    <tr>\n",
              "      <th>2</th>\n",
              "      <td>4</td>\n",
              "      <td>F</td>\n",
              "      <td>2014-02-17T12:53:46Z</td>\n",
              "      <td>2014-02-18T00:00:00Z</td>\n",
              "      <td>1</td>\n",
              "      <td>Show-Up</td>\n",
              "      <td>0</td>\n",
              "      <td>0</td>\n",
              "      <td>0</td>\n",
              "      <td>0</td>\n",
              "      <td>0</td>\n",
              "      <td>0</td>\n",
              "      <td>0</td>\n",
              "      <td>0</td>\n",
              "      <td>1</td>\n",
              "    </tr>\n",
              "    <tr>\n",
              "      <th>3</th>\n",
              "      <td>5</td>\n",
              "      <td>M</td>\n",
              "      <td>2014-07-23T17:02:11Z</td>\n",
              "      <td>2014-08-07T00:00:00Z</td>\n",
              "      <td>3</td>\n",
              "      <td>Show-Up</td>\n",
              "      <td>0</td>\n",
              "      <td>0</td>\n",
              "      <td>0</td>\n",
              "      <td>0</td>\n",
              "      <td>0</td>\n",
              "      <td>0</td>\n",
              "      <td>0</td>\n",
              "      <td>1</td>\n",
              "      <td>15</td>\n",
              "    </tr>\n",
              "    <tr>\n",
              "      <th>4</th>\n",
              "      <td>38</td>\n",
              "      <td>M</td>\n",
              "      <td>2015-10-21T15:20:09Z</td>\n",
              "      <td>2015-10-27T00:00:00Z</td>\n",
              "      <td>1</td>\n",
              "      <td>Show-Up</td>\n",
              "      <td>0</td>\n",
              "      <td>0</td>\n",
              "      <td>0</td>\n",
              "      <td>0</td>\n",
              "      <td>0</td>\n",
              "      <td>0</td>\n",
              "      <td>0</td>\n",
              "      <td>1</td>\n",
              "      <td>6</td>\n",
              "    </tr>\n",
              "  </tbody>\n",
              "</table>\n",
              "</div>\n",
              "    <div class=\"colab-df-buttons\">\n",
              "\n",
              "  <div class=\"colab-df-container\">\n",
              "    <button class=\"colab-df-convert\" onclick=\"convertToInteractive('df-83026d77-4385-4774-b391-6c67470886eb')\"\n",
              "            title=\"Convert this dataframe to an interactive table.\"\n",
              "            style=\"display:none;\">\n",
              "\n",
              "  <svg xmlns=\"http://www.w3.org/2000/svg\" height=\"24px\" viewBox=\"0 -960 960 960\">\n",
              "    <path d=\"M120-120v-720h720v720H120Zm60-500h600v-160H180v160Zm220 220h160v-160H400v160Zm0 220h160v-160H400v160ZM180-400h160v-160H180v160Zm440 0h160v-160H620v160ZM180-180h160v-160H180v160Zm440 0h160v-160H620v160Z\"/>\n",
              "  </svg>\n",
              "    </button>\n",
              "\n",
              "  <style>\n",
              "    .colab-df-container {\n",
              "      display:flex;\n",
              "      gap: 12px;\n",
              "    }\n",
              "\n",
              "    .colab-df-convert {\n",
              "      background-color: #E8F0FE;\n",
              "      border: none;\n",
              "      border-radius: 50%;\n",
              "      cursor: pointer;\n",
              "      display: none;\n",
              "      fill: #1967D2;\n",
              "      height: 32px;\n",
              "      padding: 0 0 0 0;\n",
              "      width: 32px;\n",
              "    }\n",
              "\n",
              "    .colab-df-convert:hover {\n",
              "      background-color: #E2EBFA;\n",
              "      box-shadow: 0px 1px 2px rgba(60, 64, 67, 0.3), 0px 1px 3px 1px rgba(60, 64, 67, 0.15);\n",
              "      fill: #174EA6;\n",
              "    }\n",
              "\n",
              "    .colab-df-buttons div {\n",
              "      margin-bottom: 4px;\n",
              "    }\n",
              "\n",
              "    [theme=dark] .colab-df-convert {\n",
              "      background-color: #3B4455;\n",
              "      fill: #D2E3FC;\n",
              "    }\n",
              "\n",
              "    [theme=dark] .colab-df-convert:hover {\n",
              "      background-color: #434B5C;\n",
              "      box-shadow: 0px 1px 3px 1px rgba(0, 0, 0, 0.15);\n",
              "      filter: drop-shadow(0px 1px 2px rgba(0, 0, 0, 0.3));\n",
              "      fill: #FFFFFF;\n",
              "    }\n",
              "  </style>\n",
              "\n",
              "    <script>\n",
              "      const buttonEl =\n",
              "        document.querySelector('#df-83026d77-4385-4774-b391-6c67470886eb button.colab-df-convert');\n",
              "      buttonEl.style.display =\n",
              "        google.colab.kernel.accessAllowed ? 'block' : 'none';\n",
              "\n",
              "      async function convertToInteractive(key) {\n",
              "        const element = document.querySelector('#df-83026d77-4385-4774-b391-6c67470886eb');\n",
              "        const dataTable =\n",
              "          await google.colab.kernel.invokeFunction('convertToInteractive',\n",
              "                                                    [key], {});\n",
              "        if (!dataTable) return;\n",
              "\n",
              "        const docLinkHtml = 'Like what you see? Visit the ' +\n",
              "          '<a target=\"_blank\" href=https://colab.research.google.com/notebooks/data_table.ipynb>data table notebook</a>'\n",
              "          + ' to learn more about interactive tables.';\n",
              "        element.innerHTML = '';\n",
              "        dataTable['output_type'] = 'display_data';\n",
              "        await google.colab.output.renderOutput(dataTable, element);\n",
              "        const docLink = document.createElement('div');\n",
              "        docLink.innerHTML = docLinkHtml;\n",
              "        element.appendChild(docLink);\n",
              "      }\n",
              "    </script>\n",
              "  </div>\n",
              "\n",
              "\n",
              "<div id=\"df-177928bb-3145-4e4f-9b97-8ac7db7137ba\">\n",
              "  <button class=\"colab-df-quickchart\" onclick=\"quickchart('df-177928bb-3145-4e4f-9b97-8ac7db7137ba')\"\n",
              "            title=\"Suggest charts\"\n",
              "            style=\"display:none;\">\n",
              "\n",
              "<svg xmlns=\"http://www.w3.org/2000/svg\" height=\"24px\"viewBox=\"0 0 24 24\"\n",
              "     width=\"24px\">\n",
              "    <g>\n",
              "        <path d=\"M19 3H5c-1.1 0-2 .9-2 2v14c0 1.1.9 2 2 2h14c1.1 0 2-.9 2-2V5c0-1.1-.9-2-2-2zM9 17H7v-7h2v7zm4 0h-2V7h2v10zm4 0h-2v-4h2v4z\"/>\n",
              "    </g>\n",
              "</svg>\n",
              "  </button>\n",
              "\n",
              "<style>\n",
              "  .colab-df-quickchart {\n",
              "      --bg-color: #E8F0FE;\n",
              "      --fill-color: #1967D2;\n",
              "      --hover-bg-color: #E2EBFA;\n",
              "      --hover-fill-color: #174EA6;\n",
              "      --disabled-fill-color: #AAA;\n",
              "      --disabled-bg-color: #DDD;\n",
              "  }\n",
              "\n",
              "  [theme=dark] .colab-df-quickchart {\n",
              "      --bg-color: #3B4455;\n",
              "      --fill-color: #D2E3FC;\n",
              "      --hover-bg-color: #434B5C;\n",
              "      --hover-fill-color: #FFFFFF;\n",
              "      --disabled-bg-color: #3B4455;\n",
              "      --disabled-fill-color: #666;\n",
              "  }\n",
              "\n",
              "  .colab-df-quickchart {\n",
              "    background-color: var(--bg-color);\n",
              "    border: none;\n",
              "    border-radius: 50%;\n",
              "    cursor: pointer;\n",
              "    display: none;\n",
              "    fill: var(--fill-color);\n",
              "    height: 32px;\n",
              "    padding: 0;\n",
              "    width: 32px;\n",
              "  }\n",
              "\n",
              "  .colab-df-quickchart:hover {\n",
              "    background-color: var(--hover-bg-color);\n",
              "    box-shadow: 0 1px 2px rgba(60, 64, 67, 0.3), 0 1px 3px 1px rgba(60, 64, 67, 0.15);\n",
              "    fill: var(--button-hover-fill-color);\n",
              "  }\n",
              "\n",
              "  .colab-df-quickchart-complete:disabled,\n",
              "  .colab-df-quickchart-complete:disabled:hover {\n",
              "    background-color: var(--disabled-bg-color);\n",
              "    fill: var(--disabled-fill-color);\n",
              "    box-shadow: none;\n",
              "  }\n",
              "\n",
              "  .colab-df-spinner {\n",
              "    border: 2px solid var(--fill-color);\n",
              "    border-color: transparent;\n",
              "    border-bottom-color: var(--fill-color);\n",
              "    animation:\n",
              "      spin 1s steps(1) infinite;\n",
              "  }\n",
              "\n",
              "  @keyframes spin {\n",
              "    0% {\n",
              "      border-color: transparent;\n",
              "      border-bottom-color: var(--fill-color);\n",
              "      border-left-color: var(--fill-color);\n",
              "    }\n",
              "    20% {\n",
              "      border-color: transparent;\n",
              "      border-left-color: var(--fill-color);\n",
              "      border-top-color: var(--fill-color);\n",
              "    }\n",
              "    30% {\n",
              "      border-color: transparent;\n",
              "      border-left-color: var(--fill-color);\n",
              "      border-top-color: var(--fill-color);\n",
              "      border-right-color: var(--fill-color);\n",
              "    }\n",
              "    40% {\n",
              "      border-color: transparent;\n",
              "      border-right-color: var(--fill-color);\n",
              "      border-top-color: var(--fill-color);\n",
              "    }\n",
              "    60% {\n",
              "      border-color: transparent;\n",
              "      border-right-color: var(--fill-color);\n",
              "    }\n",
              "    80% {\n",
              "      border-color: transparent;\n",
              "      border-right-color: var(--fill-color);\n",
              "      border-bottom-color: var(--fill-color);\n",
              "    }\n",
              "    90% {\n",
              "      border-color: transparent;\n",
              "      border-bottom-color: var(--fill-color);\n",
              "    }\n",
              "  }\n",
              "</style>\n",
              "\n",
              "  <script>\n",
              "    async function quickchart(key) {\n",
              "      const quickchartButtonEl =\n",
              "        document.querySelector('#' + key + ' button');\n",
              "      quickchartButtonEl.disabled = true;  // To prevent multiple clicks.\n",
              "      quickchartButtonEl.classList.add('colab-df-spinner');\n",
              "      try {\n",
              "        const charts = await google.colab.kernel.invokeFunction(\n",
              "            'suggestCharts', [key], {});\n",
              "      } catch (error) {\n",
              "        console.error('Error during call to suggestCharts:', error);\n",
              "      }\n",
              "      quickchartButtonEl.classList.remove('colab-df-spinner');\n",
              "      quickchartButtonEl.classList.add('colab-df-quickchart-complete');\n",
              "    }\n",
              "    (() => {\n",
              "      let quickchartButtonEl =\n",
              "        document.querySelector('#df-177928bb-3145-4e4f-9b97-8ac7db7137ba button');\n",
              "      quickchartButtonEl.style.display =\n",
              "        google.colab.kernel.accessAllowed ? 'block' : 'none';\n",
              "    })();\n",
              "  </script>\n",
              "</div>\n",
              "\n",
              "    </div>\n",
              "  </div>\n"
            ],
            "application/vnd.google.colaboratory.intrinsic+json": {
              "type": "dataframe",
              "variable_name": "data"
            }
          },
          "metadata": {},
          "execution_count": 16
        }
      ],
      "source": [
        "data.head()"
      ]
    },
    {
      "cell_type": "markdown",
      "metadata": {
        "id": "UuwkMU4J5lXw"
      },
      "source": [
        "Dr. Judy explained her recoding methodology as follows:\n",
        "\n",
        "There exists methods for automatic recoding of categorical variables. These methods perform the recoding in an alphabetic order such that if categories for a feature are Male and Female, then it will assign a code of 0 to Female and 1 to Male. DayOfTheWeek is an ordinal quantity; hence I decided to do the mapping manually. However, this is not the case in the Gender and Status features as they are nominal in nature. Hence, I will be using the predefined method to do the recoding automatically .\n",
        "\n",
        "Dr. Judy performed the recoding for ‘Gender’ and ‘Status’"
      ]
    },
    {
      "cell_type": "markdown",
      "metadata": {
        "id": "sXNmVPIa5lXw"
      },
      "source": [
        "        12- Recode String Categorical Features ('Gender', 'Status') to Integers using pands.Categorical method(). (1 point)"
      ]
    },
    {
      "cell_type": "code",
      "execution_count": 17,
      "metadata": {
        "id": "kyMQJ6495lXw",
        "colab": {
          "base_uri": "https://localhost:8080/"
        },
        "outputId": "e533e1fd-3d62-4497-e567-5965af2e931b"
      },
      "outputs": [
        {
          "output_type": "stream",
          "name": "stdout",
          "text": [
            "Recode completed.\n",
            "Unique values in 'Gender' after recoding: [1 0]\n",
            "Unique values in 'Status' after recoding: [1 0]\n"
          ]
        }
      ],
      "source": [
        "# Recode 'Gender' and 'Status' using pandas.Categorical\n",
        "data_cleaned['Gender'] = pd.Categorical(data_cleaned['Gender']).codes\n",
        "data_cleaned['Status'] = pd.Categorical(data_cleaned['Status']).codes\n",
        "\n",
        "# Verify the recoding\n",
        "print(\"Recode completed.\")\n",
        "print(\"Unique values in 'Gender' after recoding:\", data_cleaned['Gender'].unique())\n",
        "print(\"Unique values in 'Status' after recoding:\", data_cleaned['Status'].unique())\n"
      ]
    },
    {
      "cell_type": "markdown",
      "metadata": {
        "id": "AUDpCWMCmV08"
      },
      "source": [
        "### Performing Exploratory Data Analysis"
      ]
    },
    {
      "cell_type": "markdown",
      "metadata": {
        "id": "-Ua2vWRh5lXw"
      },
      "source": [
        "Rather than starting off with the exploratory data analysis (EDA), Dr. Judy believed it best to see the data visually to identify if there were patterns to which she could redirect the model. Dr. Judy believed that as people got older, their need to see a doctor would also increase. The notion behind this was that as people age, diseases increase exponentially. Hence she wrote the a code in to see if the relationship between these quantities is inversely proportional in reality or not."
      ]
    },
    {
      "cell_type": "markdown",
      "metadata": {
        "id": "A6Fc2bqT5lXw"
      },
      "source": [
        "        13- Plot a Scatter Plot Between Age and AwaitingTime. (1 point)"
      ]
    },
    {
      "cell_type": "code",
      "execution_count": 18,
      "metadata": {
        "collapsed": true,
        "id": "06_1FUnMmV08",
        "colab": {
          "base_uri": "https://localhost:8080/",
          "height": 896
        },
        "outputId": "0968ff4b-f5b4-4a64-dd5f-f8ee94c33d6d"
      },
      "outputs": [
        {
          "output_type": "display_data",
          "data": {
            "text/plain": [
              "<Figure size 800x500 with 1 Axes>"
            ],
            "image/png": "[encoded data removed]"
          },
          "metadata": {}
        },
        {
          "output_type": "execute_result",
          "data": {
            "text/plain": [
              "(0.0, 120.0)"
            ]
          },
          "metadata": {},
          "execution_count": 18
        },
        {
          "output_type": "display_data",
          "data": {
            "text/plain": [
              "<Figure size 1500x500 with 1 Axes>"
            ],
            "image/png": "[encoded data removed]"
          },
          "metadata": {}
        }
      ],
      "source": [
        "# Write your code here\n",
        "import matplotlib.pyplot as plt\n",
        "\n",
        "# Scatter plot for Age vs AwaitingTime\n",
        "plt.figure(figsize=(8, 5))\n",
        "plt.scatter(data_cleaned['Age'], data_cleaned['AwaitingTime'], alpha=0.5, color='blue')\n",
        "plt.title(\"Scatter Plot: Age vs AwaitingTime\")\n",
        "plt.xlabel(\"Age\")\n",
        "plt.ylabel(\"AwaitingTime\")\n",
        "plt.grid(True, linestyle='--', alpha=0.7)\n",
        "plt.show()\n",
        "\n",
        "\n",
        "\n",
        "\n",
        "plt.xlim(0, 120)\n",
        "plt.ylim(0, 120)"
      ]
    },
    {
      "cell_type": "markdown",
      "metadata": {
        "id": "9ByXdXHa5lXw"
      },
      "source": [
        "Dr. Judy wasn’t happy with the results as Scatter Plot gave a highly dispersed plot, with no signs of correlation at the start and a bit of negative correlation after the age of 90. Visual representation showed the earlier established hypothesis to have failed. However, she decided to validate this using a statistical correlation technique as well"
      ]
    },
    {
      "cell_type": "markdown",
      "metadata": {
        "id": "1pCNJJAg5lXx"
      },
      "source": [
        "        14- Calculate Pearson Correlation Between Age and AwaitingTime"
      ]
    },
    {
      "cell_type": "code",
      "execution_count": 22,
      "metadata": {
        "id": "N6r2fQqr5lXx",
        "outputId": "735ab9d7-a9f2-4926-9410-bfee24ec5fda",
        "colab": {
          "base_uri": "https://localhost:8080/"
        }
      },
      "outputs": [
        {
          "output_type": "stream",
          "name": "stdout",
          "text": [
            "Pearson Correlation Coefficient:\n",
            "                Age  AwaitingTime\n",
            "Age           1.000         0.004\n",
            "AwaitingTime  0.004         1.000\n"
          ]
        }
      ],
      "source": [
        "import pandas as pd\n",
        "\n",
        "# Set display options for better readability\n",
        "pd.set_option('display.width', 100)\n",
        "pd.set_option('display.precision', 3)  # Corrected precision option\n",
        "\n",
        "# Calculate Pearson correlation\n",
        "correlations = data_cleaned[['Age', 'AwaitingTime']].corr(method='pearson')\n",
        "\n",
        "# Print the correlation matrix\n",
        "print(\"Pearson Correlation Coefficient:\")\n",
        "print(correlations)\n",
        "\n"
      ]
    },
    {
      "cell_type": "markdown",
      "metadata": {
        "id": "iuZ5Bs075lXx"
      },
      "source": [
        "The correlation between Age and AwaitingTime was approaching 0 which deferred to the hypothesis she had established earlier. She was now interested to see if the increase in SMS reminders increased the likelihood of a patient showing up or not. For that reason she wrote a code to plot a stacked bar graph."
      ]
    },
    {
      "cell_type": "markdown",
      "metadata": {
        "id": "foGMQyN45lXx"
      },
      "source": [
        "        15- Show the effect on Status on the Basis of Number of SMS Reminders"
      ]
    },
    {
      "cell_type": "code",
      "execution_count": 55,
      "metadata": {
        "id": "9rH_2eEu5lXx",
        "outputId": "cca6bba8-83fa-4d15-8e83-b591aeb4745f",
        "colab": {
          "base_uri": "https://localhost:8080/",
          "height": 676
        }
      },
      "outputs": [
        {
          "output_type": "stream",
          "name": "stderr",
          "text": [
            "<ipython-input-55-89e5f024431a>:3: FutureWarning: \n",
            "\n",
            "Passing `palette` without assigning `hue` is deprecated and will be removed in v0.14.0. Assign the `x` variable to `hue` and set `legend=False` for the same effect.\n",
            "\n",
            "  sns.boxplot(x='Status', y='Sms_Reminder', data=data, palette='Set2')\n"
          ]
        },
        {
          "output_type": "display_data",
          "data": {
            "text/plain": [
              "<Figure size 800x600 with 1 Axes>"
            ],
            "image/png": "[encoded data removed]"
          },
          "metadata": {}
        }
      ],
      "source": [
        "# If Sms_Reminder is numeric, a box plot would work well\n",
        "plt.figure(figsize=(8, 6))\n",
        "sns.boxplot(x='Status', y='Sms_Reminder', data=data, palette='Set2')\n",
        "\n",
        "# Add labels and title\n",
        "plt.title('Effect of SMS Reminders on Appointment Status', fontsize=14)\n",
        "plt.xlabel('Status', fontsize=12)\n",
        "plt.ylabel('Number of SMS Reminders', fontsize=12)\n",
        "\n",
        "# Display the plot\n",
        "plt.show()"
      ]
    },
    {
      "cell_type": "markdown",
      "metadata": {
        "id": "BUTzpSw65lXx"
      },
      "source": [
        "Looking at above plot Dr. Judy noticed that the rate of change in the number of patients who showed up after one reminder relative to those who showed up when no reminder was sent was roughly 30% (i.e., (0.17 m – 0.13 m) / 0/13m), whereas the rate of change in the number of patients not showing up after one reminder relative to those who showed up when no reminder was sent was roughly 25% (i.e., (0.05 m – 0.04 m) / 0/04m0. She thus concluded that SMS reminders do marginally increase the likelihood of a patient showing up on his/her appointment day.\n",
        "\n",
        "Dr. Judy’s perspective was that the majority of the patients would show up in the middle of a week, whereas many of them changed their plans and would not show up for an appointment at the start or the end of the week. This she believed was due to the fact that the start and the end of the week are usually the busiest for businesses, while relief in work occurs during the middle of a week. She decided to validate her perspective in a code."
      ]
    },
    {
      "cell_type": "markdown",
      "metadata": {
        "id": "7OzJN6HI5lXx"
      },
      "source": [
        "        16- Show the effect on Appointment Day of the Week on the Basis of Number of SMS Reminders (1 points)"
      ]
    },
    {
      "cell_type": "code",
      "execution_count": 30,
      "metadata": {
        "id": "IZqiYKSw5lXx",
        "colab": {
          "base_uri": "https://localhost:8080/",
          "height": 607
        },
        "outputId": "728bd3ec-9ff9-4d37-e598-c1dad1918272"
      },
      "outputs": [
        {
          "output_type": "display_data",
          "data": {
            "text/plain": [
              "<Figure size 1000x600 with 1 Axes>"
            ],
            "image/png": "[encoded data removed]"
          },
          "metadata": {}
        }
      ],
      "source": [
        "import matplotlib.pyplot as plt\n",
        "\n",
        "# Group the data by DayOfTheWeek and Sms_Reminder, and count the number of occurrences\n",
        "data_dow_sms = data.groupby(['DayOfTheWeek', 'Sms_Reminder']).size().unstack().fillna(0)\n",
        "\n",
        "# Plot the data as a stacked bar chart\n",
        "data_dow_sms.plot(kind='bar', stacked=True, figsize=(10, 6))\n",
        "\n",
        "# Add titles and labels\n",
        "plt.title('Effect of Appointment Day of the Week on the Basis of Number of SMS Reminders')\n",
        "plt.xlabel('Day of the Week')\n",
        "plt.ylabel('Number of Appointments')\n",
        "plt.xticks(rotation=45, ha='right')  # Rotate the x-axis labels for better readability\n",
        "\n",
        "# Show the plot\n",
        "plt.tight_layout()\n",
        "plt.show()\n"
      ]
    },
    {
      "cell_type": "markdown",
      "metadata": {
        "id": "ZZjAqrvo5lXy"
      },
      "source": [
        "Dr. Judy pointed out that in above plot, 0 represents Monday whereas 6 represents Sunday, with rest of the days lying within in order. Close to no patients showed up on Saturdays, and the clinic was closed on Sundays. The rate of change of no-shows stayed pretty much the same for the remaining five days, whereas the distribution of show-ups seemed to have followed a bell-shaped curve, with most patients showing up on Wednesdays."
      ]
    },
    {
      "cell_type": "markdown",
      "metadata": {
        "id": "yYiIume45lXy"
      },
      "source": [
        "Dr. Judy believed that people who are younger are more likely to be busy and to have a job. Because of that they might be short of time and highly likely to not show up at the time of their appointment. She initially thought of finding the measure of center (i.e., mean or median) to validate her hypothesis. However, she wasn’t sure which one of the center of measures she should go forward with (i.e., mean, median, or mode)."
      ]
    },
    {
      "cell_type": "markdown",
      "metadata": {
        "id": "S77rBhfS5lXy"
      },
      "source": [
        "She recalled from Feature Representation plots that a huge chunk of observations in Age have a value of 0. This she knew could turn out into a disadvantage while calculating the mean as then it will pull the mean toward the lower side. Hence she believed a better measure to be the median, which is unaffected by outliers. Thus she planned on plotting a box plot of Age grouped by Status."
      ]
    },
    {
      "cell_type": "markdown",
      "metadata": {
        "id": "BLQ27zHl5lXy"
      },
      "source": [
        "        17- Plot Box Plot of Patients’ Age by Status ( 1 point)"
      ]
    },
    {
      "cell_type": "code",
      "execution_count": 31,
      "metadata": {
        "id": "SI2ZLxQz5lXy",
        "colab": {
          "base_uri": "https://localhost:8080/",
          "height": 607
        },
        "outputId": "8426f895-6461-4e53-b53e-aa30e323cded"
      },
      "outputs": [
        {
          "output_type": "display_data",
          "data": {
            "text/plain": [
              "<Figure size 800x600 with 1 Axes>"
            ],
            "image/png": "[encoded data removed]"
          },
          "metadata": {}
        }
      ],
      "source": [
        "import seaborn as sns\n",
        "import matplotlib.pyplot as plt\n",
        "\n",
        "# Plot a boxplot for Age based on Status\n",
        "plt.figure(figsize=(8, 6))\n",
        "sns.boxplot(x='Status', y='Age', data=data)\n",
        "\n",
        "# Add titles and labels\n",
        "plt.title(\"Box Plot of Patients' Age by Status\")\n",
        "plt.xlabel('Status (Show / No Show)')\n",
        "plt.ylabel('Age')\n",
        "\n",
        "# Show the plot\n",
        "plt.tight_layout()\n",
        "plt.show()\n"
      ]
    },
    {
      "cell_type": "markdown",
      "metadata": {
        "id": "aiIV84sO5lXy"
      },
      "source": [
        "She was thrilled to see the results in box plot as her hypothesis held true as the median age of people showing up (i.e., 40) turned out to be relatively greater than that of those not showing up (i.e., 32). She also pointed to the fact that the upper limit (i.e., quartile 3) of people showing up is 58, which is relatively higher than that of those of not showing up (i.e., 52)."
      ]
    },
    {
      "cell_type": "markdown",
      "metadata": {
        "id": "pIvj5VLM5lXy"
      },
      "source": [
        "Dr. Judy decided to analyze Age against Status for both genders separately. For that reason she wrote the code below to plot line graphs."
      ]
    },
    {
      "cell_type": "markdown",
      "metadata": {
        "id": "GqMRDe5x5lXy"
      },
      "source": [
        "        18- Plot Line Plot of Age by Gender for Patients Status-Wise\n"
      ]
    },
    {
      "cell_type": "code",
      "execution_count": 32,
      "metadata": {
        "id": "_2Af4K0d5lXy",
        "outputId": "9d739e83-26b3-4e70-e8e3-b95149064f2d",
        "colab": {
          "base_uri": "https://localhost:8080/",
          "height": 332
        }
      },
      "outputs": [
        {
          "output_type": "display_data",
          "data": {
            "text/plain": [
              "<Figure size 1500x350 with 2 Axes>"
            ],
            "image/png": "[encoded data removed]"
          },
          "metadata": {}
        }
      ],
      "source": [
        "plt.figure(figsize=(15,3.5))\n",
        "\n",
        "for i, status in enumerate(['no show ups', 'show ups']):\n",
        "\n",
        "    data_show = data[data['Status']==i]\n",
        "    plt.subplot(1, 2, i+1)\n",
        "\n",
        "    for gender in [0, 1]:\n",
        "        data_gender = data_show[data_show['Gender']==gender]\n",
        "        freq_age = data_gender['Age'].value_counts().sort_index()\n",
        "        freq_age.plot()\n",
        "\n",
        "    plt.title('Age wise frequency of patient %s for both genders'%status)\n",
        "    plt.xlabel('Age')\n",
        "    plt.ylabel('Frequency')\n",
        "    plt.legend(['Female', 'Male'], loc='upper left')"
      ]
    },
    {
      "cell_type": "markdown",
      "metadata": {
        "id": "hqga2Rdy5lXz"
      },
      "source": [
        "Age pattern for males seems to be similar for both statuses, contrary to that of females which varies across statuses. Females in the age range of 42 to 62 are likely to show up on the date and time of their appointment.\n",
        "\n",
        "Dr. Judy believed that people having a long AwaitingTime (i.e., days to appointment) would have preferred to see another doctor rather than waiting so long. She believed that another reason for not showing up on the appointment date could be that if a disease is seasonal it is likely to be cured after some prevention techniques or home-based remedies. Hence, by the time their appointment date arrives, the patients decide not to consult the doctor. She decided to see if this was true from the data at hand."
      ]
    },
    {
      "cell_type": "markdown",
      "metadata": {
        "id": "eMGVtWGf5lXz"
      },
      "source": [
        "        19- Plot Box Plot of AwaitingTime by Status (1 point)"
      ]
    },
    {
      "cell_type": "code",
      "execution_count": 35,
      "metadata": {
        "id": "pO2HNyXk5lXz",
        "colab": {
          "base_uri": "https://localhost:8080/",
          "height": 607
        },
        "outputId": "bb2f5891-ea2d-4242-9e72-47edb4ae17f8"
      },
      "outputs": [
        {
          "output_type": "display_data",
          "data": {
            "text/plain": [
              "<Figure size 800x600 with 1 Axes>"
            ],
            "image/png": "[encoded data removed]"
          },
          "metadata": {}
        }
      ],
      "source": [
        "import seaborn as sns\n",
        "import matplotlib.pyplot as plt\n",
        "\n",
        "# Plot a boxplot for AwaitingTime based on Status\n",
        "plt.figure(figsize=(8, 6))\n",
        "sns.boxplot(x='Status', y='AwaitingTime', data=data)\n",
        "\n",
        "# Add titles and labels\n",
        "plt.title(\"Box Plot of AwaitingTime by Status\")\n",
        "plt.xlabel('Status (Show / No Show)')\n",
        "plt.ylabel('Awaiting Time (Days)')\n",
        "\n",
        "# Show the plot\n",
        "plt.tight_layout()\n",
        "plt.show()\n"
      ]
    },
    {
      "cell_type": "markdown",
      "metadata": {
        "id": "O4W5giF15lXz"
      },
      "source": [
        "After looking at above box plot, Dr. Judy deduced that patients who have their AwaitingTime in the third quartile are relatively more likely to not to show up, which supported her earlier laid null hypothesis—with increasing waiting time the likelihood of patient not showing up also increases. She also pointed out that the median in both the status instances is close to zero."
      ]
    },
    {
      "cell_type": "markdown",
      "metadata": {
        "id": "4o1SlKwP5lXz"
      },
      "source": [
        "Dr. Judy was thrilled as exploratory data analysis provided her with many insights. Summing up, she observed that SMS reminders increased the likelihood of a patient showing up on time. She also noticed that younger patients more often did not show up at their appointment times whereas older patients were more disciplined and showed up on time. She also saw that people with long waiting times decided not to show up on their appointed date and times. Dr. Judy now had a fair idea that no-shows to appointment was the reason for losses, and she had gained insight into what leads people to exhibit this behavior. Now she was planning to move ahead and make a classification model to predict the likelihood of a patient to show up or not in the future. This was important because if she knew the total number of patients who would show up on a given day, week, or month, she could tune the resources likewise to save costs. However, before starting with this classification, she wondered whether she could extract more features out of the existing ones by means of features’ generation. She believed this would help her capture the variability and definite patterns within the dataset"
      ]
    },
    {
      "cell_type": "markdown",
      "metadata": {
        "id": "mHu2knAh5lXz"
      },
      "source": [
        "### Features’ Generation"
      ]
    },
    {
      "cell_type": "markdown",
      "metadata": {
        "id": "itir6q_J5lXz"
      },
      "source": [
        "In machine learning, the greater the number of observations and feature sets within the dataset, the greater the likelihood that the model will capture the variability within it, to understand its true essence. Dr. Judy knew that increasing the number of observations was not an option; however, she could increase the feature sets within the dataset. Dr. Judy was clueless as to how she could extract more features from the existing features. After much thinking, she decided to break the features having dates into more granular date components. She wrote the code below cell to apply her logic to features named AppointmentRegistration and AppointmentDate."
      ]
    },
    {
      "cell_type": "markdown",
      "metadata": {
        "id": "tjdzJmEN5lXz"
      },
      "source": [
        "        20-Breaking Date Features into Date Components"
      ]
    },
    {
      "cell_type": "code",
      "execution_count": 36,
      "metadata": {
        "id": "91KmF78b5lXz"
      },
      "outputs": [],
      "source": [
        "for col in ['AppointmentRegistration', 'ApointmentData']:\n",
        "    for index, component in enumerate(['year', 'month', 'day']):\n",
        "        data['%s_%s'%(col, component)] = data[col].apply(lambda x: int(x.split('T')[0].split('-')[index]))"
      ]
    },
    {
      "cell_type": "markdown",
      "metadata": {
        "id": "deIe2zQb5lX0"
      },
      "source": [
        "Dr. Judy explained that the above code broke AppointmentRegistration and AppointmentData features into their respective year, month, and day components. However, it didn’t break them into their time components because ApointmentData doesn’t have a time component within its string object, whereas AppointmentRegistration feature does have it. Hence she wrote a code to break the AppointmentRegistration feature into its time component as well."
      ]
    },
    {
      "cell_type": "markdown",
      "metadata": {
        "id": "39fCTDhL5lX0"
      },
      "source": [
        "        21- Breaking AppointmentRegistration into Time Components"
      ]
    },
    {
      "cell_type": "code",
      "execution_count": 37,
      "metadata": {
        "id": "xy-EQHvQ5lX0"
      },
      "outputs": [],
      "source": [
        "for index, component in enumerate(['hour', 'min', 'sec']):\n",
        "    data['%s_%s'%('AppointmentRegistration', component)] = data['AppointmentRegistration'].apply(\n",
        "       lambda x: int(x.split('T')[1][:-1].split(':')[index]))"
      ]
    },
    {
      "cell_type": "markdown",
      "metadata": {
        "id": "z3ymSvFA5lX0"
      },
      "source": [
        "To witness the step of features generation, she print Observations of the Dataset"
      ]
    },
    {
      "cell_type": "code",
      "execution_count": null,
      "metadata": {
        "id": "DFEUzJFG5lX0",
        "outputId": "55d492ac-06a5-4c8e-a7a0-176d3bb1e872"
      },
      "outputs": [
        {
          "data": {
            "text/html": [
              "<div>\n",
              "<style scoped>\n",
              "    .dataframe tbody tr th:only-of-type {\n",
              "        vertical-align: middle;\n",
              "    }\n",
              "\n",
              "    .dataframe tbody tr th {\n",
              "        vertical-align: top;\n",
              "    }\n",
              "\n",
              "    .dataframe thead th {\n",
              "        text-align: right;\n",
              "    }\n",
              "</style>\n",
              "<table border=\"1\" class=\"dataframe\">\n",
              "  <thead>\n",
              "    <tr style=\"text-align: right;\">\n",
              "      <th></th>\n",
              "      <th>Age</th>\n",
              "      <th>Gender</th>\n",
              "      <th>AppointmentRegistration</th>\n",
              "      <th>ApointmentData</th>\n",
              "      <th>DayOfTheWeek</th>\n",
              "      <th>Status</th>\n",
              "      <th>Diabetes</th>\n",
              "      <th>Alcoolism</th>\n",
              "      <th>HiperTension</th>\n",
              "      <th>Smokes</th>\n",
              "      <th>...</th>\n",
              "      <th>AwaitingTime</th>\n",
              "      <th>AppointmentRegistration_year</th>\n",
              "      <th>AppointmentRegistration_month</th>\n",
              "      <th>AppointmentRegistration_day</th>\n",
              "      <th>ApointmentData_year</th>\n",
              "      <th>ApointmentData_month</th>\n",
              "      <th>ApointmentData_day</th>\n",
              "      <th>AppointmentRegistration_hour</th>\n",
              "      <th>AppointmentRegistration_min</th>\n",
              "      <th>AppointmentRegistration_sec</th>\n",
              "    </tr>\n",
              "  </thead>\n",
              "  <tbody>\n",
              "    <tr>\n",
              "      <th>0</th>\n",
              "      <td>19</td>\n",
              "      <td>1</td>\n",
              "      <td>2014-12-16T14:46:25Z</td>\n",
              "      <td>2015-01-14T00:00:00Z</td>\n",
              "      <td>2</td>\n",
              "      <td>1</td>\n",
              "      <td>0</td>\n",
              "      <td>0</td>\n",
              "      <td>0</td>\n",
              "      <td>0</td>\n",
              "      <td>...</td>\n",
              "      <td>29</td>\n",
              "      <td>2014</td>\n",
              "      <td>12</td>\n",
              "      <td>16</td>\n",
              "      <td>2015</td>\n",
              "      <td>1</td>\n",
              "      <td>14</td>\n",
              "      <td>14</td>\n",
              "      <td>46</td>\n",
              "      <td>25</td>\n",
              "    </tr>\n",
              "    <tr>\n",
              "      <th>1</th>\n",
              "      <td>24</td>\n",
              "      <td>0</td>\n",
              "      <td>2015-08-18T07:01:26Z</td>\n",
              "      <td>2015-08-19T00:00:00Z</td>\n",
              "      <td>2</td>\n",
              "      <td>1</td>\n",
              "      <td>0</td>\n",
              "      <td>0</td>\n",
              "      <td>0</td>\n",
              "      <td>0</td>\n",
              "      <td>...</td>\n",
              "      <td>1</td>\n",
              "      <td>2015</td>\n",
              "      <td>8</td>\n",
              "      <td>18</td>\n",
              "      <td>2015</td>\n",
              "      <td>8</td>\n",
              "      <td>19</td>\n",
              "      <td>7</td>\n",
              "      <td>1</td>\n",
              "      <td>26</td>\n",
              "    </tr>\n",
              "    <tr>\n",
              "      <th>2</th>\n",
              "      <td>4</td>\n",
              "      <td>0</td>\n",
              "      <td>2014-02-17T12:53:46Z</td>\n",
              "      <td>2014-02-18T00:00:00Z</td>\n",
              "      <td>1</td>\n",
              "      <td>1</td>\n",
              "      <td>0</td>\n",
              "      <td>0</td>\n",
              "      <td>0</td>\n",
              "      <td>0</td>\n",
              "      <td>...</td>\n",
              "      <td>1</td>\n",
              "      <td>2014</td>\n",
              "      <td>2</td>\n",
              "      <td>17</td>\n",
              "      <td>2014</td>\n",
              "      <td>2</td>\n",
              "      <td>18</td>\n",
              "      <td>12</td>\n",
              "      <td>53</td>\n",
              "      <td>46</td>\n",
              "    </tr>\n",
              "    <tr>\n",
              "      <th>3</th>\n",
              "      <td>5</td>\n",
              "      <td>1</td>\n",
              "      <td>2014-07-23T17:02:11Z</td>\n",
              "      <td>2014-08-07T00:00:00Z</td>\n",
              "      <td>3</td>\n",
              "      <td>1</td>\n",
              "      <td>0</td>\n",
              "      <td>0</td>\n",
              "      <td>0</td>\n",
              "      <td>0</td>\n",
              "      <td>...</td>\n",
              "      <td>15</td>\n",
              "      <td>2014</td>\n",
              "      <td>7</td>\n",
              "      <td>23</td>\n",
              "      <td>2014</td>\n",
              "      <td>8</td>\n",
              "      <td>7</td>\n",
              "      <td>17</td>\n",
              "      <td>2</td>\n",
              "      <td>11</td>\n",
              "    </tr>\n",
              "    <tr>\n",
              "      <th>4</th>\n",
              "      <td>38</td>\n",
              "      <td>1</td>\n",
              "      <td>2015-10-21T15:20:09Z</td>\n",
              "      <td>2015-10-27T00:00:00Z</td>\n",
              "      <td>1</td>\n",
              "      <td>1</td>\n",
              "      <td>0</td>\n",
              "      <td>0</td>\n",
              "      <td>0</td>\n",
              "      <td>0</td>\n",
              "      <td>...</td>\n",
              "      <td>6</td>\n",
              "      <td>2015</td>\n",
              "      <td>10</td>\n",
              "      <td>21</td>\n",
              "      <td>2015</td>\n",
              "      <td>10</td>\n",
              "      <td>27</td>\n",
              "      <td>15</td>\n",
              "      <td>20</td>\n",
              "      <td>9</td>\n",
              "    </tr>\n",
              "  </tbody>\n",
              "</table>\n",
              "<p>5 rows × 23 columns</p>\n",
              "</div>"
            ],
            "text/plain": [
              "   Age  Gender AppointmentRegistration        ApointmentData  DayOfTheWeek  Status  Diabetes  \\\n",
              "0   19       1    2014-12-16T14:46:25Z  2015-01-14T00:00:00Z             2       1         0   \n",
              "1   24       0    2015-08-18T07:01:26Z  2015-08-19T00:00:00Z             2       1         0   \n",
              "2    4       0    2014-02-17T12:53:46Z  2014-02-18T00:00:00Z             1       1         0   \n",
              "3    5       1    2014-07-23T17:02:11Z  2014-08-07T00:00:00Z             3       1         0   \n",
              "4   38       1    2015-10-21T15:20:09Z  2015-10-27T00:00:00Z             1       1         0   \n",
              "\n",
              "   Alcoolism  HiperTension  Smokes  ...  AwaitingTime  AppointmentRegistration_year  \\\n",
              "0          0             0       0  ...            29                          2014   \n",
              "1          0             0       0  ...             1                          2015   \n",
              "2          0             0       0  ...             1                          2014   \n",
              "3          0             0       0  ...            15                          2014   \n",
              "4          0             0       0  ...             6                          2015   \n",
              "\n",
              "   AppointmentRegistration_month  AppointmentRegistration_day  ApointmentData_year  \\\n",
              "0                             12                           16                 2015   \n",
              "1                              8                           18                 2015   \n",
              "2                              2                           17                 2014   \n",
              "3                              7                           23                 2014   \n",
              "4                             10                           21                 2015   \n",
              "\n",
              "   ApointmentData_month  ApointmentData_day  AppointmentRegistration_hour  \\\n",
              "0                     1                  14                            14   \n",
              "1                     8                  19                             7   \n",
              "2                     2                  18                            12   \n",
              "3                     8                   7                            17   \n",
              "4                    10                  27                            15   \n",
              "\n",
              "   AppointmentRegistration_min  AppointmentRegistration_sec  \n",
              "0                           46                           25  \n",
              "1                            1                           26  \n",
              "2                           53                           46  \n",
              "3                            2                           11  \n",
              "4                           20                            9  \n",
              "\n",
              "[5 rows x 23 columns]"
            ]
          },
          "execution_count": 84,
          "metadata": {},
          "output_type": "execute_result"
        }
      ],
      "source": [
        "data.head()"
      ]
    },
    {
      "cell_type": "markdown",
      "metadata": {
        "id": "ZqJfTVjh5lX0"
      },
      "source": [
        "Looking at above Table Dr. Judy was thrilled to see the features’ generation come true. The evidence was the columns representing the year, month, day, hour, minute, and second components of AppointmentData and AppointmentRegistration. Dr. Judy was well aware that her methodology of increasing the feature sets wasn’t the de facto technique as several other techniques achieving the same objective exist. She had some ideas about extracting more features; however, she went with the simplest one to save time. But she is open to collaboration if someone can help her extract other date components from the date features or help her transform the features into their Boolean counterparts."
      ]
    },
    {
      "cell_type": "markdown",
      "metadata": {
        "id": "AGGqHo5-5lX0"
      },
      "source": [
        " Dr. Judy was hopeful that this pool of features would now enable the classification model to better understand the dynamics of the underlying data. She was aware of what classification was, but her curiousity to learn more made her come up with the following material on the topic."
      ]
    },
    {
      "cell_type": "markdown",
      "metadata": {
        "id": "bBOcLlz25lX1"
      },
      "source": [
        "### Classification"
      ]
    },
    {
      "cell_type": "markdown",
      "metadata": {
        "id": "vvnsOvFP5lX1"
      },
      "source": [
        "Dr. Judy decided to define a method that would take the actual data and predict the goodness of the model. For that reason she wrote the following method:"
      ]
    },
    {
      "cell_type": "code",
      "execution_count": 38,
      "metadata": {
        "id": "A_Qyj-9s5lX1"
      },
      "outputs": [],
      "source": [
        "def model_performance(model_name, model, X_train, y_train, y_test, Y_pred):\n",
        "\n",
        "    print('Model name: %s'%model_name)\n",
        "    print('Test accuracy (Accuracy Score): %f'%metrics.accuracy_score(y_test, Y_pred))\n",
        "    print('Test accuracy (ROC AUC Score): %f'%metrics.roc_auc_score(y_test, Y_pred))\n",
        "    print('Train accuracy: %f'%model.score(X_train, y_train))\n",
        "\n",
        "    fpr, tpr, thresholds = metrics.precision_recall_curve(y_test, Y_pred)\n",
        "    print('Area Under the Precision-Recall Curve: %f'%metrics.auc(fpr, tpr))\n",
        "\n",
        "    false_positive_rate, true_positive_rate, thresholds = metrics.roc_curve(y_test, Y_pred)\n",
        "    roc_auc = metrics.auc(false_positive_rate, true_positive_rate)\n",
        "\n",
        "    plt.title('Receiver Operating Characteristic')\n",
        "    plt.plot(false_positive_rate, true_positive_rate, 'b',\n",
        "    label='AUC = %0.2f'% roc_auc)\n",
        "    plt.legend(loc='lower right')\n",
        "    plt.plot([0,1],[0,1],'r--')\n",
        "    plt.xlim([-0.1,1.2])\n",
        "    plt.ylim([-0.1,1.2])\n",
        "    plt.ylabel('True Positive Rate')\n",
        "    plt.xlabel('False Positive Rate')\n",
        "    plt.show()"
      ]
    },
    {
      "cell_type": "markdown",
      "metadata": {
        "id": "6siuXTcg5lX1"
      },
      "source": [
        "In order to cross-validate the model, Dr. Judy knew that she would have to split the data into training and testing data."
      ]
    },
    {
      "cell_type": "markdown",
      "metadata": {
        "id": "znjIYseD5lX1"
      },
      "source": [
        "Dr. Judy planned to train the model from the training dataset and then use that model to predict the values in the test dataset. She planned on doing so to determine the goodness of the model. She wrote the code for the training/testing split"
      ]
    },
    {
      "cell_type": "code",
      "execution_count": 39,
      "metadata": {
        "id": "DtuQoG2p5lX1"
      },
      "outputs": [],
      "source": [
        "# Declaring Features for Model Training:\n",
        "features_of_choice = [u'Age', u'Gender', 'DayOfTheWeek', 'Diabetes', 'Alcoolism', 'HiperTension',\n",
        "                        'Smokes', 'Scholarship', 'Tuberculosis', 'Sms_Reminder',\n",
        "                        'AwaitingTime', 'AppointmentRegistration_year', 'AppointmentRegistration_month',\n",
        "                        'AppointmentRegistration_day', 'ApointmentData_year', 'ApointmentData_month',\n",
        "                        'ApointmentData_day', 'AppointmentRegistration_hour', 'AppointmentRegistration_min',\n",
        "                        'AppointmentRegistration_sec']\n",
        "\n",
        "x = np.array(data[features_of_choice])\n",
        "y = np.array(data['Status'])"
      ]
    },
    {
      "cell_type": "markdown",
      "metadata": {
        "id": "im3sYOX85lX1"
      },
      "source": [
        "        22- Split Data ( x and y ) into Training and Testing Sets ( 1 point)\n",
        "        train the model with 70% of the samples and test with the remaining 30%."
      ]
    },
    {
      "cell_type": "code",
      "execution_count": 40,
      "metadata": {
        "id": "Iqn3cWVe5lX1",
        "colab": {
          "base_uri": "https://localhost:8080/"
        },
        "outputId": "43432c8b-c037-43d1-aa6f-0faf26aac9ad"
      },
      "outputs": [
        {
          "output_type": "stream",
          "name": "stdout",
          "text": [
            "Training data size: 210000 samples\n",
            "Testing data size: 90000 samples\n"
          ]
        }
      ],
      "source": [
        "from sklearn.model_selection import train_test_split\n",
        "\n",
        "# Split the data into training and testing sets (70% train, 30% test)\n",
        "x_train, x_test, y_train, y_test = train_test_split(x, y, test_size=0.3, random_state=42)\n",
        "\n",
        "# Check the shape of the resulting datasets\n",
        "print(f\"Training data size: {x_train.shape[0]} samples\")\n",
        "print(f\"Testing data size: {x_test.shape[0]} samples\")\n"
      ]
    },
    {
      "cell_type": "markdown",
      "metadata": {
        "id": "q1LU1Qn-5lX1"
      },
      "source": [
        "Dr. Judy explained her logic. She took a 70-30 split whereby 70% of the observations fall into training and 30% of observations fall into the test dataset."
      ]
    },
    {
      "cell_type": "markdown",
      "metadata": {
        "id": "Ko4pMjfQ5lX1"
      },
      "source": [
        "Before applying the classification model she thought it better to recall the reason for doing classification in the first place. With the aid of the exploratory analysis she had figured out the reason for recurring losses. Then she decided to go a further mile to find a remedy for this problem. She decided to use classification as an aid to predict if a patient will show up on his/her appointment day or not. This would enable management to do either of the following:\n",
        "\n",
        "Scale down the human resources (i.e., staff and doctors) to cut costs\n",
        "\n",
        "Determine the reasons for patients not showing up and find fixes for that problem\n",
        "\n",
        "While looking at classification, the only visual representation Dr. Judy could think of was a tree. As in the case of Status, the tree will have one parent node and two child nodes (i.e., show-ups and no-shows). While searching for classification models, she found a visual representation, Decision Tree Classification."
      ]
    },
    {
      "cell_type": "markdown",
      "metadata": {
        "id": "6UmNjMDv5lX2"
      },
      "source": [
        "#### Decision Tree Classification"
      ]
    },
    {
      "cell_type": "markdown",
      "metadata": {
        "id": "-MiNlN665lX2"
      },
      "source": [
        "Dr. Judy wrote a code to train the decision tree classification model on a training dataset. She used the test-train split variables."
      ]
    },
    {
      "cell_type": "markdown",
      "metadata": {
        "id": "zRmLp6zm5lX2"
      },
      "source": [
        "        23- Training the Model by Applying Decision Tree Classifier (1 point)"
      ]
    },
    {
      "cell_type": "code",
      "execution_count": 46,
      "metadata": {
        "id": "izd3Lq1wmV09",
        "colab": {
          "base_uri": "https://localhost:8080/"
        },
        "outputId": "f6edd315-fd4c-44da-8246-dc267a5c1c30"
      },
      "outputs": [
        {
          "output_type": "execute_result",
          "data": {
            "text/plain": [
              "<function print>"
            ]
          },
          "metadata": {},
          "execution_count": 46
        }
      ],
      "source": [
        "from sklearn.tree import DecisionTreeClassifier\n",
        "from sklearn.model_selection import train_test_split\n",
        "from sklearn.preprocessing import LabelEncoder\n",
        "import pandas as pd\n",
        "import numpy as np\n",
        "\n",
        "# Assuming you already have your data loaded into the 'data' dataframe\n",
        "\n",
        "# Encode categorical variables like Gender and Sms_Reminder\n",
        "label_encoder = LabelEncoder()\n",
        "data['Gender'] = label_encoder.fit_transform(data['Gender'])\n",
        "data['Sms_Reminder'] = label_encoder.fit_transform(data['Sms_Reminder'])\n",
        "\n",
        "# Define features and target\n",
        "features_of_choice = ['Age', 'Gender', 'Sms_Reminder']  # Choose features\n",
        "x = np.array(data[features_of_choice])\n",
        "y = np.array(data['Status'])  # Target column 'Status'\n",
        "\n",
        "# One-Hot Encoding for categorical variables like 'Gender' and others (if needed)\n",
        "data_encoded = pd.get_dummies(data[features_of_choice], drop_first=True)\n",
        "\n",
        "# Split the data into training and test sets\n",
        "x_train, x_test, y_train, y_test = train_test_split(data_encoded, y, test_size=0.3, random_state=42)\n",
        "\n",
        "# Initialize the DecisionTreeClassifier\n",
        "dt_classifier = DecisionTreeClassifier(random_state=42)\n",
        "\n",
        "# Train the Decision Tree Classifier\n",
        "dt_classifier.fit(x_train, y_train)\n",
        "\n",
        "# Check the training accuracy\n",
        "train_accuracy = dt_classifier.score(x_train, y_train)\n",
        "print\n"
      ]
    },
    {
      "cell_type": "markdown",
      "metadata": {
        "id": "VLIw7Gp35lX2"
      },
      "source": [
        "Dr. Judy pointed out that because no configuration parameters were passed to the decision tree classifier, it took the default values of configuration parameters. The next step was to apply the trained model on a testing dataset to find the predicted labels of Status. She then aimed to compare the predicted labels to the original label of Status to calculate accuracy of the model."
      ]
    },
    {
      "cell_type": "markdown",
      "metadata": {
        "id": "I7HweFcf5lX2"
      },
      "source": [
        "        24- Predict labels of Status by applying the trained model on a testing dataset ( 1 point)"
      ]
    },
    {
      "cell_type": "code",
      "execution_count": 47,
      "metadata": {
        "id": "A5rEMuK25lX2",
        "colab": {
          "base_uri": "https://localhost:8080/"
        },
        "outputId": "54265296-1686-451d-892c-04911beb2b47"
      },
      "outputs": [
        {
          "output_type": "stream",
          "name": "stdout",
          "text": [
            "Predictions for the test dataset (Decision Tree): ['Show-Up' 'Show-Up' 'Show-Up' ... 'Show-Up' 'Show-Up' 'No-Show']\n"
          ]
        }
      ],
      "source": [
        "# Predicting the labels of the test dataset using the trained Decision Tree model\n",
        "y_pred_dt = dt_classifier.predict(x_test)\n",
        "\n",
        "# Output the predictions\n",
        "print(f\"Predictions for the test dataset (Decision Tree): {y_pred_dt}\")\n"
      ]
    },
    {
      "cell_type": "markdown",
      "metadata": {
        "id": "P1N7cXo15lX2"
      },
      "source": [
        "        25- Finding the performance of Decision Tree Classifier using the predefined model_performance method (1 point)"
      ]
    },
    {
      "cell_type": "code",
      "execution_count": 48,
      "metadata": {
        "id": "OHSrOggC5lX2",
        "colab": {
          "base_uri": "https://localhost:8080/"
        },
        "outputId": "3d3d9397-0227-40ab-f3eb-99083073e8f8"
      },
      "outputs": [
        {
          "output_type": "stream",
          "name": "stdout",
          "text": [
            "Accuracy: 0.6985\n",
            "Classification Report:\n",
            "               precision    recall  f1-score   support\n",
            "\n",
            "     No-Show       0.42      0.00      0.00     27123\n",
            "     Show-Up       0.70      1.00      0.82     62877\n",
            "\n",
            "    accuracy                           0.70     90000\n",
            "   macro avg       0.56      0.50      0.41     90000\n",
            "weighted avg       0.62      0.70      0.58     90000\n",
            "\n",
            "Confusion Matrix:\n",
            " [[   33 27090]\n",
            " [   45 62832]]\n"
          ]
        }
      ],
      "source": [
        "from sklearn.metrics import accuracy_score, classification_report, confusion_matrix\n",
        "\n",
        "# Define the model performance method\n",
        "def model_performance(y_true, y_pred):\n",
        "    print(\"Accuracy:\", accuracy_score(y_true, y_pred))\n",
        "    print(\"Classification Report:\\n\", classification_report(y_true, y_pred))\n",
        "    print(\"Confusion Matrix:\\n\", confusion_matrix(y_true, y_pred))\n",
        "\n",
        "# Call the method to evaluate the Decision Tree model\n",
        "model_performance(y_test, y_pred_dt)\n"
      ]
    },
    {
      "cell_type": "markdown",
      "metadata": {
        "id": "AJ_Ds-ue5lX2"
      },
      "source": [
        "#### Ensemble Methods:\n",
        "##### Random Forest Classification"
      ]
    },
    {
      "cell_type": "markdown",
      "metadata": {
        "id": "Mz_sfk1_5lX2"
      },
      "source": [
        "        26- Training RandomForest (RF) Classifier on Training Dataset (1 point)\n",
        "\n"
      ]
    },
    {
      "cell_type": "code",
      "execution_count": 49,
      "metadata": {
        "id": "dPNC7MoB5lX2",
        "colab": {
          "base_uri": "https://localhost:8080/"
        },
        "outputId": "c943415f-b62b-4c2d-a96a-e4ad1d22255d"
      },
      "outputs": [
        {
          "output_type": "stream",
          "name": "stdout",
          "text": [
            "Training Accuracy (Random Forest): 0.70\n"
          ]
        }
      ],
      "source": [
        "from sklearn.ensemble import RandomForestClassifier\n",
        "\n",
        "# Initialize the RandomForestClassifier\n",
        "rf_classifier = RandomForestClassifier(random_state=42)\n",
        "\n",
        "# Train the model on the training dataset\n",
        "rf_classifier.fit(x_train, y_train)\n",
        "\n",
        "# Check the training accuracy\n",
        "train_accuracy_rf = rf_classifier.score(x_train, y_train)\n",
        "print(f\"Training Accuracy (Random Forest): {train_accuracy_rf:.2f}\")"
      ]
    },
    {
      "cell_type": "markdown",
      "metadata": {
        "id": "ln3L8Let5lX3"
      },
      "source": [
        "        27- Predict labels of Status by applying the RF trained model on a testing dataset ( 1 point)"
      ]
    },
    {
      "cell_type": "code",
      "execution_count": 50,
      "metadata": {
        "id": "TCm_-LKk5lX3",
        "colab": {
          "base_uri": "https://localhost:8080/"
        },
        "outputId": "605c8812-a259-47a0-8b66-8fe2128ab040"
      },
      "outputs": [
        {
          "output_type": "stream",
          "name": "stdout",
          "text": [
            "Predictions for the test dataset (Random Forest): ['Show-Up' 'Show-Up' 'Show-Up' ... 'Show-Up' 'Show-Up' 'No-Show']\n"
          ]
        }
      ],
      "source": [
        "# Predicting the labels of the test dataset using the trained Random Forest model\n",
        "y_pred_rf = rf_classifier.predict(x_test)\n",
        "\n",
        "# Output the predictions\n",
        "print(f\"Predictions for the test dataset (Random Forest): {y_pred_rf}\")"
      ]
    },
    {
      "cell_type": "markdown",
      "metadata": {
        "id": "l_hEMKC45lX3"
      },
      "source": [
        "         28- Finding the performance of RF Classifier using the predefined model_performance method (1 point)"
      ]
    },
    {
      "cell_type": "code",
      "execution_count": 51,
      "metadata": {
        "id": "fI9iEEkj5lX3",
        "colab": {
          "base_uri": "https://localhost:8080/"
        },
        "outputId": "68947acf-70ee-4062-c50f-22d58429d84f"
      },
      "outputs": [
        {
          "output_type": "stream",
          "name": "stdout",
          "text": [
            "Accuracy: 0.6985\n",
            "Classification Report:\n",
            "               precision    recall  f1-score   support\n",
            "\n",
            "     No-Show       0.38      0.00      0.00     27123\n",
            "     Show-Up       0.70      1.00      0.82     62877\n",
            "\n",
            "    accuracy                           0.70     90000\n",
            "   macro avg       0.54      0.50      0.41     90000\n",
            "weighted avg       0.60      0.70      0.58     90000\n",
            "\n",
            "Confusion Matrix:\n",
            " [[   19 27104]\n",
            " [   31 62846]]\n"
          ]
        }
      ],
      "source": [
        "# Call the model_performance method for Random Forest model\n",
        "model_performance(y_test, y_pred_rf)"
      ]
    },
    {
      "cell_type": "markdown",
      "metadata": {
        "id": "PaUOHI4V5lX3"
      },
      "source": [
        "##### Gradient Boosting (GB)\n"
      ]
    },
    {
      "cell_type": "markdown",
      "metadata": {
        "id": "J_FmqeR-5lX3"
      },
      "source": [
        "        29- Training GB Classifier on Training Dataset ( 1 point)\n"
      ]
    },
    {
      "cell_type": "code",
      "execution_count": 52,
      "metadata": {
        "id": "1H51D6V2mV0-",
        "colab": {
          "base_uri": "https://localhost:8080/"
        },
        "outputId": "be51fb19-db4e-4da2-c78b-79ff62d1f7f3"
      },
      "outputs": [
        {
          "output_type": "stream",
          "name": "stdout",
          "text": [
            "Training Accuracy (Gradient Boosting): 0.70\n"
          ]
        }
      ],
      "source": [
        "from sklearn.ensemble import GradientBoostingClassifier\n",
        "\n",
        "# Initialize the GradientBoostingClassifier\n",
        "gb_classifier = GradientBoostingClassifier(random_state=42)\n",
        "\n",
        "# Train the model on the training dataset\n",
        "gb_classifier.fit(x_train, y_train)\n",
        "\n",
        "# Check the training accuracy\n",
        "train_accuracy_gb = gb_classifier.score(x_train, y_train)\n",
        "print(f\"Training Accuracy (Gradient Boosting): {train_accuracy_gb:.2f}\")"
      ]
    },
    {
      "cell_type": "markdown",
      "metadata": {
        "id": "DZyn_lSk5lX3"
      },
      "source": [
        "        30- Predict labels of Status by applying the GB trained model on a testing dataset ( 1 point)"
      ]
    },
    {
      "cell_type": "code",
      "execution_count": 53,
      "metadata": {
        "id": "kk2YWXKr5lX3",
        "colab": {
          "base_uri": "https://localhost:8080/"
        },
        "outputId": "4c73d58f-8281-4d61-d1bb-eeeff018d054"
      },
      "outputs": [
        {
          "output_type": "stream",
          "name": "stdout",
          "text": [
            "Predictions for the test dataset (Gradient Boosting): ['Show-Up' 'Show-Up' 'Show-Up' ... 'Show-Up' 'Show-Up' 'Show-Up']\n"
          ]
        }
      ],
      "source": [
        "# Predicting the labels of the test dataset using the trained Gradient Boosting model\n",
        "y_pred_gb = gb_classifier.predict(x_test)\n",
        "\n",
        "# Output the predictions\n",
        "print(f\"Predictions for the test dataset (Gradient Boosting): {y_pred_gb}\")"
      ]
    },
    {
      "cell_type": "markdown",
      "metadata": {
        "id": "ZEhUQ48k5lX3"
      },
      "source": [
        "       31- Finding the performance of GB Classifier using the predefined model_performance method (1 point)"
      ]
    },
    {
      "cell_type": "code",
      "execution_count": 54,
      "metadata": {
        "id": "wjhFwRo85lX3",
        "colab": {
          "base_uri": "https://localhost:8080/"
        },
        "outputId": "c70c38b5-d3f6-4b00-d6e4-1a4858718e2e"
      },
      "outputs": [
        {
          "output_type": "stream",
          "name": "stdout",
          "text": [
            "Accuracy: 0.6986222222222223\n",
            "Classification Report:\n",
            "               precision    recall  f1-score   support\n",
            "\n",
            "     No-Show       0.00      0.00      0.00     27123\n",
            "     Show-Up       0.70      1.00      0.82     62877\n",
            "\n",
            "    accuracy                           0.70     90000\n",
            "   macro avg       0.35      0.50      0.41     90000\n",
            "weighted avg       0.49      0.70      0.57     90000\n",
            "\n",
            "Confusion Matrix:\n",
            " [[    0 27123]\n",
            " [    1 62876]]\n"
          ]
        }
      ],
      "source": [
        "# Call the model_performance method for Gradient Boosting model\n",
        "model_performance(y_test, y_pred_gb)\n",
        "\n"
      ]
    },
    {
      "cell_type": "markdown",
      "metadata": {
        "id": "xvhPBpEUmV0-"
      },
      "source": [
        "        32- What do you observe about the performance of DT, RF, and GB models? (2 points)\n",
        "\n",
        "\n",
        "Decision Trees (DT): May overfit or underperform due to the high variance, especially with default parameters.\n",
        "Random Forest (RF): As an ensemble method, it typically performs better than individual decision trees, providing more stable and accurate results.\n",
        "Gradient Boosting (GB): Can perform very well, especially on complex datasets, but may require more computation time.\n",
        "\n",
        "\n",
        "\n",
        "\n"
      ]
    },
    {
      "cell_type": "markdown",
      "metadata": {
        "id": "xDelyQK85lX4"
      },
      "source": []
    },
    {
      "cell_type": "markdown",
      "metadata": {
        "id": "Mjlcj1va5lX4"
      },
      "source": [
        "        33- What can be applied to improve the model performance? (2 points)\n",
        "\n",
        "#### Write your answer here:"
      ]
    },
    {
      "cell_type": "markdown",
      "source": [
        "Hyperparameter tuning: Use techniques like grid search or random search to optimize model parameters (e.g., max_depth, n_estimators for Random Forest).\n",
        "Feature engineering: Focus on creating relevant features that better capture patterns in the data.\n",
        "Cross-validation: Use k-fold cross-validation to get a better estimate of model performance and reduce overfitting.\n",
        "Ensemble methods: Consider combining multiple models to increase accuracy (e.g., using voting classifiers)."
      ],
      "metadata": {
        "id": "cQvaPsSdPIGt"
      }
    },
    {
      "cell_type": "code",
      "source": [],
      "metadata": {
        "id": "VVLVzywBPAis"
      },
      "execution_count": 54,
      "outputs": []
    }
  ],
  "metadata": {
    "anaconda-cloud": {},
    "colab": {
      "provenance": [],
      "include_colab_link": true
    },
    "interpreter": {
      "hash": "9be90a182e443121e767cfcadea61fa0eeced8ec62a9bd8ae9861f6c1d839655"
    },
    "kernelspec": {
      "display_name": "Python 3.9.5 ('venvml')",
      "language": "python",
      "name": "python3"
    },
    "language_info": {
      "codemirror_mode": {
        "name": "ipython",
        "version": 3
      },
      "file_extension": ".py",
      "mimetype": "text/x-python",
      "name": "python",
      "nbconvert_exporter": "python",
      "pygments_lexer": "ipython3",
      "version": "3.9.5"
    }
  },
  "nbformat": 4,
  "nbformat_minor": 0
}